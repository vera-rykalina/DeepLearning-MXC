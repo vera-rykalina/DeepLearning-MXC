{
  "nbformat": 4,
  "nbformat_minor": 0,
  "metadata": {
    "colab": {
      "name": "Functions.ipynb",
      "provenance": [],
      "toc_visible": true,
      "authorship_tag": "ABX9TyNu+d/EmV4NuZMAijNEcsP8",
      "include_colab_link": true
    },
    "kernelspec": {
      "name": "python3",
      "display_name": "Python 3"
    },
    "language_info": {
      "name": "python"
    }
  },
  "cells": [
    {
      "cell_type": "markdown",
      "metadata": {
        "id": "view-in-github",
        "colab_type": "text"
      },
      "source": [
        "<a href=\"https://colab.research.google.com/github/vera-rykalina/PythonIntroDeepLearning/blob/main/Functions.ipynb\" target=\"_parent\"><img src=\"https://colab.research.google.com/assets/colab-badge.svg\" alt=\"Open In Colab\"/></a>"
      ]
    },
    {
      "cell_type": "markdown",
      "source": [
        "# Introduction to Python for Deep Learning - Functions"
      ],
      "metadata": {
        "id": "wMscqHru5Fyd"
      }
    },
    {
      "cell_type": "markdown",
      "source": [
        "# Inputs and Outputs"
      ],
      "metadata": {
        "id": "Kwcntg-C5brD"
      }
    },
    {
      "cell_type": "code",
      "execution_count": 4,
      "metadata": {
        "colab": {
          "base_uri": "https://localhost:8080/"
        },
        "id": "t8kjRXlV4rme",
        "outputId": "5238993d-41ec-4483-b5a2-2f843ca0a587"
      },
      "outputs": [
        {
          "output_type": "execute_result",
          "data": {
            "text/plain": [
              "105"
            ]
          },
          "metadata": {},
          "execution_count": 4
        }
      ],
      "source": [
        "# Function sum()\n",
        "sum([25, 35, 45])"
      ]
    },
    {
      "cell_type": "code",
      "source": [
        "alist = [25, 35, 45]\n",
        "sum(alist)"
      ],
      "metadata": {
        "colab": {
          "base_uri": "https://localhost:8080/"
        },
        "id": "z8OGehVb5Spn",
        "outputId": "82a2b9ba-5f0f-490b-de80-8f90fa3ab271"
      },
      "execution_count": 2,
      "outputs": [
        {
          "output_type": "execute_result",
          "data": {
            "text/plain": [
              "105"
            ]
          },
          "metadata": {},
          "execution_count": 2
        }
      ]
    },
    {
      "cell_type": "code",
      "source": [
        "# output = function(input)"
      ],
      "metadata": {
        "id": "ec28PSCe6mnH"
      },
      "execution_count": 3,
      "outputs": []
    },
    {
      "cell_type": "markdown",
      "source": [
        "## Practice\n",
        "\n",
        "- compute the mean (average) of a variable\n"
      ],
      "metadata": {
        "id": "ExC0udzy7jLy"
      }
    },
    {
      "cell_type": "code",
      "source": [
        "myvariable = [2, 5, 7, 10, 7, 8, 10, 11]\n",
        "print(len(myvariable))\n",
        "print(sum(myvariable))\n",
        "mean = sum(myvariable)/len(myvariable)\n",
        "print(f\"This is average of my variable: {mean}\")"
      ],
      "metadata": {
        "colab": {
          "base_uri": "https://localhost:8080/"
        },
        "id": "jAR5zmyY7G6c",
        "outputId": "d4c6737a-de9e-4f37-cfaf-52bb9ea7f246"
      },
      "execution_count": 10,
      "outputs": [
        {
          "output_type": "stream",
          "name": "stdout",
          "text": [
            "8\n",
            "60\n",
            "This is average of my variable: 7.5\n"
          ]
        }
      ]
    },
    {
      "cell_type": "markdown",
      "source": [
        "# Numpy"
      ],
      "metadata": {
        "id": "wYv1PHk89U8j"
      }
    },
    {
      "cell_type": "code",
      "source": [
        "# Import a library\n",
        "import numpy as np"
      ],
      "metadata": {
        "id": "gmXFAzEU7_fO"
      },
      "execution_count": 12,
      "outputs": []
    },
    {
      "cell_type": "code",
      "source": [
        "numbers = list(range(20))\n",
        "print(numbers)"
      ],
      "metadata": {
        "colab": {
          "base_uri": "https://localhost:8080/"
        },
        "id": "UyTXY8rb9opm",
        "outputId": "21643e62-40dd-404a-9744-9516f8b029c4"
      },
      "execution_count": 14,
      "outputs": [
        {
          "output_type": "stream",
          "name": "stdout",
          "text": [
            "[0, 1, 2, 3, 4, 5, 6, 7, 8, 9, 10, 11, 12, 13, 14, 15, 16, 17, 18, 19]\n"
          ]
        }
      ]
    },
    {
      "cell_type": "code",
      "source": [
        "# Numpy function mean()\n",
        "np.mean(numbers)"
      ],
      "metadata": {
        "colab": {
          "base_uri": "https://localhost:8080/"
        },
        "id": "ZPTuN28w93Jk",
        "outputId": "d5df37f7-9b2f-4d8f-9f7c-c43dc6f6c8f8"
      },
      "execution_count": 22,
      "outputs": [
        {
          "output_type": "execute_result",
          "data": {
            "text/plain": [
              "9.5"
            ]
          },
          "metadata": {},
          "execution_count": 22
        }
      ]
    },
    {
      "cell_type": "code",
      "source": [
        "# Numpy function linspace()\n",
        "z = np.linspace(1, 7, 5) # returns evenly spaced numbers over a specified interval\n",
        "print(z)\n",
        "print(type(z))"
      ],
      "metadata": {
        "colab": {
          "base_uri": "https://localhost:8080/"
        },
        "id": "2avrg-SM99aL",
        "outputId": "1d397184-f484-4261-e8b0-9d4769ac90f8"
      },
      "execution_count": 30,
      "outputs": [
        {
          "output_type": "stream",
          "name": "stdout",
          "text": [
            "[1.  2.5 4.  5.5 7. ]\n",
            "<class 'numpy.ndarray'>\n"
          ]
        }
      ]
    },
    {
      "cell_type": "code",
      "source": [
        "# Crearing arrays\n",
        "numbersNumpy = np.array(numbers)\n",
        "print(type(numbers))\n",
        "print(type(numbersNumpy)) "
      ],
      "metadata": {
        "colab": {
          "base_uri": "https://localhost:8080/"
        },
        "id": "9IFLKMCS-cBY",
        "outputId": "c4692c16-e2fc-4bee-e664-6e38f04d1973"
      },
      "execution_count": 24,
      "outputs": [
        {
          "output_type": "stream",
          "name": "stdout",
          "text": [
            "<class 'list'>\n",
            "<class 'numpy.ndarray'>\n"
          ]
        }
      ]
    },
    {
      "cell_type": "code",
      "source": [
        "# Mean()\n",
        "numbersNumpy.mean()"
      ],
      "metadata": {
        "colab": {
          "base_uri": "https://localhost:8080/"
        },
        "id": "V_6e4ayYAFwP",
        "outputId": "8922e974-9407-4b52-d5e6-9e3176473118"
      },
      "execution_count": 25,
      "outputs": [
        {
          "output_type": "execute_result",
          "data": {
            "text/plain": [
              "9.5"
            ]
          },
          "metadata": {},
          "execution_count": 25
        }
      ]
    },
    {
      "cell_type": "code",
      "source": [
        "# Min()\n",
        "numbersNumpy.min()"
      ],
      "metadata": {
        "colab": {
          "base_uri": "https://localhost:8080/"
        },
        "id": "X1cb2TioAZwV",
        "outputId": "e7397648-4218-4f38-e27c-1d22325850bf"
      },
      "execution_count": 27,
      "outputs": [
        {
          "output_type": "execute_result",
          "data": {
            "text/plain": [
              "0"
            ]
          },
          "metadata": {},
          "execution_count": 27
        }
      ]
    },
    {
      "cell_type": "code",
      "source": [
        "# Max()\n",
        "numbersNumpy.max()"
      ],
      "metadata": {
        "colab": {
          "base_uri": "https://localhost:8080/"
        },
        "id": "fPu-JyteAjOc",
        "outputId": "e6195daf-68cc-4202-80d6-8fc88ec00dc8"
      },
      "execution_count": 28,
      "outputs": [
        {
          "output_type": "execute_result",
          "data": {
            "text/plain": [
              "19"
            ]
          },
          "metadata": {},
          "execution_count": 28
        }
      ]
    },
    {
      "cell_type": "code",
      "source": [
        "# Some methods work on both lists numpy arrays\n",
        "print(np.max(numbers))\n",
        "print(np.max(numbersNumpy))"
      ],
      "metadata": {
        "colab": {
          "base_uri": "https://localhost:8080/"
        },
        "id": "_R-eENEmAris",
        "outputId": "23be81a8-5d83-4337-febd-ebb4610c044d"
      },
      "execution_count": 36,
      "outputs": [
        {
          "output_type": "stream",
          "name": "stdout",
          "text": [
            "19\n",
            "19\n"
          ]
        }
      ]
    },
    {
      "cell_type": "code",
      "source": [
        "# Importing a specific single function from the Numpy library\n",
        "from numpy import mean # one can add \"as\"\n",
        "mean(numbers)"
      ],
      "metadata": {
        "colab": {
          "base_uri": "https://localhost:8080/"
        },
        "id": "y_1qhb5PBVfA",
        "outputId": "a407454e-d248-41ad-a466-a7273d38d5bb"
      },
      "execution_count": 39,
      "outputs": [
        {
          "output_type": "execute_result",
          "data": {
            "text/plain": [
              "9.5"
            ]
          },
          "metadata": {},
          "execution_count": 39
        }
      ]
    },
    {
      "cell_type": "markdown",
      "source": [
        "## In-place/Out-of-place\n",
        "\n",
        "- in-place operations (a variable is changing)\n",
        "- out-of-place / not in-place operations"
      ],
      "metadata": {
        "id": "xnbhCNquDGZB"
      }
    },
    {
      "cell_type": "code",
      "source": [
        "# Reminder\n",
        "nums = [4,2,7,4,8,6,9,8]\n",
        "print(nums)\n",
        "nums.sort()\n",
        "print(nums)"
      ],
      "metadata": {
        "colab": {
          "base_uri": "https://localhost:8080/"
        },
        "id": "_lsfq-YmC2cg",
        "outputId": "9537d249-532e-4cfc-f21d-8d46ba317d53"
      },
      "execution_count": 54,
      "outputs": [
        {
          "output_type": "stream",
          "name": "stdout",
          "text": [
            "[4, 2, 7, 4, 8, 6, 9, 8]\n",
            "[2, 4, 4, 6, 7, 8, 8, 9]\n"
          ]
        }
      ]
    },
    {
      "cell_type": "code",
      "source": [
        "# Numpy method .sort()\n",
        "nums = [4,2,7,4,8,6,9,8]\n",
        "nXn = np.array(nums)\n",
        "print(nXn)\n",
        "nXn.sort()\n",
        "print(nXn)"
      ],
      "metadata": {
        "colab": {
          "base_uri": "https://localhost:8080/"
        },
        "id": "QadsX_PPDmPE",
        "outputId": "108747d3-1c55-4e4e-83a7-25bca6623ec3"
      },
      "execution_count": 55,
      "outputs": [
        {
          "output_type": "stream",
          "name": "stdout",
          "text": [
            "[4 2 7 4 8 6 9 8]\n",
            "[2 4 4 6 7 8 8 9]\n"
          ]
        }
      ]
    },
    {
      "cell_type": "code",
      "source": [
        "# Numpy function sort()\n",
        "nums = [4,2,7,4,8,6,9,8]\n",
        "\n",
        "# It is not an in-place operation \n",
        "nXn = np.array(nums)\n",
        "print(nXn)\n",
        "sorted = np.sort(nXn)\n",
        "print(sorted)"
      ],
      "metadata": {
        "colab": {
          "base_uri": "https://localhost:8080/"
        },
        "id": "sHYo_GqGEB2o",
        "outputId": "b6275089-a512-45aa-dc58-c62b49303818"
      },
      "execution_count": 56,
      "outputs": [
        {
          "output_type": "stream",
          "name": "stdout",
          "text": [
            "[4 2 7 4 8 6 9 8]\n",
            "[2 4 4 6 7 8 8 9]\n"
          ]
        }
      ]
    },
    {
      "cell_type": "markdown",
      "source": [
        "# Pandas"
      ],
      "metadata": {
        "id": "iBVD93w8GCCU"
      }
    },
    {
      "cell_type": "code",
      "source": [
        "# Import pandas library (datasets: observation/features)\n",
        "import pandas as pd"
      ],
      "metadata": {
        "id": "hK8qA9VGFNIW"
      },
      "execution_count": 58,
      "outputs": []
    },
    {
      "cell_type": "code",
      "source": [
        ""
      ],
      "metadata": {
        "id": "KFyV1NVFGWI0"
      },
      "execution_count": null,
      "outputs": []
    }
  ]
}