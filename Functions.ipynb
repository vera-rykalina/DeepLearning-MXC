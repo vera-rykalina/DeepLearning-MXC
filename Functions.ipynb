{
  "nbformat": 4,
  "nbformat_minor": 0,
  "metadata": {
    "colab": {
      "name": "Functions.ipynb",
      "provenance": [],
      "collapsed_sections": [
        "5ilZBF-Ru4dT"
      ],
      "authorship_tag": "ABX9TyME/EvYLQPfXU3xLpf7xpL1",
      "include_colab_link": true
    },
    "kernelspec": {
      "name": "python3",
      "display_name": "Python 3"
    },
    "language_info": {
      "name": "python"
    }
  },
  "cells": [
    {
      "cell_type": "markdown",
      "metadata": {
        "id": "view-in-github",
        "colab_type": "text"
      },
      "source": [
        "<a href=\"https://colab.research.google.com/github/vera-rykalina/DeepLearning-MXC/blob/main/Functions.ipynb\" target=\"_parent\"><img src=\"https://colab.research.google.com/assets/colab-badge.svg\" alt=\"Open In Colab\"/></a>"
      ]
    },
    {
      "cell_type": "markdown",
      "source": [
        "# Introduction to Python for Deep Learning - Functions"
      ],
      "metadata": {
        "id": "wMscqHru5Fyd"
      }
    },
    {
      "cell_type": "markdown",
      "source": [
        "# Inputs and Outputs"
      ],
      "metadata": {
        "id": "Kwcntg-C5brD"
      }
    },
    {
      "cell_type": "code",
      "execution_count": null,
      "metadata": {
        "colab": {
          "base_uri": "https://localhost:8080/"
        },
        "id": "t8kjRXlV4rme",
        "outputId": "5238993d-41ec-4483-b5a2-2f843ca0a587"
      },
      "outputs": [
        {
          "output_type": "execute_result",
          "data": {
            "text/plain": [
              "105"
            ]
          },
          "metadata": {},
          "execution_count": 4
        }
      ],
      "source": [
        "# Function sum()\n",
        "sum([25, 35, 45])"
      ]
    },
    {
      "cell_type": "code",
      "source": [
        "alist = [25, 35, 45]\n",
        "sum(alist)"
      ],
      "metadata": {
        "colab": {
          "base_uri": "https://localhost:8080/"
        },
        "id": "z8OGehVb5Spn",
        "outputId": "82a2b9ba-5f0f-490b-de80-8f90fa3ab271"
      },
      "execution_count": null,
      "outputs": [
        {
          "output_type": "execute_result",
          "data": {
            "text/plain": [
              "105"
            ]
          },
          "metadata": {},
          "execution_count": 2
        }
      ]
    },
    {
      "cell_type": "code",
      "source": [
        "# output = function(input)"
      ],
      "metadata": {
        "id": "ec28PSCe6mnH"
      },
      "execution_count": null,
      "outputs": []
    },
    {
      "cell_type": "markdown",
      "source": [
        "## Practice\n",
        "\n",
        "- compute the mean (average) of a variable\n"
      ],
      "metadata": {
        "id": "ExC0udzy7jLy"
      }
    },
    {
      "cell_type": "code",
      "source": [
        "myvariable = [2, 5, 7, 10, 7, 8, 10, 11]\n",
        "print(len(myvariable))\n",
        "print(sum(myvariable))\n",
        "mean = sum(myvariable)/len(myvariable)\n",
        "print(f\"This is average of my variable: {mean}\")"
      ],
      "metadata": {
        "colab": {
          "base_uri": "https://localhost:8080/"
        },
        "id": "jAR5zmyY7G6c",
        "outputId": "d4c6737a-de9e-4f37-cfaf-52bb9ea7f246"
      },
      "execution_count": null,
      "outputs": [
        {
          "output_type": "stream",
          "name": "stdout",
          "text": [
            "8\n",
            "60\n",
            "This is average of my variable: 7.5\n"
          ]
        }
      ]
    },
    {
      "cell_type": "markdown",
      "source": [
        "# Numpy"
      ],
      "metadata": {
        "id": "wYv1PHk89U8j"
      }
    },
    {
      "cell_type": "code",
      "source": [
        "# Import a library\n",
        "import numpy as np"
      ],
      "metadata": {
        "id": "gmXFAzEU7_fO"
      },
      "execution_count": null,
      "outputs": []
    },
    {
      "cell_type": "code",
      "source": [
        "numbers = list(range(20))\n",
        "print(numbers)"
      ],
      "metadata": {
        "colab": {
          "base_uri": "https://localhost:8080/"
        },
        "id": "UyTXY8rb9opm",
        "outputId": "21643e62-40dd-404a-9744-9516f8b029c4"
      },
      "execution_count": null,
      "outputs": [
        {
          "output_type": "stream",
          "name": "stdout",
          "text": [
            "[0, 1, 2, 3, 4, 5, 6, 7, 8, 9, 10, 11, 12, 13, 14, 15, 16, 17, 18, 19]\n"
          ]
        }
      ]
    },
    {
      "cell_type": "code",
      "source": [
        "# Numpy function mean()\n",
        "np.mean(numbers)"
      ],
      "metadata": {
        "colab": {
          "base_uri": "https://localhost:8080/"
        },
        "id": "ZPTuN28w93Jk",
        "outputId": "d5df37f7-9b2f-4d8f-9f7c-c43dc6f6c8f8"
      },
      "execution_count": null,
      "outputs": [
        {
          "output_type": "execute_result",
          "data": {
            "text/plain": [
              "9.5"
            ]
          },
          "metadata": {},
          "execution_count": 22
        }
      ]
    },
    {
      "cell_type": "code",
      "source": [
        "# Numpy function linspace()\n",
        "z = np.linspace(1, 7, 5) # returns evenly spaced numbers over a specified interval\n",
        "print(z)\n",
        "print(type(z))"
      ],
      "metadata": {
        "colab": {
          "base_uri": "https://localhost:8080/"
        },
        "id": "2avrg-SM99aL",
        "outputId": "1d397184-f484-4261-e8b0-9d4769ac90f8"
      },
      "execution_count": null,
      "outputs": [
        {
          "output_type": "stream",
          "name": "stdout",
          "text": [
            "[1.  2.5 4.  5.5 7. ]\n",
            "<class 'numpy.ndarray'>\n"
          ]
        }
      ]
    },
    {
      "cell_type": "code",
      "source": [
        "# Crearing arrays\n",
        "numbersNumpy = np.array(numbers)\n",
        "print(type(numbers))\n",
        "print(type(numbersNumpy)) "
      ],
      "metadata": {
        "colab": {
          "base_uri": "https://localhost:8080/"
        },
        "id": "9IFLKMCS-cBY",
        "outputId": "c4692c16-e2fc-4bee-e664-6e38f04d1973"
      },
      "execution_count": null,
      "outputs": [
        {
          "output_type": "stream",
          "name": "stdout",
          "text": [
            "<class 'list'>\n",
            "<class 'numpy.ndarray'>\n"
          ]
        }
      ]
    },
    {
      "cell_type": "code",
      "source": [
        "# Mean()\n",
        "numbersNumpy.mean()"
      ],
      "metadata": {
        "colab": {
          "base_uri": "https://localhost:8080/"
        },
        "id": "V_6e4ayYAFwP",
        "outputId": "8922e974-9407-4b52-d5e6-9e3176473118"
      },
      "execution_count": null,
      "outputs": [
        {
          "output_type": "execute_result",
          "data": {
            "text/plain": [
              "9.5"
            ]
          },
          "metadata": {},
          "execution_count": 25
        }
      ]
    },
    {
      "cell_type": "code",
      "source": [
        "# Min()\n",
        "numbersNumpy.min()"
      ],
      "metadata": {
        "colab": {
          "base_uri": "https://localhost:8080/"
        },
        "id": "X1cb2TioAZwV",
        "outputId": "e7397648-4218-4f38-e27c-1d22325850bf"
      },
      "execution_count": null,
      "outputs": [
        {
          "output_type": "execute_result",
          "data": {
            "text/plain": [
              "0"
            ]
          },
          "metadata": {},
          "execution_count": 27
        }
      ]
    },
    {
      "cell_type": "code",
      "source": [
        "# Max()\n",
        "numbersNumpy.max()"
      ],
      "metadata": {
        "colab": {
          "base_uri": "https://localhost:8080/"
        },
        "id": "fPu-JyteAjOc",
        "outputId": "e6195daf-68cc-4202-80d6-8fc88ec00dc8"
      },
      "execution_count": null,
      "outputs": [
        {
          "output_type": "execute_result",
          "data": {
            "text/plain": [
              "19"
            ]
          },
          "metadata": {},
          "execution_count": 28
        }
      ]
    },
    {
      "cell_type": "code",
      "source": [
        "# Some methods work on both lists numpy arrays\n",
        "print(np.max(numbers))\n",
        "print(np.max(numbersNumpy))"
      ],
      "metadata": {
        "colab": {
          "base_uri": "https://localhost:8080/"
        },
        "id": "_R-eENEmAris",
        "outputId": "23be81a8-5d83-4337-febd-ebb4610c044d"
      },
      "execution_count": null,
      "outputs": [
        {
          "output_type": "stream",
          "name": "stdout",
          "text": [
            "19\n",
            "19\n"
          ]
        }
      ]
    },
    {
      "cell_type": "code",
      "source": [
        "# Importing a specific single function from the Numpy library\n",
        "from numpy import mean # one can add \"as\"\n",
        "mean(numbers)"
      ],
      "metadata": {
        "colab": {
          "base_uri": "https://localhost:8080/"
        },
        "id": "y_1qhb5PBVfA",
        "outputId": "a407454e-d248-41ad-a466-a7273d38d5bb"
      },
      "execution_count": null,
      "outputs": [
        {
          "output_type": "execute_result",
          "data": {
            "text/plain": [
              "9.5"
            ]
          },
          "metadata": {},
          "execution_count": 39
        }
      ]
    },
    {
      "cell_type": "markdown",
      "source": [
        "## In-place/Out-of-place\n",
        "\n",
        "- in-place operations (a variable is changing)\n",
        "- out-of-place / not in-place operations"
      ],
      "metadata": {
        "id": "xnbhCNquDGZB"
      }
    },
    {
      "cell_type": "code",
      "source": [
        "# Reminder\n",
        "nums = [4,2,7,4,8,6,9,8]\n",
        "print(nums)\n",
        "nums.sort()\n",
        "print(nums)"
      ],
      "metadata": {
        "colab": {
          "base_uri": "https://localhost:8080/"
        },
        "id": "_lsfq-YmC2cg",
        "outputId": "9537d249-532e-4cfc-f21d-8d46ba317d53"
      },
      "execution_count": null,
      "outputs": [
        {
          "output_type": "stream",
          "name": "stdout",
          "text": [
            "[4, 2, 7, 4, 8, 6, 9, 8]\n",
            "[2, 4, 4, 6, 7, 8, 8, 9]\n"
          ]
        }
      ]
    },
    {
      "cell_type": "code",
      "source": [
        "# Numpy method .sort()\n",
        "nums = [4,2,7,4,8,6,9,8]\n",
        "nXn = np.array(nums)\n",
        "print(nXn)\n",
        "nXn.sort()\n",
        "print(nXn)"
      ],
      "metadata": {
        "colab": {
          "base_uri": "https://localhost:8080/"
        },
        "id": "QadsX_PPDmPE",
        "outputId": "108747d3-1c55-4e4e-83a7-25bca6623ec3"
      },
      "execution_count": null,
      "outputs": [
        {
          "output_type": "stream",
          "name": "stdout",
          "text": [
            "[4 2 7 4 8 6 9 8]\n",
            "[2 4 4 6 7 8 8 9]\n"
          ]
        }
      ]
    },
    {
      "cell_type": "code",
      "source": [
        "# Numpy function sort()\n",
        "nums = [4,2,7,4,8,6,9,8]\n",
        "\n",
        "# It is not an in-place operation \n",
        "nXn = np.array(nums)\n",
        "print(nXn)\n",
        "sorted = np.sort(nXn)\n",
        "print(sorted)"
      ],
      "metadata": {
        "colab": {
          "base_uri": "https://localhost:8080/"
        },
        "id": "sHYo_GqGEB2o",
        "outputId": "b6275089-a512-45aa-dc58-c62b49303818"
      },
      "execution_count": null,
      "outputs": [
        {
          "output_type": "stream",
          "name": "stdout",
          "text": [
            "[4 2 7 4 8 6 9 8]\n",
            "[2 4 4 6 7 8 8 9]\n"
          ]
        }
      ]
    },
    {
      "cell_type": "markdown",
      "source": [
        "# Pandas"
      ],
      "metadata": {
        "id": "iBVD93w8GCCU"
      }
    },
    {
      "cell_type": "code",
      "source": [
        "# Import pandas library (datasets: observation/features)\n",
        "import numpy as np\n",
        "import pandas as pd\n",
        "from numpy.random import randn"
      ],
      "metadata": {
        "id": "hK8qA9VGFNIW"
      },
      "execution_count": null,
      "outputs": []
    },
    {
      "cell_type": "markdown",
      "source": [
        "## Create random data"
      ],
      "metadata": {
        "id": "5ilZBF-Ru4dT"
      }
    },
    {
      "cell_type": "code",
      "source": [
        "# Random number generator\n",
        "# Returns 5 numbersfrom normal distribution (mean = 0, sd = 1\n",
        "randn(5) "
      ],
      "metadata": {
        "id": "KFyV1NVFGWI0",
        "colab": {
          "base_uri": "https://localhost:8080/"
        },
        "outputId": "10a3d43d-b168-437b-8c89-7d80a8bd196a"
      },
      "execution_count": null,
      "outputs": [
        {
          "output_type": "execute_result",
          "data": {
            "text/plain": [
              "array([-1.16313553,  1.13212908,  2.22093535,  0.37631606, -1.16056251])"
            ]
          },
          "metadata": {},
          "execution_count": 13
        }
      ]
    },
    {
      "cell_type": "code",
      "source": [
        "# Create random data\n",
        "# Returns 5 x 5 matrix with numbers from normal distribution (mean = 0, sd = 1)\n",
        "np.random.randn(5,5) "
      ],
      "metadata": {
        "colab": {
          "base_uri": "https://localhost:8080/"
        },
        "id": "6d8-buK9uSas",
        "outputId": "8525bf23-5a1f-4b84-b851-ffda3dd962f7"
      },
      "execution_count": null,
      "outputs": [
        {
          "output_type": "execute_result",
          "data": {
            "text/plain": [
              "array([[-0.88241575,  0.05092956,  0.24711482, -0.20101259,  0.27957831],\n",
              "       [ 0.1358239 , -2.2942917 ,  0.39679254,  1.38516105,  0.41648362],\n",
              "       [-0.25324936, -0.79288463, -0.31399177, -0.72120678,  0.26712771],\n",
              "       [-0.55542053, -0.05493844, -0.73198581,  0.32946792,  0.88809483],\n",
              "       [-0.405175  ,  0.16217321, -0.69174596,  0.21260879, -0.88422547]])"
            ]
          },
          "metadata": {},
          "execution_count": 14
        }
      ]
    },
    {
      "cell_type": "code",
      "source": [
        "# Create random data\n",
        "column1 = randn(80)*6 + 22\n",
        "print(column1)\n",
        "print(\"========================================================================\")\n",
        "column2 = randn(80) >0\n",
        "print(column2)\n",
        "\n",
        "# Create labels\n",
        "labels = [\"Temperature (C)\", \"Ice Cream\"]\n",
        "\n",
        "# Put variables together into a dictionary\n",
        "D = {labels[0] : column1, labels[1] : column2}\n",
        "print(\"========================================================================\")\n",
        "\n",
        "# Import a dictionary into pandas dataframe\n",
        "df = pd.DataFrame(data = D)\n",
        "print(type(df))"
      ],
      "metadata": {
        "colab": {
          "base_uri": "https://localhost:8080/"
        },
        "id": "jZu_AJF6uhzr",
        "outputId": "a836fd90-02ef-419e-e529-277a453a433f"
      },
      "execution_count": null,
      "outputs": [
        {
          "output_type": "stream",
          "name": "stdout",
          "text": [
            "[20.55071681 11.47590783 10.84442728 28.65092607 32.29536413 32.05826435\n",
            " 13.54095111 19.00211339 21.07484276 21.54576115 21.94665843 19.33665351\n",
            " 19.25821942 20.453346   12.833125   31.94598488 20.9660871  20.92649001\n",
            " 31.99247002 16.8372869  18.74680637 19.57960297 27.11726566 15.1738413\n",
            " 24.73872931 21.68956219 18.16854151 32.16070351 14.32149298 29.11244283\n",
            " 17.00536422 17.36453078 23.27934525 17.60977833 29.49653451 17.72985404\n",
            " 22.64894848 17.32225545 21.87980346 20.41801656 31.31995129  7.77666001\n",
            " 27.80278024 14.42077187 30.17094087 12.41285412 29.36601348 25.76922958\n",
            " 26.82903572 26.06745159 14.63802148 24.5903792  17.75426474 19.26184344\n",
            " 21.26560154 18.14012241 11.79439332 22.10637565 21.20337726 32.03388361\n",
            " 25.10223434 27.23109182 18.80369159 18.80695929 21.92328063 20.3239959\n",
            "  9.77748619 14.26696533 26.47657581 28.03135019 30.7195556  23.4789413\n",
            " 19.09104663 12.79927006 21.7056219  19.12855428 18.28747418 11.17500778\n",
            " 29.12599939 17.56142601]\n",
            "========================================================================\n",
            "[False False  True False  True False  True  True False  True False  True\n",
            "  True  True  True False  True  True False  True False False  True  True\n",
            " False  True  True  True  True False  True  True  True  True False False\n",
            "  True False  True False  True False False  True False False False False\n",
            " False  True False False  True  True False  True  True False False  True\n",
            "  True  True False  True False False False False False  True False False\n",
            " False False  True  True  True False  True False]\n",
            "========================================================================\n",
            "<class 'pandas.core.frame.DataFrame'>\n"
          ]
        }
      ]
    },
    {
      "cell_type": "code",
      "source": [
        "# Call dataframe\n",
        "df"
      ],
      "metadata": {
        "colab": {
          "base_uri": "https://localhost:8080/",
          "height": 424
        },
        "id": "7P0Wlnvuv_qK",
        "outputId": "e505a9d5-a93f-4dbc-dc30-960752d2a2a8"
      },
      "execution_count": null,
      "outputs": [
        {
          "output_type": "execute_result",
          "data": {
            "text/plain": [
              "    Temperature (C)  Ice Cream\n",
              "0         20.550717      False\n",
              "1         11.475908      False\n",
              "2         10.844427       True\n",
              "3         28.650926      False\n",
              "4         32.295364       True\n",
              "..              ...        ...\n",
              "75        19.128554       True\n",
              "76        18.287474       True\n",
              "77        11.175008      False\n",
              "78        29.125999       True\n",
              "79        17.561426      False\n",
              "\n",
              "[80 rows x 2 columns]"
            ],
            "text/html": [
              "\n",
              "  <div id=\"df-b2236eb6-48e4-4d01-b362-51c62d2f4f3f\">\n",
              "    <div class=\"colab-df-container\">\n",
              "      <div>\n",
              "<style scoped>\n",
              "    .dataframe tbody tr th:only-of-type {\n",
              "        vertical-align: middle;\n",
              "    }\n",
              "\n",
              "    .dataframe tbody tr th {\n",
              "        vertical-align: top;\n",
              "    }\n",
              "\n",
              "    .dataframe thead th {\n",
              "        text-align: right;\n",
              "    }\n",
              "</style>\n",
              "<table border=\"1\" class=\"dataframe\">\n",
              "  <thead>\n",
              "    <tr style=\"text-align: right;\">\n",
              "      <th></th>\n",
              "      <th>Temperature (C)</th>\n",
              "      <th>Ice Cream</th>\n",
              "    </tr>\n",
              "  </thead>\n",
              "  <tbody>\n",
              "    <tr>\n",
              "      <th>0</th>\n",
              "      <td>20.550717</td>\n",
              "      <td>False</td>\n",
              "    </tr>\n",
              "    <tr>\n",
              "      <th>1</th>\n",
              "      <td>11.475908</td>\n",
              "      <td>False</td>\n",
              "    </tr>\n",
              "    <tr>\n",
              "      <th>2</th>\n",
              "      <td>10.844427</td>\n",
              "      <td>True</td>\n",
              "    </tr>\n",
              "    <tr>\n",
              "      <th>3</th>\n",
              "      <td>28.650926</td>\n",
              "      <td>False</td>\n",
              "    </tr>\n",
              "    <tr>\n",
              "      <th>4</th>\n",
              "      <td>32.295364</td>\n",
              "      <td>True</td>\n",
              "    </tr>\n",
              "    <tr>\n",
              "      <th>...</th>\n",
              "      <td>...</td>\n",
              "      <td>...</td>\n",
              "    </tr>\n",
              "    <tr>\n",
              "      <th>75</th>\n",
              "      <td>19.128554</td>\n",
              "      <td>True</td>\n",
              "    </tr>\n",
              "    <tr>\n",
              "      <th>76</th>\n",
              "      <td>18.287474</td>\n",
              "      <td>True</td>\n",
              "    </tr>\n",
              "    <tr>\n",
              "      <th>77</th>\n",
              "      <td>11.175008</td>\n",
              "      <td>False</td>\n",
              "    </tr>\n",
              "    <tr>\n",
              "      <th>78</th>\n",
              "      <td>29.125999</td>\n",
              "      <td>True</td>\n",
              "    </tr>\n",
              "    <tr>\n",
              "      <th>79</th>\n",
              "      <td>17.561426</td>\n",
              "      <td>False</td>\n",
              "    </tr>\n",
              "  </tbody>\n",
              "</table>\n",
              "<p>80 rows × 2 columns</p>\n",
              "</div>\n",
              "      <button class=\"colab-df-convert\" onclick=\"convertToInteractive('df-b2236eb6-48e4-4d01-b362-51c62d2f4f3f')\"\n",
              "              title=\"Convert this dataframe to an interactive table.\"\n",
              "              style=\"display:none;\">\n",
              "        \n",
              "  <svg xmlns=\"http://www.w3.org/2000/svg\" height=\"24px\"viewBox=\"0 0 24 24\"\n",
              "       width=\"24px\">\n",
              "    <path d=\"M0 0h24v24H0V0z\" fill=\"none\"/>\n",
              "    <path d=\"M18.56 5.44l.94 2.06.94-2.06 2.06-.94-2.06-.94-.94-2.06-.94 2.06-2.06.94zm-11 1L8.5 8.5l.94-2.06 2.06-.94-2.06-.94L8.5 2.5l-.94 2.06-2.06.94zm10 10l.94 2.06.94-2.06 2.06-.94-2.06-.94-.94-2.06-.94 2.06-2.06.94z\"/><path d=\"M17.41 7.96l-1.37-1.37c-.4-.4-.92-.59-1.43-.59-.52 0-1.04.2-1.43.59L10.3 9.45l-7.72 7.72c-.78.78-.78 2.05 0 2.83L4 21.41c.39.39.9.59 1.41.59.51 0 1.02-.2 1.41-.59l7.78-7.78 2.81-2.81c.8-.78.8-2.07 0-2.86zM5.41 20L4 18.59l7.72-7.72 1.47 1.35L5.41 20z\"/>\n",
              "  </svg>\n",
              "      </button>\n",
              "      \n",
              "  <style>\n",
              "    .colab-df-container {\n",
              "      display:flex;\n",
              "      flex-wrap:wrap;\n",
              "      gap: 12px;\n",
              "    }\n",
              "\n",
              "    .colab-df-convert {\n",
              "      background-color: #E8F0FE;\n",
              "      border: none;\n",
              "      border-radius: 50%;\n",
              "      cursor: pointer;\n",
              "      display: none;\n",
              "      fill: #1967D2;\n",
              "      height: 32px;\n",
              "      padding: 0 0 0 0;\n",
              "      width: 32px;\n",
              "    }\n",
              "\n",
              "    .colab-df-convert:hover {\n",
              "      background-color: #E2EBFA;\n",
              "      box-shadow: 0px 1px 2px rgba(60, 64, 67, 0.3), 0px 1px 3px 1px rgba(60, 64, 67, 0.15);\n",
              "      fill: #174EA6;\n",
              "    }\n",
              "\n",
              "    [theme=dark] .colab-df-convert {\n",
              "      background-color: #3B4455;\n",
              "      fill: #D2E3FC;\n",
              "    }\n",
              "\n",
              "    [theme=dark] .colab-df-convert:hover {\n",
              "      background-color: #434B5C;\n",
              "      box-shadow: 0px 1px 3px 1px rgba(0, 0, 0, 0.15);\n",
              "      filter: drop-shadow(0px 1px 2px rgba(0, 0, 0, 0.3));\n",
              "      fill: #FFFFFF;\n",
              "    }\n",
              "  </style>\n",
              "\n",
              "      <script>\n",
              "        const buttonEl =\n",
              "          document.querySelector('#df-b2236eb6-48e4-4d01-b362-51c62d2f4f3f button.colab-df-convert');\n",
              "        buttonEl.style.display =\n",
              "          google.colab.kernel.accessAllowed ? 'block' : 'none';\n",
              "\n",
              "        async function convertToInteractive(key) {\n",
              "          const element = document.querySelector('#df-b2236eb6-48e4-4d01-b362-51c62d2f4f3f');\n",
              "          const dataTable =\n",
              "            await google.colab.kernel.invokeFunction('convertToInteractive',\n",
              "                                                     [key], {});\n",
              "          if (!dataTable) return;\n",
              "\n",
              "          const docLinkHtml = 'Like what you see? Visit the ' +\n",
              "            '<a target=\"_blank\" href=https://colab.research.google.com/notebooks/data_table.ipynb>data table notebook</a>'\n",
              "            + ' to learn more about interactive tables.';\n",
              "          element.innerHTML = '';\n",
              "          dataTable['output_type'] = 'display_data';\n",
              "          await google.colab.output.renderOutput(dataTable, element);\n",
              "          const docLink = document.createElement('div');\n",
              "          docLink.innerHTML = docLinkHtml;\n",
              "          element.appendChild(docLink);\n",
              "        }\n",
              "      </script>\n",
              "    </div>\n",
              "  </div>\n",
              "  "
            ]
          },
          "metadata": {},
          "execution_count": 33
        }
      ]
    },
    {
      "cell_type": "markdown",
      "source": [
        "## Dataframe methods"
      ],
      "metadata": {
        "id": "4qdkI52wyE6L"
      }
    },
    {
      "cell_type": "code",
      "source": [
        "# Method .head()\n",
        "df.head() # returns 5 top rows"
      ],
      "metadata": {
        "colab": {
          "base_uri": "https://localhost:8080/",
          "height": 206
        },
        "id": "3OMQrO0mx4iQ",
        "outputId": "3c16b444-59a7-45a1-f0af-8914367c6dd8"
      },
      "execution_count": null,
      "outputs": [
        {
          "output_type": "execute_result",
          "data": {
            "text/plain": [
              "   Temperature (C)  Ice Cream\n",
              "0        20.550717      False\n",
              "1        11.475908      False\n",
              "2        10.844427       True\n",
              "3        28.650926      False\n",
              "4        32.295364       True"
            ],
            "text/html": [
              "\n",
              "  <div id=\"df-75f5d94d-096f-46cb-bc2e-2195261da0ef\">\n",
              "    <div class=\"colab-df-container\">\n",
              "      <div>\n",
              "<style scoped>\n",
              "    .dataframe tbody tr th:only-of-type {\n",
              "        vertical-align: middle;\n",
              "    }\n",
              "\n",
              "    .dataframe tbody tr th {\n",
              "        vertical-align: top;\n",
              "    }\n",
              "\n",
              "    .dataframe thead th {\n",
              "        text-align: right;\n",
              "    }\n",
              "</style>\n",
              "<table border=\"1\" class=\"dataframe\">\n",
              "  <thead>\n",
              "    <tr style=\"text-align: right;\">\n",
              "      <th></th>\n",
              "      <th>Temperature (C)</th>\n",
              "      <th>Ice Cream</th>\n",
              "    </tr>\n",
              "  </thead>\n",
              "  <tbody>\n",
              "    <tr>\n",
              "      <th>0</th>\n",
              "      <td>20.550717</td>\n",
              "      <td>False</td>\n",
              "    </tr>\n",
              "    <tr>\n",
              "      <th>1</th>\n",
              "      <td>11.475908</td>\n",
              "      <td>False</td>\n",
              "    </tr>\n",
              "    <tr>\n",
              "      <th>2</th>\n",
              "      <td>10.844427</td>\n",
              "      <td>True</td>\n",
              "    </tr>\n",
              "    <tr>\n",
              "      <th>3</th>\n",
              "      <td>28.650926</td>\n",
              "      <td>False</td>\n",
              "    </tr>\n",
              "    <tr>\n",
              "      <th>4</th>\n",
              "      <td>32.295364</td>\n",
              "      <td>True</td>\n",
              "    </tr>\n",
              "  </tbody>\n",
              "</table>\n",
              "</div>\n",
              "      <button class=\"colab-df-convert\" onclick=\"convertToInteractive('df-75f5d94d-096f-46cb-bc2e-2195261da0ef')\"\n",
              "              title=\"Convert this dataframe to an interactive table.\"\n",
              "              style=\"display:none;\">\n",
              "        \n",
              "  <svg xmlns=\"http://www.w3.org/2000/svg\" height=\"24px\"viewBox=\"0 0 24 24\"\n",
              "       width=\"24px\">\n",
              "    <path d=\"M0 0h24v24H0V0z\" fill=\"none\"/>\n",
              "    <path d=\"M18.56 5.44l.94 2.06.94-2.06 2.06-.94-2.06-.94-.94-2.06-.94 2.06-2.06.94zm-11 1L8.5 8.5l.94-2.06 2.06-.94-2.06-.94L8.5 2.5l-.94 2.06-2.06.94zm10 10l.94 2.06.94-2.06 2.06-.94-2.06-.94-.94-2.06-.94 2.06-2.06.94z\"/><path d=\"M17.41 7.96l-1.37-1.37c-.4-.4-.92-.59-1.43-.59-.52 0-1.04.2-1.43.59L10.3 9.45l-7.72 7.72c-.78.78-.78 2.05 0 2.83L4 21.41c.39.39.9.59 1.41.59.51 0 1.02-.2 1.41-.59l7.78-7.78 2.81-2.81c.8-.78.8-2.07 0-2.86zM5.41 20L4 18.59l7.72-7.72 1.47 1.35L5.41 20z\"/>\n",
              "  </svg>\n",
              "      </button>\n",
              "      \n",
              "  <style>\n",
              "    .colab-df-container {\n",
              "      display:flex;\n",
              "      flex-wrap:wrap;\n",
              "      gap: 12px;\n",
              "    }\n",
              "\n",
              "    .colab-df-convert {\n",
              "      background-color: #E8F0FE;\n",
              "      border: none;\n",
              "      border-radius: 50%;\n",
              "      cursor: pointer;\n",
              "      display: none;\n",
              "      fill: #1967D2;\n",
              "      height: 32px;\n",
              "      padding: 0 0 0 0;\n",
              "      width: 32px;\n",
              "    }\n",
              "\n",
              "    .colab-df-convert:hover {\n",
              "      background-color: #E2EBFA;\n",
              "      box-shadow: 0px 1px 2px rgba(60, 64, 67, 0.3), 0px 1px 3px 1px rgba(60, 64, 67, 0.15);\n",
              "      fill: #174EA6;\n",
              "    }\n",
              "\n",
              "    [theme=dark] .colab-df-convert {\n",
              "      background-color: #3B4455;\n",
              "      fill: #D2E3FC;\n",
              "    }\n",
              "\n",
              "    [theme=dark] .colab-df-convert:hover {\n",
              "      background-color: #434B5C;\n",
              "      box-shadow: 0px 1px 3px 1px rgba(0, 0, 0, 0.15);\n",
              "      filter: drop-shadow(0px 1px 2px rgba(0, 0, 0, 0.3));\n",
              "      fill: #FFFFFF;\n",
              "    }\n",
              "  </style>\n",
              "\n",
              "      <script>\n",
              "        const buttonEl =\n",
              "          document.querySelector('#df-75f5d94d-096f-46cb-bc2e-2195261da0ef button.colab-df-convert');\n",
              "        buttonEl.style.display =\n",
              "          google.colab.kernel.accessAllowed ? 'block' : 'none';\n",
              "\n",
              "        async function convertToInteractive(key) {\n",
              "          const element = document.querySelector('#df-75f5d94d-096f-46cb-bc2e-2195261da0ef');\n",
              "          const dataTable =\n",
              "            await google.colab.kernel.invokeFunction('convertToInteractive',\n",
              "                                                     [key], {});\n",
              "          if (!dataTable) return;\n",
              "\n",
              "          const docLinkHtml = 'Like what you see? Visit the ' +\n",
              "            '<a target=\"_blank\" href=https://colab.research.google.com/notebooks/data_table.ipynb>data table notebook</a>'\n",
              "            + ' to learn more about interactive tables.';\n",
              "          element.innerHTML = '';\n",
              "          dataTable['output_type'] = 'display_data';\n",
              "          await google.colab.output.renderOutput(dataTable, element);\n",
              "          const docLink = document.createElement('div');\n",
              "          docLink.innerHTML = docLinkHtml;\n",
              "          element.appendChild(docLink);\n",
              "        }\n",
              "      </script>\n",
              "    </div>\n",
              "  </div>\n",
              "  "
            ]
          },
          "metadata": {},
          "execution_count": 34
        }
      ]
    },
    {
      "cell_type": "code",
      "source": [
        "# Method .count()\n",
        "df.count() # returns number of observations for each columns"
      ],
      "metadata": {
        "colab": {
          "base_uri": "https://localhost:8080/"
        },
        "id": "Ubddfc1PygXt",
        "outputId": "7db5d211-8d82-4031-f1ce-3abbdae8da62"
      },
      "execution_count": null,
      "outputs": [
        {
          "output_type": "execute_result",
          "data": {
            "text/plain": [
              "Temperature (C)    80\n",
              "Ice Cream          80\n",
              "dtype: int64"
            ]
          },
          "metadata": {},
          "execution_count": 36
        }
      ]
    },
    {
      "cell_type": "code",
      "source": [
        "# Method .mean()\n",
        "df.mean() # returns average for each column"
      ],
      "metadata": {
        "colab": {
          "base_uri": "https://localhost:8080/"
        },
        "id": "IclO23RTyurM",
        "outputId": "3a8cfdaf-60ce-492b-b5d0-62763a1b5800"
      },
      "execution_count": null,
      "outputs": [
        {
          "output_type": "execute_result",
          "data": {
            "text/plain": [
              "Temperature (C)    21.270494\n",
              "Ice Cream           0.500000\n",
              "dtype: float64"
            ]
          },
          "metadata": {},
          "execution_count": 37
        }
      ]
    },
    {
      "cell_type": "markdown",
      "source": [
        "## Practice"
      ],
      "metadata": {
        "id": "bPeU2pIfzV6B"
      }
    },
    {
      "cell_type": "markdown",
      "source": [
        "Create a pandas dataframe with:\n",
        "\n",
        "- integers going from 0 to 10, their square, and their log"
      ],
      "metadata": {
        "id": "jeej0huDzY7L"
      }
    },
    {
      "cell_type": "code",
      "source": [
        "# Import generator function\n",
        "from numpy.random import randint"
      ],
      "metadata": {
        "id": "QqwgOGh2zCOh"
      },
      "execution_count": null,
      "outputs": []
    },
    {
      "cell_type": "code",
      "source": [
        "# Create the first column\n",
        "col1 = randint(low = 0, high = 10, size = 50 )"
      ],
      "metadata": {
        "id": "D6lLpWv9z6UY"
      },
      "execution_count": null,
      "outputs": []
    },
    {
      "cell_type": "code",
      "source": [
        "# Create a dictionary\n",
        "D = {\"Number\": col1}"
      ],
      "metadata": {
        "id": "dHFzr0qa0Lc6"
      },
      "execution_count": null,
      "outputs": []
    },
    {
      "cell_type": "code",
      "source": [
        "# Create a dataframe\n",
        "df = pd.DataFrame(data = D)"
      ],
      "metadata": {
        "id": "c8sjly5Y05Sw"
      },
      "execution_count": null,
      "outputs": []
    },
    {
      "cell_type": "code",
      "source": [
        "# Add other columns\n",
        "df[\"Square\"] = np.square(col1)"
      ],
      "metadata": {
        "id": "LiuD6v6F1ABY"
      },
      "execution_count": null,
      "outputs": []
    },
    {
      "cell_type": "code",
      "source": [
        "df.head()"
      ],
      "metadata": {
        "colab": {
          "base_uri": "https://localhost:8080/",
          "height": 206
        },
        "id": "OdP13sGt1Axe",
        "outputId": "9c6d1b3a-ed54-4114-8b08-7777c73dbd74"
      },
      "execution_count": null,
      "outputs": [
        {
          "output_type": "execute_result",
          "data": {
            "text/plain": [
              "   Number  Square\n",
              "0       2       4\n",
              "1       2       4\n",
              "2       9      81\n",
              "3       2       4\n",
              "4       6      36"
            ],
            "text/html": [
              "\n",
              "  <div id=\"df-71ac2679-4549-4f0c-bb9d-ba8a5baf3da1\">\n",
              "    <div class=\"colab-df-container\">\n",
              "      <div>\n",
              "<style scoped>\n",
              "    .dataframe tbody tr th:only-of-type {\n",
              "        vertical-align: middle;\n",
              "    }\n",
              "\n",
              "    .dataframe tbody tr th {\n",
              "        vertical-align: top;\n",
              "    }\n",
              "\n",
              "    .dataframe thead th {\n",
              "        text-align: right;\n",
              "    }\n",
              "</style>\n",
              "<table border=\"1\" class=\"dataframe\">\n",
              "  <thead>\n",
              "    <tr style=\"text-align: right;\">\n",
              "      <th></th>\n",
              "      <th>Number</th>\n",
              "      <th>Square</th>\n",
              "    </tr>\n",
              "  </thead>\n",
              "  <tbody>\n",
              "    <tr>\n",
              "      <th>0</th>\n",
              "      <td>2</td>\n",
              "      <td>4</td>\n",
              "    </tr>\n",
              "    <tr>\n",
              "      <th>1</th>\n",
              "      <td>2</td>\n",
              "      <td>4</td>\n",
              "    </tr>\n",
              "    <tr>\n",
              "      <th>2</th>\n",
              "      <td>9</td>\n",
              "      <td>81</td>\n",
              "    </tr>\n",
              "    <tr>\n",
              "      <th>3</th>\n",
              "      <td>2</td>\n",
              "      <td>4</td>\n",
              "    </tr>\n",
              "    <tr>\n",
              "      <th>4</th>\n",
              "      <td>6</td>\n",
              "      <td>36</td>\n",
              "    </tr>\n",
              "  </tbody>\n",
              "</table>\n",
              "</div>\n",
              "      <button class=\"colab-df-convert\" onclick=\"convertToInteractive('df-71ac2679-4549-4f0c-bb9d-ba8a5baf3da1')\"\n",
              "              title=\"Convert this dataframe to an interactive table.\"\n",
              "              style=\"display:none;\">\n",
              "        \n",
              "  <svg xmlns=\"http://www.w3.org/2000/svg\" height=\"24px\"viewBox=\"0 0 24 24\"\n",
              "       width=\"24px\">\n",
              "    <path d=\"M0 0h24v24H0V0z\" fill=\"none\"/>\n",
              "    <path d=\"M18.56 5.44l.94 2.06.94-2.06 2.06-.94-2.06-.94-.94-2.06-.94 2.06-2.06.94zm-11 1L8.5 8.5l.94-2.06 2.06-.94-2.06-.94L8.5 2.5l-.94 2.06-2.06.94zm10 10l.94 2.06.94-2.06 2.06-.94-2.06-.94-.94-2.06-.94 2.06-2.06.94z\"/><path d=\"M17.41 7.96l-1.37-1.37c-.4-.4-.92-.59-1.43-.59-.52 0-1.04.2-1.43.59L10.3 9.45l-7.72 7.72c-.78.78-.78 2.05 0 2.83L4 21.41c.39.39.9.59 1.41.59.51 0 1.02-.2 1.41-.59l7.78-7.78 2.81-2.81c.8-.78.8-2.07 0-2.86zM5.41 20L4 18.59l7.72-7.72 1.47 1.35L5.41 20z\"/>\n",
              "  </svg>\n",
              "      </button>\n",
              "      \n",
              "  <style>\n",
              "    .colab-df-container {\n",
              "      display:flex;\n",
              "      flex-wrap:wrap;\n",
              "      gap: 12px;\n",
              "    }\n",
              "\n",
              "    .colab-df-convert {\n",
              "      background-color: #E8F0FE;\n",
              "      border: none;\n",
              "      border-radius: 50%;\n",
              "      cursor: pointer;\n",
              "      display: none;\n",
              "      fill: #1967D2;\n",
              "      height: 32px;\n",
              "      padding: 0 0 0 0;\n",
              "      width: 32px;\n",
              "    }\n",
              "\n",
              "    .colab-df-convert:hover {\n",
              "      background-color: #E2EBFA;\n",
              "      box-shadow: 0px 1px 2px rgba(60, 64, 67, 0.3), 0px 1px 3px 1px rgba(60, 64, 67, 0.15);\n",
              "      fill: #174EA6;\n",
              "    }\n",
              "\n",
              "    [theme=dark] .colab-df-convert {\n",
              "      background-color: #3B4455;\n",
              "      fill: #D2E3FC;\n",
              "    }\n",
              "\n",
              "    [theme=dark] .colab-df-convert:hover {\n",
              "      background-color: #434B5C;\n",
              "      box-shadow: 0px 1px 3px 1px rgba(0, 0, 0, 0.15);\n",
              "      filter: drop-shadow(0px 1px 2px rgba(0, 0, 0, 0.3));\n",
              "      fill: #FFFFFF;\n",
              "    }\n",
              "  </style>\n",
              "\n",
              "      <script>\n",
              "        const buttonEl =\n",
              "          document.querySelector('#df-71ac2679-4549-4f0c-bb9d-ba8a5baf3da1 button.colab-df-convert');\n",
              "        buttonEl.style.display =\n",
              "          google.colab.kernel.accessAllowed ? 'block' : 'none';\n",
              "\n",
              "        async function convertToInteractive(key) {\n",
              "          const element = document.querySelector('#df-71ac2679-4549-4f0c-bb9d-ba8a5baf3da1');\n",
              "          const dataTable =\n",
              "            await google.colab.kernel.invokeFunction('convertToInteractive',\n",
              "                                                     [key], {});\n",
              "          if (!dataTable) return;\n",
              "\n",
              "          const docLinkHtml = 'Like what you see? Visit the ' +\n",
              "            '<a target=\"_blank\" href=https://colab.research.google.com/notebooks/data_table.ipynb>data table notebook</a>'\n",
              "            + ' to learn more about interactive tables.';\n",
              "          element.innerHTML = '';\n",
              "          dataTable['output_type'] = 'display_data';\n",
              "          await google.colab.output.renderOutput(dataTable, element);\n",
              "          const docLink = document.createElement('div');\n",
              "          docLink.innerHTML = docLinkHtml;\n",
              "          element.appendChild(docLink);\n",
              "        }\n",
              "      </script>\n",
              "    </div>\n",
              "  </div>\n",
              "  "
            ]
          },
          "metadata": {},
          "execution_count": 232
        }
      ]
    },
    {
      "cell_type": "code",
      "source": [
        "df[\"Log\"] = 0\n",
        "for num in df[\"Number\"]:\n",
        "  if num != 0:\n",
        "    df.loc[df[\"Number\"] == num, \"Log\"] = np.log(num).round(2)\n",
        "  else:\n",
        "     df.loc[df[\"Number\"] == num, \"Log\"] = \"Skip\" "
      ],
      "metadata": {
        "id": "2RPYTdBp-JgP"
      },
      "execution_count": null,
      "outputs": []
    },
    {
      "cell_type": "code",
      "source": [
        "df.head(15)"
      ],
      "metadata": {
        "colab": {
          "base_uri": "https://localhost:8080/",
          "height": 520
        },
        "id": "Vsqd3Nmo-qtG",
        "outputId": "cd1005a8-1fcf-4b65-aa4d-cb4b9a9e14e7"
      },
      "execution_count": null,
      "outputs": [
        {
          "output_type": "execute_result",
          "data": {
            "text/plain": [
              "    Number  Square   Log\n",
              "0        2       4  0.69\n",
              "1        2       4  0.69\n",
              "2        9      81   2.2\n",
              "3        2       4  0.69\n",
              "4        6      36  1.79\n",
              "5        9      81   2.2\n",
              "6        4      16  1.39\n",
              "7        2       4  0.69\n",
              "8        3       9   1.1\n",
              "9        2       4  0.69\n",
              "10       7      49  1.95\n",
              "11       1       1   0.0\n",
              "12       5      25  1.61\n",
              "13       0       0  Skip\n",
              "14       4      16  1.39"
            ],
            "text/html": [
              "\n",
              "  <div id=\"df-4454c2c7-fc94-42bb-882f-388687d9ee80\">\n",
              "    <div class=\"colab-df-container\">\n",
              "      <div>\n",
              "<style scoped>\n",
              "    .dataframe tbody tr th:only-of-type {\n",
              "        vertical-align: middle;\n",
              "    }\n",
              "\n",
              "    .dataframe tbody tr th {\n",
              "        vertical-align: top;\n",
              "    }\n",
              "\n",
              "    .dataframe thead th {\n",
              "        text-align: right;\n",
              "    }\n",
              "</style>\n",
              "<table border=\"1\" class=\"dataframe\">\n",
              "  <thead>\n",
              "    <tr style=\"text-align: right;\">\n",
              "      <th></th>\n",
              "      <th>Number</th>\n",
              "      <th>Square</th>\n",
              "      <th>Log</th>\n",
              "    </tr>\n",
              "  </thead>\n",
              "  <tbody>\n",
              "    <tr>\n",
              "      <th>0</th>\n",
              "      <td>2</td>\n",
              "      <td>4</td>\n",
              "      <td>0.69</td>\n",
              "    </tr>\n",
              "    <tr>\n",
              "      <th>1</th>\n",
              "      <td>2</td>\n",
              "      <td>4</td>\n",
              "      <td>0.69</td>\n",
              "    </tr>\n",
              "    <tr>\n",
              "      <th>2</th>\n",
              "      <td>9</td>\n",
              "      <td>81</td>\n",
              "      <td>2.2</td>\n",
              "    </tr>\n",
              "    <tr>\n",
              "      <th>3</th>\n",
              "      <td>2</td>\n",
              "      <td>4</td>\n",
              "      <td>0.69</td>\n",
              "    </tr>\n",
              "    <tr>\n",
              "      <th>4</th>\n",
              "      <td>6</td>\n",
              "      <td>36</td>\n",
              "      <td>1.79</td>\n",
              "    </tr>\n",
              "    <tr>\n",
              "      <th>5</th>\n",
              "      <td>9</td>\n",
              "      <td>81</td>\n",
              "      <td>2.2</td>\n",
              "    </tr>\n",
              "    <tr>\n",
              "      <th>6</th>\n",
              "      <td>4</td>\n",
              "      <td>16</td>\n",
              "      <td>1.39</td>\n",
              "    </tr>\n",
              "    <tr>\n",
              "      <th>7</th>\n",
              "      <td>2</td>\n",
              "      <td>4</td>\n",
              "      <td>0.69</td>\n",
              "    </tr>\n",
              "    <tr>\n",
              "      <th>8</th>\n",
              "      <td>3</td>\n",
              "      <td>9</td>\n",
              "      <td>1.1</td>\n",
              "    </tr>\n",
              "    <tr>\n",
              "      <th>9</th>\n",
              "      <td>2</td>\n",
              "      <td>4</td>\n",
              "      <td>0.69</td>\n",
              "    </tr>\n",
              "    <tr>\n",
              "      <th>10</th>\n",
              "      <td>7</td>\n",
              "      <td>49</td>\n",
              "      <td>1.95</td>\n",
              "    </tr>\n",
              "    <tr>\n",
              "      <th>11</th>\n",
              "      <td>1</td>\n",
              "      <td>1</td>\n",
              "      <td>0.0</td>\n",
              "    </tr>\n",
              "    <tr>\n",
              "      <th>12</th>\n",
              "      <td>5</td>\n",
              "      <td>25</td>\n",
              "      <td>1.61</td>\n",
              "    </tr>\n",
              "    <tr>\n",
              "      <th>13</th>\n",
              "      <td>0</td>\n",
              "      <td>0</td>\n",
              "      <td>Skip</td>\n",
              "    </tr>\n",
              "    <tr>\n",
              "      <th>14</th>\n",
              "      <td>4</td>\n",
              "      <td>16</td>\n",
              "      <td>1.39</td>\n",
              "    </tr>\n",
              "  </tbody>\n",
              "</table>\n",
              "</div>\n",
              "      <button class=\"colab-df-convert\" onclick=\"convertToInteractive('df-4454c2c7-fc94-42bb-882f-388687d9ee80')\"\n",
              "              title=\"Convert this dataframe to an interactive table.\"\n",
              "              style=\"display:none;\">\n",
              "        \n",
              "  <svg xmlns=\"http://www.w3.org/2000/svg\" height=\"24px\"viewBox=\"0 0 24 24\"\n",
              "       width=\"24px\">\n",
              "    <path d=\"M0 0h24v24H0V0z\" fill=\"none\"/>\n",
              "    <path d=\"M18.56 5.44l.94 2.06.94-2.06 2.06-.94-2.06-.94-.94-2.06-.94 2.06-2.06.94zm-11 1L8.5 8.5l.94-2.06 2.06-.94-2.06-.94L8.5 2.5l-.94 2.06-2.06.94zm10 10l.94 2.06.94-2.06 2.06-.94-2.06-.94-.94-2.06-.94 2.06-2.06.94z\"/><path d=\"M17.41 7.96l-1.37-1.37c-.4-.4-.92-.59-1.43-.59-.52 0-1.04.2-1.43.59L10.3 9.45l-7.72 7.72c-.78.78-.78 2.05 0 2.83L4 21.41c.39.39.9.59 1.41.59.51 0 1.02-.2 1.41-.59l7.78-7.78 2.81-2.81c.8-.78.8-2.07 0-2.86zM5.41 20L4 18.59l7.72-7.72 1.47 1.35L5.41 20z\"/>\n",
              "  </svg>\n",
              "      </button>\n",
              "      \n",
              "  <style>\n",
              "    .colab-df-container {\n",
              "      display:flex;\n",
              "      flex-wrap:wrap;\n",
              "      gap: 12px;\n",
              "    }\n",
              "\n",
              "    .colab-df-convert {\n",
              "      background-color: #E8F0FE;\n",
              "      border: none;\n",
              "      border-radius: 50%;\n",
              "      cursor: pointer;\n",
              "      display: none;\n",
              "      fill: #1967D2;\n",
              "      height: 32px;\n",
              "      padding: 0 0 0 0;\n",
              "      width: 32px;\n",
              "    }\n",
              "\n",
              "    .colab-df-convert:hover {\n",
              "      background-color: #E2EBFA;\n",
              "      box-shadow: 0px 1px 2px rgba(60, 64, 67, 0.3), 0px 1px 3px 1px rgba(60, 64, 67, 0.15);\n",
              "      fill: #174EA6;\n",
              "    }\n",
              "\n",
              "    [theme=dark] .colab-df-convert {\n",
              "      background-color: #3B4455;\n",
              "      fill: #D2E3FC;\n",
              "    }\n",
              "\n",
              "    [theme=dark] .colab-df-convert:hover {\n",
              "      background-color: #434B5C;\n",
              "      box-shadow: 0px 1px 3px 1px rgba(0, 0, 0, 0.15);\n",
              "      filter: drop-shadow(0px 1px 2px rgba(0, 0, 0, 0.3));\n",
              "      fill: #FFFFFF;\n",
              "    }\n",
              "  </style>\n",
              "\n",
              "      <script>\n",
              "        const buttonEl =\n",
              "          document.querySelector('#df-4454c2c7-fc94-42bb-882f-388687d9ee80 button.colab-df-convert');\n",
              "        buttonEl.style.display =\n",
              "          google.colab.kernel.accessAllowed ? 'block' : 'none';\n",
              "\n",
              "        async function convertToInteractive(key) {\n",
              "          const element = document.querySelector('#df-4454c2c7-fc94-42bb-882f-388687d9ee80');\n",
              "          const dataTable =\n",
              "            await google.colab.kernel.invokeFunction('convertToInteractive',\n",
              "                                                     [key], {});\n",
              "          if (!dataTable) return;\n",
              "\n",
              "          const docLinkHtml = 'Like what you see? Visit the ' +\n",
              "            '<a target=\"_blank\" href=https://colab.research.google.com/notebooks/data_table.ipynb>data table notebook</a>'\n",
              "            + ' to learn more about interactive tables.';\n",
              "          element.innerHTML = '';\n",
              "          dataTable['output_type'] = 'display_data';\n",
              "          await google.colab.output.renderOutput(dataTable, element);\n",
              "          const docLink = document.createElement('div');\n",
              "          docLink.innerHTML = docLinkHtml;\n",
              "          element.appendChild(docLink);\n",
              "        }\n",
              "      </script>\n",
              "    </div>\n",
              "  </div>\n",
              "  "
            ]
          },
          "metadata": {},
          "execution_count": 236
        }
      ]
    },
    {
      "cell_type": "markdown",
      "source": [
        "# Functions"
      ],
      "metadata": {
        "id": "yquPA9fPAqa-"
      }
    },
    {
      "cell_type": "markdown",
      "source": [
        "## Getting help\n",
        "\n",
        "- For SHIFT + TAB to work, you have to disable Automatically trigger code completions on Tools $\\Rightarrow$ Settings $\\Rightarrow$ Editor."
      ],
      "metadata": {
        "id": "REaubxxMp6ms"
      }
    },
    {
      "cell_type": "code",
      "source": [
        "# sum(shift + tab)\n",
        "lis = [1, 3, 3]\n",
        "sum(lis, 0)"
      ],
      "metadata": {
        "id": "K07NiIB8_Bmo",
        "colab": {
          "base_uri": "https://localhost:8080/"
        },
        "outputId": "23230e57-782c-487e-8b17-c73fceba7f62"
      },
      "execution_count": null,
      "outputs": [
        {
          "output_type": "execute_result",
          "data": {
            "text/plain": [
              "7"
            ]
          },
          "metadata": {},
          "execution_count": 11
        }
      ]
    },
    {
      "cell_type": "code",
      "source": [
        "# sum?\n",
        "sum?\n",
        "\n",
        "# sum??  (more detailed)\n",
        "sum??"
      ],
      "metadata": {
        "id": "VQwbJ7DErs35"
      },
      "execution_count": null,
      "outputs": []
    },
    {
      "cell_type": "code",
      "source": [
        "# help(function name)\n",
        "help(sum)"
      ],
      "metadata": {
        "colab": {
          "base_uri": "https://localhost:8080/"
        },
        "id": "rVTEUiXysCle",
        "outputId": "64bc55b4-6798-43f6-e529-d6f9e1a17542"
      },
      "execution_count": null,
      "outputs": [
        {
          "output_type": "stream",
          "name": "stdout",
          "text": [
            "Help on built-in function sum in module builtins:\n",
            "\n",
            "sum(iterable, start=0, /)\n",
            "    Return the sum of a 'start' value (default: 0) plus an iterable of numbers\n",
            "    \n",
            "    When the iterable is empty, return the start value.\n",
            "    This function is intended specifically for use with numeric values and may\n",
            "    reject non-numeric types.\n",
            "\n"
          ]
        }
      ]
    },
    {
      "cell_type": "markdown",
      "source": [
        "## Creating a function\n",
        "\n",
        "- Python keyword def (definition) is used to create a fucntion."
      ],
      "metadata": {
        "id": "104CWnwau1Xk"
      }
    },
    {
      "cell_type": "code",
      "source": [
        "# Create a function\n",
        "def myfunction ():\n",
        "  print(\"Hi, my first function\")\n",
        "print(\"Won't be printed!\")"
      ],
      "metadata": {
        "colab": {
          "base_uri": "https://localhost:8080/"
        },
        "id": "W5pb3qTcsjEz",
        "outputId": "ca512d90-0c53-4b09-db61-91e07c06239d"
      },
      "execution_count": 5,
      "outputs": [
        {
          "output_type": "stream",
          "name": "stdout",
          "text": [
            "Won't be printed!\n"
          ]
        }
      ]
    },
    {
      "cell_type": "code",
      "source": [
        "myfunction()"
      ],
      "metadata": {
        "colab": {
          "base_uri": "https://localhost:8080/"
        },
        "id": "hItbDyg7vlr_",
        "outputId": "dda35350-32c4-4e4c-cfda-e50daef33da8"
      },
      "execution_count": 6,
      "outputs": [
        {
          "output_type": "stream",
          "name": "stdout",
          "text": [
            "Hi, my first function\n"
          ]
        }
      ]
    },
    {
      "cell_type": "code",
      "source": [
        "# Create a function with two inputs\n",
        "def my2function (input1, input2):\n",
        "  print(input1 + input2)"
      ],
      "metadata": {
        "id": "DhSsZIPkvo17"
      },
      "execution_count": 13,
      "outputs": []
    },
    {
      "cell_type": "code",
      "source": [
        "my2function(input1=3, input2=4)"
      ],
      "metadata": {
        "colab": {
          "base_uri": "https://localhost:8080/"
        },
        "id": "_strV5_XSZN4",
        "outputId": "8cd0ba29-fba6-4d7b-cb5d-e8cb157f7cb4"
      },
      "execution_count": 14,
      "outputs": [
        {
          "output_type": "stream",
          "name": "stdout",
          "text": [
            "7\n"
          ]
        }
      ]
    },
    {
      "cell_type": "code",
      "source": [
        "# Create a function with two inputs\n",
        "def my3function (input1, input2):\n",
        "  return input1 + input2"
      ],
      "metadata": {
        "id": "qFDcvSfATLlw"
      },
      "execution_count": 19,
      "outputs": []
    },
    {
      "cell_type": "code",
      "source": [
        "result = my3function(10, 20)\n",
        "result"
      ],
      "metadata": {
        "colab": {
          "base_uri": "https://localhost:8080/"
        },
        "id": "X24mOuvTUUMa",
        "outputId": "16d0c958-4010-4f58-87c8-ca7a907811e8"
      },
      "execution_count": 20,
      "outputs": [
        {
          "output_type": "execute_result",
          "data": {
            "text/plain": [
              "30"
            ]
          },
          "metadata": {},
          "execution_count": 20
        }
      ]
    },
    {
      "cell_type": "code",
      "source": [
        "# Create a function with two inputs and two outputs\n",
        "def my4function (input1, input2):\n",
        "  summa = input1 + input2\n",
        "  product = input1 * input2\n",
        "  return summa, product"
      ],
      "metadata": {
        "id": "idCBLMUEUbE9"
      },
      "execution_count": 26,
      "outputs": []
    },
    {
      "cell_type": "code",
      "source": [
        "# Getting result as tuple\n",
        "my4function(3, 8)"
      ],
      "metadata": {
        "colab": {
          "base_uri": "https://localhost:8080/"
        },
        "id": "vtoybkd7UpkO",
        "outputId": "82872054-40d1-45d8-d53b-33b13221041f"
      },
      "execution_count": 27,
      "outputs": [
        {
          "output_type": "execute_result",
          "data": {
            "text/plain": [
              "(11, 24)"
            ]
          },
          "metadata": {},
          "execution_count": 27
        }
      ]
    },
    {
      "cell_type": "code",
      "source": [
        "# Extraction output from tuple\n",
        "# Option one (indexing)\n",
        "res = my4function(3, 8)\n",
        "print(res[0])\n",
        "print(res[1])"
      ],
      "metadata": {
        "colab": {
          "base_uri": "https://localhost:8080/"
        },
        "id": "bElAarCLVQsM",
        "outputId": "af161ced-ab80-4230-f839-88783e67b2d9"
      },
      "execution_count": 31,
      "outputs": [
        {
          "output_type": "stream",
          "name": "stdout",
          "text": [
            "11\n",
            "24\n"
          ]
        }
      ]
    },
    {
      "cell_type": "code",
      "source": [
        "# Extraction output from tuple\n",
        "# Option two (tuple on)\n",
        "summa, product = my4function(3, 8)\n",
        "print(summa)\n",
        "print(product)"
      ],
      "metadata": {
        "colab": {
          "base_uri": "https://localhost:8080/"
        },
        "id": "rDGWiDU0V8tv",
        "outputId": "2ac5e7d5-c3b4-42da-ca6b-fcbe4c8b540d"
      },
      "execution_count": 34,
      "outputs": [
        {
          "output_type": "stream",
          "name": "stdout",
          "text": [
            "11\n",
            "24\n"
          ]
        }
      ]
    },
    {
      "cell_type": "markdown",
      "source": [
        "## Lambda function"
      ],
      "metadata": {
        "id": "kfvirhmTXYmv"
      }
    },
    {
      "cell_type": "code",
      "source": [
        "# A compact sysntax for short functions\n",
        "funname = lambda x: x/4 + 5"
      ],
      "metadata": {
        "id": "lvU-DFIhWSYb"
      },
      "execution_count": 37,
      "outputs": []
    },
    {
      "cell_type": "code",
      "source": [
        "funname(16)"
      ],
      "metadata": {
        "colab": {
          "base_uri": "https://localhost:8080/"
        },
        "id": "IONDcYymXxkg",
        "outputId": "9836f75e-13f2-4f58-a825-eaf29492844d"
      },
      "execution_count": 38,
      "outputs": [
        {
          "output_type": "execute_result",
          "data": {
            "text/plain": [
              "9.0"
            ]
          },
          "metadata": {},
          "execution_count": 38
        }
      ]
    },
    {
      "cell_type": "markdown",
      "source": [
        "## Practice"
      ],
      "metadata": {
        "id": "LFse3hVMYBj1"
      }
    },
    {
      "cell_type": "markdown",
      "source": [
        "Factorial\n",
        "- create a function that computes a factorial\n",
        "\n",
        "- compare against math.factorial()"
      ],
      "metadata": {
        "id": "-EF-Xv1zYEeI"
      }
    },
    {
      "cell_type": "code",
      "source": [
        "# Creating a function\n",
        "def myfactorial (n):\n",
        "  num = 1\n",
        "  factorial = 1\n",
        "  if n > 0:\n",
        "    while num <= n: \n",
        "      factorial *= num\n",
        "      num += 1\n",
        "  elif n == 0:\n",
        "    factorial = 1\n",
        "  else:\n",
        "    print(\"Invalid input! n should be a positive number!\")\n",
        "  return factorial"
      ],
      "metadata": {
        "id": "thrLL7cAX3zz"
      },
      "execution_count": 103,
      "outputs": []
    },
    {
      "cell_type": "code",
      "source": [
        "myfactorial(5)"
      ],
      "metadata": {
        "colab": {
          "base_uri": "https://localhost:8080/"
        },
        "id": "pG8tAqgxbLRi",
        "outputId": "d44edd46-2622-43b0-dfda-15fe7f2006e7"
      },
      "execution_count": 99,
      "outputs": [
        {
          "output_type": "execute_result",
          "data": {
            "text/plain": [
              "120"
            ]
          },
          "metadata": {},
          "execution_count": 99
        }
      ]
    },
    {
      "cell_type": "code",
      "source": [
        "# Compare with a built-in function from the math library\n",
        "\n",
        "# Import library\n",
        "import math\n",
        "# Set n for comparison\n",
        "n=22\n",
        "\n",
        "myfunction_result = myfactorial(n) \n",
        "print(f\"My function: {n}! = {myfunction_result}\")\n",
        "math_result = math.factorial(n)\n",
        "print(f\"Math library: {n}! = {math_result}\")\n",
        "print(f\"Do functions give the same output? Answer: {math_result == myfunction_result}\")"
      ],
      "metadata": {
        "colab": {
          "base_uri": "https://localhost:8080/"
        },
        "id": "73o8EFe5bNN4",
        "outputId": "6202014d-4c41-4136-d45b-9c5e1a5a1801"
      },
      "execution_count": 127,
      "outputs": [
        {
          "output_type": "stream",
          "name": "stdout",
          "text": [
            "My function: 22! = 1124000727777607680000\n",
            "Math library: 22! = 1124000727777607680000\n",
            "Do functions give the same output? Answer: True\n"
          ]
        }
      ]
    },
    {
      "cell_type": "markdown",
      "source": [
        "# Scope"
      ],
      "metadata": {
        "id": "wE3VWQjJA7zT"
      }
    },
    {
      "cell_type": "markdown",
      "source": [
        "Global and local bariable scopes"
      ],
      "metadata": {
        "id": "vJVlY12nA-V1"
      }
    },
    {
      "cell_type": "code",
      "source": [
        "# Use %reset -f to clear all variables in IPython\n",
        "%reset -f"
      ],
      "metadata": {
        "id": "DJhl6TdL_lhY"
      },
      "execution_count": 129,
      "outputs": []
    },
    {
      "cell_type": "code",
      "source": [
        "%whos"
      ],
      "metadata": {
        "colab": {
          "base_uri": "https://localhost:8080/"
        },
        "id": "zHd3FhojB635",
        "outputId": "b336846b-77e1-4396-d849-78c604f210ab"
      },
      "execution_count": 130,
      "outputs": [
        {
          "output_type": "stream",
          "name": "stdout",
          "text": [
            "Interactive namespace is empty.\n"
          ]
        }
      ]
    },
    {
      "cell_type": "code",
      "source": [
        "# Local scope\n",
        "def foo ():\n",
        "  x = 2 # defined locally\n",
        "  y = 3 # defined locally\n",
        "  print(x)"
      ],
      "metadata": {
        "id": "FiyMjMUpB-_Z"
      },
      "execution_count": 131,
      "outputs": []
    },
    {
      "cell_type": "code",
      "source": [
        "foo()"
      ],
      "metadata": {
        "colab": {
          "base_uri": "https://localhost:8080/"
        },
        "id": "a1YII902DM3z",
        "outputId": "b06abb48-c78b-46a7-d94c-41fa5804d4b2"
      },
      "execution_count": 132,
      "outputs": [
        {
          "output_type": "stream",
          "name": "stdout",
          "text": [
            "2\n"
          ]
        }
      ]
    },
    {
      "cell_type": "code",
      "source": [
        "# Experimenting\n",
        "x = 4\n",
        "print(x)\n",
        "foo()\n",
        "print(x)"
      ],
      "metadata": {
        "colab": {
          "base_uri": "https://localhost:8080/"
        },
        "id": "QTF2YNGADOvL",
        "outputId": "e7a1d81e-81e9-4307-dd3f-24494df217bf"
      },
      "execution_count": 136,
      "outputs": [
        {
          "output_type": "stream",
          "name": "stdout",
          "text": [
            "4\n",
            "2\n",
            "4\n"
          ]
        }
      ]
    },
    {
      "cell_type": "code",
      "source": [
        "def fee():\n",
        "  print(z)"
      ],
      "metadata": {
        "id": "Wf6KpJVRDP_p"
      },
      "execution_count": 137,
      "outputs": []
    },
    {
      "cell_type": "code",
      "source": [
        "z = 13 # global\n",
        "fee()"
      ],
      "metadata": {
        "colab": {
          "base_uri": "https://localhost:8080/"
        },
        "id": "XCwud2E6EmGo",
        "outputId": "0a0fa6c4-7552-434f-e342-6e1815ccf005"
      },
      "execution_count": 139,
      "outputs": [
        {
          "output_type": "stream",
          "name": "stdout",
          "text": [
            "13\n"
          ]
        }
      ]
    },
    {
      "cell_type": "markdown",
      "source": [
        "## Rules"
      ],
      "metadata": {
        "id": "idcJR6pnE690"
      }
    },
    {
      "cell_type": "markdown",
      "source": [
        "Recommendation: When creating function, try to avoid creating local variables that have the same name as variable in the global scope.\n",
        "\n",
        "- variables created inside a fuction are local (accessible only inside the function)\n",
        "\n",
        "- variables created outside of a function are global (accessible in or out of the function)"
      ],
      "metadata": {
        "id": "J9ifWYD8FbY-"
      }
    },
    {
      "cell_type": "markdown",
      "source": [
        "## Practice"
      ],
      "metadata": {
        "id": "MfCs9-5SG0TA"
      }
    },
    {
      "cell_type": "markdown",
      "source": [
        "Gambling experiment\n",
        "\n",
        "Write a function that flips a coin N times, and reports the average.\n",
        "\n",
        "Tip: use some numpy function "
      ],
      "metadata": {
        "id": "ctRZrKn0HKxc"
      }
    },
    {
      "cell_type": "code",
      "source": [
        "# Definitions\n",
        "# Heads = 1\n",
        "# Tails = 0"
      ],
      "metadata": {
        "id": "ukGgGusIEti3"
      },
      "execution_count": 201,
      "outputs": []
    },
    {
      "cell_type": "code",
      "source": [
        " # Import libraries\n",
        " import random"
      ],
      "metadata": {
        "id": "hIrRogo1IsDq"
      },
      "execution_count": 222,
      "outputs": []
    },
    {
      "cell_type": "code",
      "source": [
        "random.seed(2022)\n",
        "mylist = [0,1]\n",
        "N = 100000\n",
        "flips = [random.choice(mylist) for x in range(N)]\n",
        "avg_heads = flips.count(1)/N\n",
        "print(avg_heads)"
      ],
      "metadata": {
        "colab": {
          "base_uri": "https://localhost:8080/"
        },
        "id": "E-0T1HniJosz",
        "outputId": "86ea0957-8b3d-47a0-d53a-120ea0358e08"
      },
      "execution_count": 267,
      "outputs": [
        {
          "output_type": "stream",
          "name": "stdout",
          "text": [
            "0.49828\n"
          ]
        }
      ]
    },
    {
      "cell_type": "code",
      "source": [
        "random.seed(2022)\n",
        "def coin_flip(N):\n",
        "  result = [random.choice([0,1]) for x in range(N)].count(1)/N\n",
        "  print(f\"{N} coin flips had {round(result*100, 1)}% heads.\")"
      ],
      "metadata": {
        "id": "rLHMYalRMaq9"
      },
      "execution_count": 268,
      "outputs": []
    },
    {
      "cell_type": "code",
      "source": [
        "coin_flip(N)"
      ],
      "metadata": {
        "colab": {
          "base_uri": "https://localhost:8080/"
        },
        "id": "IHv-YPBFO1Xo",
        "outputId": "eef23689-a0d2-43d5-ca84-ec4695d5a759"
      },
      "execution_count": 269,
      "outputs": [
        {
          "output_type": "stream",
          "name": "stdout",
          "text": [
            "100000 coin flips had 49.8% heads.\n"
          ]
        }
      ]
    },
    {
      "cell_type": "markdown",
      "source": [
        "# Copies and referents of variables"
      ],
      "metadata": {
        "id": "l1OKCBxhxlQf"
      }
    },
    {
      "cell_type": "code",
      "source": [
        "# Example problem\n",
        "a = [3, 4]\n",
        "b = a\n",
        "b[0] = 5 # b is a new pointe the same location in memory where a is stored \n",
        "print(a)\n",
        "print(b)"
      ],
      "metadata": {
        "colab": {
          "base_uri": "https://localhost:8080/"
        },
        "id": "pYTFG01iP7X4",
        "outputId": "34a8ded4-750d-415a-ca2a-d692473b1469"
      },
      "execution_count": 4,
      "outputs": [
        {
          "output_type": "stream",
          "name": "stdout",
          "text": [
            "[5, 4]\n",
            "[5, 4]\n"
          ]
        }
      ]
    },
    {
      "cell_type": "code",
      "source": [
        "# Invoke location with id() function\n",
        "print(id(a)) # location of a and b is the same \n",
        "print(id(b))"
      ],
      "metadata": {
        "colab": {
          "base_uri": "https://localhost:8080/"
        },
        "id": "3-9IACIg1Hwt",
        "outputId": "5d0620a9-a0f3-4259-95c2-032244b48246"
      },
      "execution_count": 5,
      "outputs": [
        {
          "output_type": "stream",
          "name": "stdout",
          "text": [
            "140636437705184\n",
            "140636437705184\n"
          ]
        }
      ]
    },
    {
      "cell_type": "code",
      "source": [
        "# Not a universal solution\n",
        "a = [3, 4]\n",
        "b = a[:] # copying a\n",
        "b[0] = 5\n",
        "print(a)\n",
        "print(b)"
      ],
      "metadata": {
        "colab": {
          "base_uri": "https://localhost:8080/"
        },
        "id": "zAK_FZn01IkF",
        "outputId": "f1ba98d2-1723-457d-b088-dd7c15f9bf18"
      },
      "execution_count": 6,
      "outputs": [
        {
          "output_type": "stream",
          "name": "stdout",
          "text": [
            "[3, 4]\n",
            "[5, 4]\n"
          ]
        }
      ]
    },
    {
      "cell_type": "code",
      "source": [
        "# Demonstration of a case where the above mentioned trick  a[:] will not work\n",
        "a = {\"k1\": 3, \"k2\": 4}\n",
        "b = a\n",
        "b[\"key3\"] = 5\n",
        "print(a)\n",
        "print(b)"
      ],
      "metadata": {
        "colab": {
          "base_uri": "https://localhost:8080/"
        },
        "id": "oruSWlQb1PsF",
        "outputId": "9049b30a-2e51-400f-c22e-ca66763e5198"
      },
      "execution_count": 13,
      "outputs": [
        {
          "output_type": "stream",
          "name": "stdout",
          "text": [
            "{'k1': 3, 'k2': 4, 'key3': 5}\n",
            "{'k1': 3, 'k2': 4, 'key3': 5}\n"
          ]
        }
      ]
    },
    {
      "cell_type": "markdown",
      "source": [
        "## Copy library"
      ],
      "metadata": {
        "id": "k1HnQWNK5Wqr"
      }
    },
    {
      "cell_type": "code",
      "source": [
        "# A universal solution\n",
        "import copy\n",
        "a = {\"k1\": 3, \"k2\": 4}\n",
        "b = copy.deepcopy(a)\n",
        "print(a)\n",
        "print(b)\n",
        "\n",
        "# a and b have different locations\n",
        "print(id(a)) \n",
        "print(id(b))"
      ],
      "metadata": {
        "colab": {
          "base_uri": "https://localhost:8080/"
        },
        "id": "GkjmTBvq3vFm",
        "outputId": "ecfb1a7c-221c-41ba-e46d-9446939067a7"
      },
      "execution_count": 15,
      "outputs": [
        {
          "output_type": "stream",
          "name": "stdout",
          "text": [
            "{'k1': 3, 'k2': 4}\n",
            "{'k1': 3, 'k2': 4}\n",
            "140636376008736\n",
            "140636376031712\n"
          ]
        }
      ]
    },
    {
      "cell_type": "markdown",
      "source": [
        "# Classes and OOP"
      ],
      "metadata": {
        "id": "7rtPCvIp6HpC"
      }
    },
    {
      "cell_type": "markdown",
      "source": [
        "A class is a blueprint for creating a set of attributes (variables) and methods (functions)"
      ],
      "metadata": {
        "id": "E5DZiyC_6O_g"
      }
    },
    {
      "cell_type": "code",
      "source": [
        "# Defining a class\n",
        "\n",
        "class model(object):\n",
        "  \n",
        "  # constructor method\n",
        "  def __init__(self, numlayers, numunits, name):\n",
        "    self.layers  = numlayers # attributes\n",
        "    self.units   = numunits\n",
        "    self.name    = name\n",
        "    self.weights = 0\n",
        "  \n",
        "  # method 1\n",
        "  def howManyUnits(self):\n",
        "    totalUnits = self.layers * self.units\n",
        "    print(f\"There are {totalUnits} in the model.\")\n",
        "  \n",
        "  # method 2\n",
        "  def trainModel(self, x):\n",
        "    self.weights += x\n",
        "    return self.weights\n",
        "  \n",
        "  # method 3\n",
        "  def __str__(self):\n",
        "    return f\"This is a {self.name} architecture.\""
      ],
      "metadata": {
        "id": "ybwwow7f5gmb"
      },
      "execution_count": 39,
      "outputs": []
    },
    {
      "cell_type": "code",
      "source": [
        "# Creating an instance\n",
        "m1 = model(14, 3, \"CNN\")\n",
        "# print(m1)\n",
        "# m1.howManyUnits()\n",
        "str(m1) # see model()"
      ],
      "metadata": {
        "colab": {
          "base_uri": "https://localhost:8080/",
          "height": 35
        },
        "id": "M05iKwV18a6r",
        "outputId": "ed5468f3-0710-4b39-d7b7-d83707d0870f"
      },
      "execution_count": 41,
      "outputs": [
        {
          "output_type": "execute_result",
          "data": {
            "text/plain": [
              "'This is a CNN architecture.'"
            ],
            "application/vnd.google.colaboratory.intrinsic+json": {
              "type": "string"
            }
          },
          "metadata": {},
          "execution_count": 41
        }
      ]
    },
    {
      "cell_type": "code",
      "source": [
        "m1.trainModel(2.5) # updates "
      ],
      "metadata": {
        "colab": {
          "base_uri": "https://localhost:8080/"
        },
        "id": "BIs3CLfL88vI",
        "outputId": "505b62c9-35b4-4ae8-962e-2725d80329d3"
      },
      "execution_count": 38,
      "outputs": [
        {
          "output_type": "execute_result",
          "data": {
            "text/plain": [
              "5.0"
            ]
          },
          "metadata": {},
          "execution_count": 38
        }
      ]
    },
    {
      "cell_type": "markdown",
      "source": [
        "## Practice"
      ],
      "metadata": {
        "id": "OgA6v2ipBXJ2"
      }
    },
    {
      "cell_type": "markdown",
      "source": [
        "Create a new class with some changes:\n",
        "\n",
        "- weights should be a random numbers matrix of size layers X units\n",
        "\n",
        "- change training method to multiply input X and add input Y"
      ],
      "metadata": {
        "id": "DTVvoR0qBZrG"
      }
    },
    {
      "cell_type": "code",
      "source": [
        "import numpy as np\n",
        "\n",
        "class practice_model(object):\n",
        "  \n",
        "  # constructor method\n",
        "  def __init__(self, numlayers, numunits, name, randomnumber):\n",
        "    self.layers  = numlayers # attributes\n",
        "    self.units   = numunits\n",
        "    self.name    = name\n",
        "    self.randomnumber = randomnumber\n",
        "    self.weights = np.random.randint(randomnumber, size=(numlayers, numunits))\n",
        "\n",
        "\n",
        "  # method 1\n",
        "  def howManyUnits(self):\n",
        "    totalUnits = self.layers * self.units\n",
        "    print(f\"There are {totalUnits} in the model.\")\n",
        "  \n",
        "  # method 2\n",
        "  def trainModel(self, x, y):\n",
        "    #print(self.weights)\n",
        "    self.weights = self.weights * x + y\n",
        "    return self.weights\n",
        "  \n",
        "  # method 3\n",
        "  def __str__(self):\n",
        "    return f\"This is a {self.name} architecture.\""
      ],
      "metadata": {
        "id": "8d4fD5tP_yYJ"
      },
      "execution_count": 180,
      "outputs": []
    },
    {
      "cell_type": "code",
      "source": [
        "# Creating an instance\n",
        "pm = practice_model(numlayers = 2, numunits = 3, name =\"RNN\", randomnumber = 100)\n",
        "pm.weights"
      ],
      "metadata": {
        "colab": {
          "base_uri": "https://localhost:8080/"
        },
        "id": "BRqdhv9CDPj_",
        "outputId": "e18bbbb9-afde-46b9-d361-bb92bf2c52f8"
      },
      "execution_count": 181,
      "outputs": [
        {
          "output_type": "execute_result",
          "data": {
            "text/plain": [
              "array([[62, 78, 51],\n",
              "       [57, 13, 17]])"
            ]
          },
          "metadata": {},
          "execution_count": 181
        }
      ]
    },
    {
      "cell_type": "code",
      "source": [
        "pm.trainModel(2, 2)\n",
        "pm.weights"
      ],
      "metadata": {
        "colab": {
          "base_uri": "https://localhost:8080/"
        },
        "id": "0VuQkMG-Dgsk",
        "outputId": "7d0b3d45-1289-41df-a3e9-5ada2125344f"
      },
      "execution_count": 182,
      "outputs": [
        {
          "output_type": "execute_result",
          "data": {
            "text/plain": [
              "array([[126, 158, 104],\n",
              "       [116,  28,  36]])"
            ]
          },
          "metadata": {},
          "execution_count": 182
        }
      ]
    }
  ]
}