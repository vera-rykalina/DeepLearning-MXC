{
  "nbformat": 4,
  "nbformat_minor": 0,
  "metadata": {
    "colab": {
      "name": "DataTypes.ipynb",
      "provenance": [],
      "authorship_tag": "ABX9TyOcquvkZod65ccO/GBCXG0C",
      "include_colab_link": true
    },
    "kernelspec": {
      "name": "python3",
      "display_name": "Python 3"
    },
    "language_info": {
      "name": "python"
    }
  },
  "cells": [
    {
      "cell_type": "markdown",
      "metadata": {
        "id": "view-in-github",
        "colab_type": "text"
      },
      "source": [
        "<a href=\"https://colab.research.google.com/github/vera-rykalina/PythonIntroDeepLearning/blob/main/DataTypes.ipynb\" target=\"_parent\"><img src=\"https://colab.research.google.com/assets/colab-badge.svg\" alt=\"Open In Colab\"/></a>"
      ]
    },
    {
      "cell_type": "markdown",
      "source": [
        "# Variables\n"
      ],
      "metadata": {
        "id": "IRUmtjnPK6Jv"
      }
    },
    {
      "cell_type": "markdown",
      "source": [
        ""
      ],
      "metadata": {
        "id": "BHIBZB7HK4Jx"
      }
    },
    {
      "cell_type": "code",
      "source": [
        "# Calculator\n",
        "7 + 3"
      ],
      "metadata": {
        "colab": {
          "base_uri": "https://localhost:8080/"
        },
        "id": "2BizDbp_JlLB",
        "outputId": "bbe95e59-d1db-4d7d-8489-2842035c6203"
      },
      "execution_count": null,
      "outputs": [
        {
          "output_type": "execute_result",
          "data": {
            "text/plain": [
              "10"
            ]
          },
          "metadata": {},
          "execution_count": 30
        }
      ]
    },
    {
      "cell_type": "code",
      "source": [
        "# Variable assingment\n",
        "a = 10\n",
        "a"
      ],
      "metadata": {
        "colab": {
          "base_uri": "https://localhost:8080/"
        },
        "id": "pML-5kMYLAHL",
        "outputId": "e821e1e0-332c-4093-9039-5d3a90727fe0"
      },
      "execution_count": null,
      "outputs": [
        {
          "output_type": "execute_result",
          "data": {
            "text/plain": [
              "10"
            ]
          },
          "metadata": {},
          "execution_count": 37
        }
      ]
    },
    {
      "cell_type": "code",
      "source": [
        "a + 9\n",
        "b = 3\n",
        "b"
      ],
      "metadata": {
        "colab": {
          "base_uri": "https://localhost:8080/"
        },
        "id": "_Yzg1QLVKonX",
        "outputId": "af8e4826-4c54-4ff3-a249-3157f95794b0"
      },
      "execution_count": null,
      "outputs": [
        {
          "output_type": "execute_result",
          "data": {
            "text/plain": [
              "3"
            ]
          },
          "metadata": {},
          "execution_count": 38
        }
      ]
    },
    {
      "cell_type": "code",
      "source": [
        "# This code cell inspects the values of the variables (a pound sign)\n",
        "print(a) # print out a\n",
        "print(b)"
      ],
      "metadata": {
        "colab": {
          "base_uri": "https://localhost:8080/"
        },
        "id": "5m0ZAAQKLRWu",
        "outputId": "86c1672a-fb0e-405f-f825-d56105a34dae"
      },
      "execution_count": null,
      "outputs": [
        {
          "output_type": "stream",
          "name": "stdout",
          "text": [
            "10\n",
            "3\n"
          ]
        }
      ]
    },
    {
      "cell_type": "code",
      "source": [
        "c = 7\n",
        "d = 7.0\n",
        "e = \"hello\"\n",
        "\n",
        "# Check type of variables\n",
        "print(type(c)) # integer (int)\n",
        "print(type(d)) # float (floating point)\n",
        "print(type(e)) # string (str)"
      ],
      "metadata": {
        "colab": {
          "base_uri": "https://localhost:8080/"
        },
        "id": "M84zsbkZLZed",
        "outputId": "1c50553c-3d3c-4d62-8e51-67dca4c8ac53"
      },
      "execution_count": null,
      "outputs": [
        {
          "output_type": "stream",
          "name": "stdout",
          "text": [
            "<class 'int'>\n",
            "<class 'float'>\n",
            "<class 'str'>\n"
          ]
        }
      ]
    },
    {
      "cell_type": "code",
      "source": [
        "# Quotes\n",
        "g = \"hi\"\n",
        "p = 'My name is Vera.'\n",
        "o = \"My name's is Vera\""
      ],
      "metadata": {
        "id": "oiTjZv-GL8Fb"
      },
      "execution_count": null,
      "outputs": []
    },
    {
      "cell_type": "code",
      "source": [
        "g, p, o"
      ],
      "metadata": {
        "colab": {
          "base_uri": "https://localhost:8080/"
        },
        "id": "LWvlqS2YMLpB",
        "outputId": "7b744876-f118-4ae2-c3a7-4a8e92570e28"
      },
      "execution_count": null,
      "outputs": [
        {
          "output_type": "execute_result",
          "data": {
            "text/plain": [
              "('hi', 'My name is Vera.', \"My name's is Vera\")"
            ]
          },
          "metadata": {},
          "execution_count": 42
        }
      ]
    },
    {
      "cell_type": "code",
      "source": [
        "# Variable name convention\n",
        "aVariableName = 10\n",
        "filterOrder   = 18\n",
        "user_name     = \"Vera\"\n",
        "param4modelA = 43.58678"
      ],
      "metadata": {
        "id": "kTycvQU1NLsM"
      },
      "execution_count": null,
      "outputs": []
    },
    {
      "cell_type": "code",
      "source": [
        "# Magic keyword to check on variables\n",
        "%whos"
      ],
      "metadata": {
        "colab": {
          "base_uri": "https://localhost:8080/"
        },
        "id": "VSqNvfDhN1q7",
        "outputId": "4aaf94fc-4ac9-4b34-fc62-4093830f219c"
      },
      "execution_count": null,
      "outputs": [
        {
          "output_type": "stream",
          "name": "stdout",
          "text": [
            "Variable        Type     Data/Info\n",
            "----------------------------------\n",
            "a               int      10\n",
            "aVariableName   int      10\n",
            "b               int      3\n",
            "c               int      7\n",
            "d               float    7.0\n",
            "e               str      hello\n",
            "filterOrder     int      18\n",
            "g               str      hi\n",
            "o               str      My name's is Vera\n",
            "p               str      My name is Vera.\n",
            "param4modelA    float    43.58678\n",
            "user_name       str      Vera\n"
          ]
        }
      ]
    },
    {
      "cell_type": "code",
      "source": [
        "# Multiple assignment\n",
        "varA, varB = 3, \"test\"\n",
        "print(varA)\n",
        "print(varB)"
      ],
      "metadata": {
        "colab": {
          "base_uri": "https://localhost:8080/"
        },
        "id": "MFb_TmzKOXm9",
        "outputId": "b5c06f32-5aa4-443e-ce2d-c4d27ffca4ac"
      },
      "execution_count": null,
      "outputs": [
        {
          "output_type": "stream",
          "name": "stdout",
          "text": [
            "3\n",
            "test\n"
          ]
        }
      ]
    },
    {
      "cell_type": "markdown",
      "source": [
        "## Overwriting variables\n",
        "\n",
        "Is it possible to overwrite existing variables?\n",
        "- using the same variable type (yes)\n",
        "- using different variable type (yes)"
      ],
      "metadata": {
        "id": "ld9KQihLSjZj"
      }
    },
    {
      "cell_type": "code",
      "source": [
        "varA = 8\n",
        "type(varA)"
      ],
      "metadata": {
        "colab": {
          "base_uri": "https://localhost:8080/"
        },
        "id": "KbOgVlX0Pavo",
        "outputId": "7b238410-34c6-463a-b9c5-07e514dd9957"
      },
      "execution_count": null,
      "outputs": [
        {
          "output_type": "execute_result",
          "data": {
            "text/plain": [
              "int"
            ]
          },
          "metadata": {},
          "execution_count": 38
        }
      ]
    },
    {
      "cell_type": "code",
      "source": [
        "varA = \"string\"\n",
        "type(varA)"
      ],
      "metadata": {
        "colab": {
          "base_uri": "https://localhost:8080/"
        },
        "id": "1PErrnY4PfJP",
        "outputId": "845a013b-23cd-40d4-9a35-c0723f32ae58"
      },
      "execution_count": null,
      "outputs": [
        {
          "output_type": "execute_result",
          "data": {
            "text/plain": [
              "str"
            ]
          },
          "metadata": {},
          "execution_count": 39
        }
      ]
    },
    {
      "cell_type": "markdown",
      "source": [
        "# Math and printing"
      ],
      "metadata": {
        "id": "0b77Ng4SQBQa"
      }
    },
    {
      "cell_type": "code",
      "source": [
        "x = 7\n",
        "y = 4.3\n",
        "z = 0"
      ],
      "metadata": {
        "id": "fHrCi_KPPiyG"
      },
      "execution_count": null,
      "outputs": []
    },
    {
      "cell_type": "code",
      "source": [
        "# Floating-point algebra (not real algebra, instead of zeros one sees small numbers) \n",
        "y + x - 7"
      ],
      "metadata": {
        "colab": {
          "base_uri": "https://localhost:8080/"
        },
        "id": "mDS0nnD-QJyb",
        "outputId": "c34fadad-4924-4537-c7b6-4376850ab9b5"
      },
      "execution_count": null,
      "outputs": [
        {
          "output_type": "execute_result",
          "data": {
            "text/plain": [
              "4.300000000000001"
            ]
          },
          "metadata": {},
          "execution_count": 14
        }
      ]
    },
    {
      "cell_type": "code",
      "source": [
        "c = y + 3.5*x - 7 # addition, multiplication, substraction \n",
        "c"
      ],
      "metadata": {
        "colab": {
          "base_uri": "https://localhost:8080/"
        },
        "id": "EvRuvd83QSKx",
        "outputId": "e4f7cb89-520b-4923-bc79-2593556ab3ee"
      },
      "execution_count": null,
      "outputs": [
        {
          "output_type": "execute_result",
          "data": {
            "text/plain": [
              "21.8"
            ]
          },
          "metadata": {},
          "execution_count": 15
        }
      ]
    },
    {
      "cell_type": "code",
      "source": [
        "4/3 # devision"
      ],
      "metadata": {
        "colab": {
          "base_uri": "https://localhost:8080/"
        },
        "id": "p_e56_9JQ1u3",
        "outputId": "4f2abb9e-3a81-45ac-c9e9-14adb44323f2"
      },
      "execution_count": null,
      "outputs": [
        {
          "output_type": "execute_result",
          "data": {
            "text/plain": [
              "1.3333333333333333"
            ]
          },
          "metadata": {},
          "execution_count": 16
        }
      ]
    },
    {
      "cell_type": "code",
      "source": [
        "# Breaking up one line of code into multiple lines\n",
        "4 \\\n",
        "  + 3"
      ],
      "metadata": {
        "colab": {
          "base_uri": "https://localhost:8080/"
        },
        "id": "s2VLAeLnQ4v2",
        "outputId": "19da68da-0945-4216-c9ee-7271656ce5ba"
      },
      "execution_count": null,
      "outputs": [
        {
          "output_type": "execute_result",
          "data": {
            "text/plain": [
              "7"
            ]
          },
          "metadata": {},
          "execution_count": 17
        }
      ]
    },
    {
      "cell_type": "code",
      "source": [
        "3*2 # multiplication\n",
        "3**3 # powers\n",
        "9**(1/2) # square root, taking into account the order of operations "
      ],
      "metadata": {
        "colab": {
          "base_uri": "https://localhost:8080/"
        },
        "id": "IL06jwc7RXAg",
        "outputId": "73be4bb9-e25c-46e6-c04a-03ed9eb2286b"
      },
      "execution_count": null,
      "outputs": [
        {
          "output_type": "execute_result",
          "data": {
            "text/plain": [
              "3.0"
            ]
          },
          "metadata": {},
          "execution_count": 18
        }
      ]
    },
    {
      "cell_type": "code",
      "source": [
        "# String concatination\n",
        "first_name = \"Vera\"\n",
        "last_name  = \"Rykalina\"\n",
        "first_name + last_name"
      ],
      "metadata": {
        "colab": {
          "base_uri": "https://localhost:8080/",
          "height": 35
        },
        "id": "0woMlXItRqPy",
        "outputId": "6d5cd947-4644-4f8c-be04-b32df47c488c"
      },
      "execution_count": null,
      "outputs": [
        {
          "output_type": "execute_result",
          "data": {
            "text/plain": [
              "'VeraRykalina'"
            ],
            "application/vnd.google.colaboratory.intrinsic+json": {
              "type": "string"
            }
          },
          "metadata": {},
          "execution_count": 19
        }
      ]
    },
    {
      "cell_type": "code",
      "source": [
        "full_name = first_name + \" \" + last_name\n",
        "print(full_name)"
      ],
      "metadata": {
        "colab": {
          "base_uri": "https://localhost:8080/"
        },
        "id": "Y9RsSVgjscNT",
        "outputId": "a37e1f7e-dbd0-4e2e-f780-c4ab96823b8b"
      },
      "execution_count": null,
      "outputs": [
        {
          "output_type": "stream",
          "name": "stdout",
          "text": [
            "Vera Rykalina\n"
          ]
        }
      ]
    },
    {
      "cell_type": "code",
      "source": [
        "# This \"first_name - last_name\" will produce an error"
      ],
      "metadata": {
        "id": "h3Rjh5VeswTm"
      },
      "execution_count": null,
      "outputs": []
    },
    {
      "cell_type": "code",
      "source": [
        "print(first_name*3) # multiplication works with int but not with floats"
      ],
      "metadata": {
        "colab": {
          "base_uri": "https://localhost:8080/"
        },
        "id": "fheInWsQtI-1",
        "outputId": "2871450c-cafd-4a9b-b0df-353203546dca"
      },
      "execution_count": null,
      "outputs": [
        {
          "output_type": "stream",
          "name": "stdout",
          "text": [
            "VeraVeraVera\n"
          ]
        }
      ]
    },
    {
      "cell_type": "code",
      "source": [
        "print(\"7*3 = 2.1\") # no math"
      ],
      "metadata": {
        "colab": {
          "base_uri": "https://localhost:8080/"
        },
        "id": "yDtSd28XtO8j",
        "outputId": "8ffb701e-4ac5-413c-8ba3-979793f42373"
      },
      "execution_count": null,
      "outputs": [
        {
          "output_type": "stream",
          "name": "stdout",
          "text": [
            "7*3 = 2.1\n"
          ]
        }
      ]
    },
    {
      "cell_type": "code",
      "source": [
        "print(x + y) "
      ],
      "metadata": {
        "colab": {
          "base_uri": "https://localhost:8080/"
        },
        "id": "I6lBYdSAtlA1",
        "outputId": "7980327d-b92f-46fe-c408-5f8260b8850e"
      },
      "execution_count": null,
      "outputs": [
        {
          "output_type": "stream",
          "name": "stdout",
          "text": [
            "11.3\n"
          ]
        }
      ]
    },
    {
      "cell_type": "code",
      "source": [
        "# Printing mixed variable types\n",
        "print(str(x) + \" + \" + str(y) + \" =  \" + str(x + y))"
      ],
      "metadata": {
        "colab": {
          "base_uri": "https://localhost:8080/"
        },
        "id": "sAv3Tcmxt3xo",
        "outputId": "8aabf666-70bf-41ac-fd8a-28a3ad4cffee"
      },
      "execution_count": null,
      "outputs": [
        {
          "output_type": "stream",
          "name": "stdout",
          "text": [
            "7 + 4.3 =  11.3\n"
          ]
        }
      ]
    },
    {
      "cell_type": "code",
      "source": [
        "# A user input \n",
        "ans = input(\"Give me a number: \")"
      ],
      "metadata": {
        "colab": {
          "base_uri": "https://localhost:8080/"
        },
        "id": "NcMkvYiPuZhg",
        "outputId": "f62c6c0d-07ba-402b-91b8-3f4f9ff42030"
      },
      "execution_count": null,
      "outputs": [
        {
          "name": "stdout",
          "output_type": "stream",
          "text": [
            "Give me a number: 8\n"
          ]
        }
      ]
    },
    {
      "cell_type": "code",
      "source": [
        "type(ans) # str type"
      ],
      "metadata": {
        "colab": {
          "base_uri": "https://localhost:8080/"
        },
        "id": "h6l7zjrKvQhz",
        "outputId": "a0c991ff-37be-479a-cadf-20655ebfa6ac"
      },
      "execution_count": null,
      "outputs": [
        {
          "output_type": "execute_result",
          "data": {
            "text/plain": [
              "str"
            ]
          },
          "metadata": {},
          "execution_count": 32
        }
      ]
    },
    {
      "cell_type": "code",
      "source": [
        "ans = float(ans)\n",
        "type(ans)"
      ],
      "metadata": {
        "colab": {
          "base_uri": "https://localhost:8080/"
        },
        "id": "wMORuzIyvW5V",
        "outputId": "30e6ec28-4e24-4688-a16a-e517babc8d3e"
      },
      "execution_count": null,
      "outputs": [
        {
          "output_type": "execute_result",
          "data": {
            "text/plain": [
              "float"
            ]
          },
          "metadata": {},
          "execution_count": 33
        }
      ]
    },
    {
      "cell_type": "code",
      "source": [
        "# Embedding \n",
        "ans = float(input(\"Give me a number: \"))"
      ],
      "metadata": {
        "colab": {
          "base_uri": "https://localhost:8080/"
        },
        "id": "OjsEYIEAvqjF",
        "outputId": "68366746-63b0-4479-93e6-f74605cf20a6"
      },
      "execution_count": null,
      "outputs": [
        {
          "name": "stdout",
          "output_type": "stream",
          "text": [
            "Give me a number: 17.3\n"
          ]
        }
      ]
    },
    {
      "cell_type": "code",
      "source": [
        "type(ans)"
      ],
      "metadata": {
        "colab": {
          "base_uri": "https://localhost:8080/"
        },
        "id": "04gUhAaVvylU",
        "outputId": "22ced66e-dd96-46e9-d10e-bbc7cda5a0f9"
      },
      "execution_count": null,
      "outputs": [
        {
          "output_type": "execute_result",
          "data": {
            "text/plain": [
              "float"
            ]
          },
          "metadata": {},
          "execution_count": 35
        }
      ]
    },
    {
      "cell_type": "markdown",
      "source": [
        "## Pythagorean theorem\n",
        "\n",
        "$c^2 = a^2 + b^2$\n",
        "\n",
        "Get two inputs from the user:\n",
        "-  side a\n",
        "-  side b\n",
        "-  compare and print out the length of the side c"
      ],
      "metadata": {
        "id": "Is9QoX0Zw99-"
      }
    },
    {
      "cell_type": "code",
      "source": [
        "a = float(input(\"Type a side a: \"))\n",
        "print(f\"The side a is equal to {a}\")"
      ],
      "metadata": {
        "colab": {
          "base_uri": "https://localhost:8080/"
        },
        "id": "eofa1kFcw5Bq",
        "outputId": "4c73875b-c4ec-4879-d47d-af32019804e9"
      },
      "execution_count": null,
      "outputs": [
        {
          "output_type": "stream",
          "name": "stdout",
          "text": [
            "Type a side a: 5\n",
            "The side a is equal to 5.0\n"
          ]
        }
      ]
    },
    {
      "cell_type": "code",
      "source": [
        "b = float(input(\"Type a side b: \"))\n",
        "print(f\"The side b is equal to {b}\")"
      ],
      "metadata": {
        "colab": {
          "base_uri": "https://localhost:8080/"
        },
        "id": "N87CIr8OxOKo",
        "outputId": "a97711af-1dae-47d4-e471-cf4f798b7361"
      },
      "execution_count": null,
      "outputs": [
        {
          "output_type": "stream",
          "name": "stdout",
          "text": [
            "Type a side b: 5\n",
            "The side b is equal to 5.0\n"
          ]
        }
      ]
    },
    {
      "cell_type": "code",
      "source": [
        "c = round((a**2 + b**2)**(1/2), 2)\n",
        "print(f\"The calculated hypotenuse is {c}\")"
      ],
      "metadata": {
        "colab": {
          "base_uri": "https://localhost:8080/"
        },
        "id": "flBfQ_8GyXzs",
        "outputId": "cbcbda0b-bd35-4111-cbc7-c76df09a8659"
      },
      "execution_count": null,
      "outputs": [
        {
          "output_type": "stream",
          "name": "stdout",
          "text": [
            "The calculated hypotenuse is 7.07\n"
          ]
        }
      ]
    },
    {
      "cell_type": "markdown",
      "source": [
        "## Lists"
      ],
      "metadata": {
        "id": "9DiE6DRb0xAU"
      }
    },
    {
      "cell_type": "code",
      "source": [
        "# List of integers\n",
        "aList = [4, 6, 7, 2, 1, 9]\n",
        "print(aList)\n",
        "type(aList)"
      ],
      "metadata": {
        "id": "3Bsuz5UHykMo",
        "colab": {
          "base_uri": "https://localhost:8080/"
        },
        "outputId": "1cc976ab-f35d-458b-a28b-645190245925"
      },
      "execution_count": 41,
      "outputs": [
        {
          "output_type": "stream",
          "name": "stdout",
          "text": [
            "[4, 6, 7, 2, 1, 9]\n"
          ]
        },
        {
          "output_type": "execute_result",
          "data": {
            "text/plain": [
              "list"
            ]
          },
          "metadata": {},
          "execution_count": 41
        }
      ]
    },
    {
      "cell_type": "code",
      "source": [
        "# List of strings\n",
        "strList = [ \"hi\", \"my\", \"name\", \"is\", \"Vera\"]\n",
        "print(strList)\n",
        "type(strList)"
      ],
      "metadata": {
        "colab": {
          "base_uri": "https://localhost:8080/"
        },
        "id": "RU4FcOEk4q_k",
        "outputId": "53c8d898-48e3-4a6d-8949-967d0c0418b7"
      },
      "execution_count": 20,
      "outputs": [
        {
          "output_type": "stream",
          "name": "stdout",
          "text": [
            "['hi', 'my', 'name', 'is', 'Vera']\n"
          ]
        },
        {
          "output_type": "execute_result",
          "data": {
            "text/plain": [
              "list"
            ]
          },
          "metadata": {},
          "execution_count": 20
        }
      ]
    },
    {
      "cell_type": "code",
      "source": [
        "# Mixted list\n",
        "mixList = [ 3, 5.0, \"test\", 50.1]\n",
        "print(mixList)\n",
        "type(mixList)"
      ],
      "metadata": {
        "colab": {
          "base_uri": "https://localhost:8080/"
        },
        "id": "AL5-7Cae48rU",
        "outputId": "f2cb9650-8dca-43b5-858e-6bce62fc9df3"
      },
      "execution_count": 21,
      "outputs": [
        {
          "output_type": "stream",
          "name": "stdout",
          "text": [
            "[3, 5.0, 'test', 50.1]\n"
          ]
        },
        {
          "output_type": "execute_result",
          "data": {
            "text/plain": [
              "list"
            ]
          },
          "metadata": {},
          "execution_count": 21
        }
      ]
    },
    {
      "cell_type": "code",
      "source": [
        "# List of lists\n",
        "listlist = [ 1, 2, 3, \"hi\", \"bye\", [.5, 1/2, \"j\"], 3,2,1 ]"
      ],
      "metadata": {
        "id": "b08u4o7s5W0C"
      },
      "execution_count": 22,
      "outputs": []
    },
    {
      "cell_type": "code",
      "source": [
        "# Vertical organization (sometimes useful, e.g for adding comments)\n",
        "listlist = [ \n",
        "            1, # comment 1\n",
        "            2, # comment 2\n",
        "            3, # comment 3\n",
        "            \"hi\", \n",
        "            \"bye\", \n",
        "            [.5, 1/2, \"j\"], \n",
        "            3, 2, \n",
        "            1 \n",
        "            ]"
      ],
      "metadata": {
        "id": "l78CckoV52QX"
      },
      "execution_count": 23,
      "outputs": []
    },
    {
      "cell_type": "code",
      "source": [
        "# Working with lists (use python in/not in keywords)\n",
        "\n",
        "# Is number 4 in list?\n",
        "print(4 in aList) \n",
        "\n",
        "# Is number 40 in list?\n",
        "print(4 in aList)\n",
        "\n",
        "# Is number 40 not in list?\n",
        "print(40 not in aList)"
      ],
      "metadata": {
        "colab": {
          "base_uri": "https://localhost:8080/"
        },
        "id": "PtpesRxg6TRU",
        "outputId": "ba67c12c-88c6-4dfd-8f77-48b46d1195ca"
      },
      "execution_count": 24,
      "outputs": [
        {
          "output_type": "stream",
          "name": "stdout",
          "text": [
            "True\n",
            "True\n",
            "True\n"
          ]
        }
      ]
    },
    {
      "cell_type": "code",
      "source": [
        "# Concatenation of lists \n",
        "aList + strList"
      ],
      "metadata": {
        "colab": {
          "base_uri": "https://localhost:8080/"
        },
        "id": "sg6fmiHB64dJ",
        "outputId": "fcc16ae4-1fc1-401d-e85b-33e49c8267a1"
      },
      "execution_count": 25,
      "outputs": [
        {
          "output_type": "execute_result",
          "data": {
            "text/plain": [
              "[4, 6, 7, 2, 1, 9, 'hi', 'my', 'name', 'is', 'Vera']"
            ]
          },
          "metadata": {},
          "execution_count": 25
        }
      ]
    },
    {
      "cell_type": "code",
      "source": [
        "# Repitition \n",
        "strList*3"
      ],
      "metadata": {
        "colab": {
          "base_uri": "https://localhost:8080/"
        },
        "id": "uxqqsMhG8A3E",
        "outputId": "ae338471-7467-4f4f-f5ba-ab50cfea9325"
      },
      "execution_count": 26,
      "outputs": [
        {
          "output_type": "execute_result",
          "data": {
            "text/plain": [
              "['hi',\n",
              " 'my',\n",
              " 'name',\n",
              " 'is',\n",
              " 'Vera',\n",
              " 'hi',\n",
              " 'my',\n",
              " 'name',\n",
              " 'is',\n",
              " 'Vera',\n",
              " 'hi',\n",
              " 'my',\n",
              " 'name',\n",
              " 'is',\n",
              " 'Vera']"
            ]
          },
          "metadata": {},
          "execution_count": 26
        }
      ]
    },
    {
      "cell_type": "code",
      "source": [
        "# Method .append()\n",
        "print(aList)\n",
        "aList.append(-200)\n",
        "print(aList)"
      ],
      "metadata": {
        "colab": {
          "base_uri": "https://localhost:8080/"
        },
        "id": "UeBBtN-87ZhO",
        "outputId": "3b203ca7-c04b-4efa-89b3-4767e8e25dab"
      },
      "execution_count": 42,
      "outputs": [
        {
          "output_type": "stream",
          "name": "stdout",
          "text": [
            "[4, 6, 7, 2, 1, 9]\n",
            "[4, 6, 7, 2, 1, 9, -200]\n"
          ]
        }
      ]
    },
    {
      "cell_type": "code",
      "source": [
        "# Demo of in place output\n",
        "print(aList)\n",
        "aList.append(-200)\n",
        "print(aList)"
      ],
      "metadata": {
        "colab": {
          "base_uri": "https://localhost:8080/"
        },
        "id": "7Tny97WP8ja4",
        "outputId": "1b8e13de-e880-4edf-e8ab-7897478c98ee"
      },
      "execution_count": 43,
      "outputs": [
        {
          "output_type": "stream",
          "name": "stdout",
          "text": [
            "[4, 6, 7, 2, 1, 9, -200]\n",
            "[4, 6, 7, 2, 1, 9, -200, -200]\n"
          ]
        }
      ]
    },
    {
      "cell_type": "code",
      "source": [
        "# Method .sort() (sorts by numerical number)\n",
        "print(aList)\n",
        "aList.sort()\n",
        "print(aList)"
      ],
      "metadata": {
        "colab": {
          "base_uri": "https://localhost:8080/"
        },
        "id": "4sHylqtS9G9G",
        "outputId": "ae48012b-002f-47ae-a50a-76b81e5189b4"
      },
      "execution_count": 44,
      "outputs": [
        {
          "output_type": "stream",
          "name": "stdout",
          "text": [
            "[4, 6, 7, 2, 1, 9, -200, -200]\n",
            "[-200, -200, 1, 2, 4, 6, 7, 9]\n"
          ]
        }
      ]
    },
    {
      "cell_type": "code",
      "source": [
        "# Method .count() \n",
        "# Find the number of \"-200\"s in aList\n",
        "aList.count(-200)"
      ],
      "metadata": {
        "colab": {
          "base_uri": "https://localhost:8080/"
        },
        "id": "6qAwO3Km9lU6",
        "outputId": "a58573b5-1416-47a1-e62a-b5cbfdae2052"
      },
      "execution_count": 45,
      "outputs": [
        {
          "output_type": "execute_result",
          "data": {
            "text/plain": [
              "2"
            ]
          },
          "metadata": {},
          "execution_count": 45
        }
      ]
    },
    {
      "cell_type": "code",
      "source": [
        ""
      ],
      "metadata": {
        "id": "gNFH9iqu-LdP"
      },
      "execution_count": null,
      "outputs": []
    }
  ]
}