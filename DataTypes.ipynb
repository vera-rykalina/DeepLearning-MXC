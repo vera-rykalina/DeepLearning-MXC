{
  "nbformat": 4,
  "nbformat_minor": 0,
  "metadata": {
    "colab": {
      "name": "DataTypes.ipynb",
      "provenance": [],
      "authorship_tag": "ABX9TyNd33iHl1Per3UKdRF6EfBC",
      "include_colab_link": true
    },
    "kernelspec": {
      "name": "python3",
      "display_name": "Python 3"
    },
    "language_info": {
      "name": "python"
    }
  },
  "cells": [
    {
      "cell_type": "markdown",
      "metadata": {
        "id": "view-in-github",
        "colab_type": "text"
      },
      "source": [
        "<a href=\"https://colab.research.google.com/github/vera-rykalina/PythonIntroDeepLearning/blob/main/DataTypes.ipynb\" target=\"_parent\"><img src=\"https://colab.research.google.com/assets/colab-badge.svg\" alt=\"Open In Colab\"/></a>"
      ]
    },
    {
      "cell_type": "markdown",
      "source": [
        "# Introduction to Python for Deep Learning"
      ],
      "metadata": {
        "id": "al5C-P0mTEmI"
      }
    },
    {
      "cell_type": "markdown",
      "source": [
        "# Variables\n"
      ],
      "metadata": {
        "id": "IRUmtjnPK6Jv"
      }
    },
    {
      "cell_type": "code",
      "source": [
        "# Calculator\n",
        "7 + 3"
      ],
      "metadata": {
        "colab": {
          "base_uri": "https://localhost:8080/"
        },
        "id": "2BizDbp_JlLB",
        "outputId": "ae3b8133-b5d4-4adb-9cec-e04bbbe5ae35"
      },
      "execution_count": 12,
      "outputs": [
        {
          "output_type": "execute_result",
          "data": {
            "text/plain": [
              "10"
            ]
          },
          "metadata": {},
          "execution_count": 12
        }
      ]
    },
    {
      "cell_type": "code",
      "source": [
        "# Variable assingment\n",
        "a = 10\n",
        "b = 3"
      ],
      "metadata": {
        "id": "pML-5kMYLAHL"
      },
      "execution_count": 47,
      "outputs": []
    },
    {
      "cell_type": "code",
      "source": [
        "# This code cell inspects the values of the variables (a pound sign)\n",
        "print(a) # print out a\n",
        "print(b) # print out b"
      ],
      "metadata": {
        "colab": {
          "base_uri": "https://localhost:8080/"
        },
        "id": "5m0ZAAQKLRWu",
        "outputId": "cf525bda-502a-4368-de58-9644527b5c61"
      },
      "execution_count": 48,
      "outputs": [
        {
          "output_type": "stream",
          "name": "stdout",
          "text": [
            "10\n",
            "3\n"
          ]
        }
      ]
    },
    {
      "cell_type": "code",
      "source": [
        "# Check type of variablesc = 7\n",
        "d = 7.0\n",
        "e = \"hello\"\n",
        "\n",
        "print(type(c)) # integer (int)\n",
        "print(type(d)) # float (floating point)\n",
        "print(type(e)) # string (str)"
      ],
      "metadata": {
        "colab": {
          "base_uri": "https://localhost:8080/"
        },
        "id": "M84zsbkZLZed",
        "outputId": "361ea610-37db-4bd2-f03f-105a008337d8"
      },
      "execution_count": 49,
      "outputs": [
        {
          "output_type": "stream",
          "name": "stdout",
          "text": [
            "<class 'float'>\n",
            "<class 'float'>\n",
            "<class 'str'>\n"
          ]
        }
      ]
    },
    {
      "cell_type": "code",
      "source": [
        "# Quotes\n",
        "g = \"hi\"\n",
        "p = 'My name is Vera.'\n",
        "o = \"My name's is Vera\""
      ],
      "metadata": {
        "id": "oiTjZv-GL8Fb"
      },
      "execution_count": 17,
      "outputs": []
    },
    {
      "cell_type": "code",
      "source": [
        "g, p, o"
      ],
      "metadata": {
        "colab": {
          "base_uri": "https://localhost:8080/"
        },
        "id": "LWvlqS2YMLpB",
        "outputId": "e1998b3a-74e1-44e7-e1cf-5c30fa958e72"
      },
      "execution_count": 18,
      "outputs": [
        {
          "output_type": "execute_result",
          "data": {
            "text/plain": [
              "('hi', 'My name is Vera.', \"My name's is Vera\")"
            ]
          },
          "metadata": {},
          "execution_count": 18
        }
      ]
    },
    {
      "cell_type": "code",
      "source": [
        "# Variable name convention\n",
        "aVariableName = 10\n",
        "filterOrder   = 18\n",
        "user_name     = \"Vera\"\n",
        "param4modelA = 43.58678"
      ],
      "metadata": {
        "id": "kTycvQU1NLsM"
      },
      "execution_count": 19,
      "outputs": []
    },
    {
      "cell_type": "markdown",
      "source": [
        "## Magic keyword whos"
      ],
      "metadata": {
        "id": "RjApDevIs6Gy"
      }
    },
    {
      "cell_type": "code",
      "source": [
        "# Magic keyword to check on variables\n",
        "%whos"
      ],
      "metadata": {
        "colab": {
          "base_uri": "https://localhost:8080/"
        },
        "id": "VSqNvfDhN1q7",
        "outputId": "2e17e054-8f7e-4604-c20b-8e13c2998994"
      },
      "execution_count": 20,
      "outputs": [
        {
          "output_type": "stream",
          "name": "stdout",
          "text": [
            "Variable        Type     Data/Info\n",
            "----------------------------------\n",
            "a               int      10\n",
            "aVariableName   int      10\n",
            "b               int      3\n",
            "c               int      7\n",
            "d               float    7.0\n",
            "e               str      hello\n",
            "filterOrder     int      18\n",
            "g               str      hi\n",
            "o               str      My name's is Vera\n",
            "p               str      My name is Vera.\n",
            "param4modelA    float    43.58678\n",
            "user_name       str      Vera\n"
          ]
        }
      ]
    },
    {
      "cell_type": "code",
      "source": [
        "# Multiple assignment\n",
        "varA, varB = 3, \"test\"\n",
        "print(varA)\n",
        "print(varB)"
      ],
      "metadata": {
        "colab": {
          "base_uri": "https://localhost:8080/"
        },
        "id": "MFb_TmzKOXm9",
        "outputId": "4c899065-2bce-402c-8f86-cdf55c8d0377"
      },
      "execution_count": 21,
      "outputs": [
        {
          "output_type": "stream",
          "name": "stdout",
          "text": [
            "3\n",
            "test\n"
          ]
        }
      ]
    },
    {
      "cell_type": "markdown",
      "source": [
        "## Overwriting variables\n",
        "\n",
        "Is it possible to overwrite existing variables?\n",
        "- using the same variable type (yes)\n",
        "- using different variable type (yes)"
      ],
      "metadata": {
        "id": "ld9KQihLSjZj"
      }
    },
    {
      "cell_type": "code",
      "source": [
        "varA = 8\n",
        "type(varA)"
      ],
      "metadata": {
        "colab": {
          "base_uri": "https://localhost:8080/"
        },
        "id": "KbOgVlX0Pavo",
        "outputId": "7fce4f24-1c56-4252-d633-213255f89fe0"
      },
      "execution_count": 22,
      "outputs": [
        {
          "output_type": "execute_result",
          "data": {
            "text/plain": [
              "int"
            ]
          },
          "metadata": {},
          "execution_count": 22
        }
      ]
    },
    {
      "cell_type": "code",
      "source": [
        "varA = \"string\"\n",
        "type(varA)"
      ],
      "metadata": {
        "colab": {
          "base_uri": "https://localhost:8080/"
        },
        "id": "1PErrnY4PfJP",
        "outputId": "98615d07-6170-4be1-81a9-1da7605f884f"
      },
      "execution_count": 23,
      "outputs": [
        {
          "output_type": "execute_result",
          "data": {
            "text/plain": [
              "str"
            ]
          },
          "metadata": {},
          "execution_count": 23
        }
      ]
    },
    {
      "cell_type": "markdown",
      "source": [
        "# Math and printing"
      ],
      "metadata": {
        "id": "0b77Ng4SQBQa"
      }
    },
    {
      "cell_type": "code",
      "source": [
        "x = 7\n",
        "y = 4.3\n",
        "z = 0"
      ],
      "metadata": {
        "id": "fHrCi_KPPiyG"
      },
      "execution_count": 24,
      "outputs": []
    },
    {
      "cell_type": "code",
      "source": [
        "# Floating-point algebra (not real algebra, instead of zeros one sees small numbers) \n",
        "y + x - 7"
      ],
      "metadata": {
        "colab": {
          "base_uri": "https://localhost:8080/"
        },
        "id": "mDS0nnD-QJyb",
        "outputId": "4aed43ae-fae3-4651-e0d6-6761d37e384e"
      },
      "execution_count": 25,
      "outputs": [
        {
          "output_type": "execute_result",
          "data": {
            "text/plain": [
              "4.300000000000001"
            ]
          },
          "metadata": {},
          "execution_count": 25
        }
      ]
    },
    {
      "cell_type": "code",
      "source": [
        "c = y + 3.5*x - 7 # addition, multiplication, substraction \n",
        "c"
      ],
      "metadata": {
        "colab": {
          "base_uri": "https://localhost:8080/"
        },
        "id": "EvRuvd83QSKx",
        "outputId": "2e5f1a71-2574-4485-e970-6926df7ed280"
      },
      "execution_count": 26,
      "outputs": [
        {
          "output_type": "execute_result",
          "data": {
            "text/plain": [
              "21.8"
            ]
          },
          "metadata": {},
          "execution_count": 26
        }
      ]
    },
    {
      "cell_type": "code",
      "source": [
        "4/3 # devision"
      ],
      "metadata": {
        "colab": {
          "base_uri": "https://localhost:8080/"
        },
        "id": "p_e56_9JQ1u3",
        "outputId": "fee9fb66-f2f4-4fcc-887a-0dff3966255f"
      },
      "execution_count": 27,
      "outputs": [
        {
          "output_type": "execute_result",
          "data": {
            "text/plain": [
              "1.3333333333333333"
            ]
          },
          "metadata": {},
          "execution_count": 27
        }
      ]
    },
    {
      "cell_type": "code",
      "source": [
        "# Breaking up one line of code into multiple lines\n",
        "4 \\\n",
        "  + 3"
      ],
      "metadata": {
        "colab": {
          "base_uri": "https://localhost:8080/"
        },
        "id": "s2VLAeLnQ4v2",
        "outputId": "ec2292ac-71c1-48c0-bfc3-2f77f17d47cc"
      },
      "execution_count": 28,
      "outputs": [
        {
          "output_type": "execute_result",
          "data": {
            "text/plain": [
              "7"
            ]
          },
          "metadata": {},
          "execution_count": 28
        }
      ]
    },
    {
      "cell_type": "code",
      "source": [
        "3*2 # multiplication\n",
        "3**3 # powers\n",
        "9**(1/2) # square root, taking into account the order of operations "
      ],
      "metadata": {
        "colab": {
          "base_uri": "https://localhost:8080/"
        },
        "id": "IL06jwc7RXAg",
        "outputId": "8a61b5ec-3b91-434c-bb04-2eda7cf7055b"
      },
      "execution_count": 29,
      "outputs": [
        {
          "output_type": "execute_result",
          "data": {
            "text/plain": [
              "3.0"
            ]
          },
          "metadata": {},
          "execution_count": 29
        }
      ]
    },
    {
      "cell_type": "code",
      "source": [
        "# String concatination\n",
        "first_name = \"Vera\"\n",
        "last_name  = \"Rykalina\"\n",
        "first_name + last_name"
      ],
      "metadata": {
        "colab": {
          "base_uri": "https://localhost:8080/",
          "height": 35
        },
        "id": "0woMlXItRqPy",
        "outputId": "681146d1-eafe-4aaa-c612-59327a00fdbe"
      },
      "execution_count": 30,
      "outputs": [
        {
          "output_type": "execute_result",
          "data": {
            "text/plain": [
              "'VeraRykalina'"
            ],
            "application/vnd.google.colaboratory.intrinsic+json": {
              "type": "string"
            }
          },
          "metadata": {},
          "execution_count": 30
        }
      ]
    },
    {
      "cell_type": "code",
      "source": [
        "full_name = first_name + \" \" + last_name\n",
        "print(full_name)"
      ],
      "metadata": {
        "colab": {
          "base_uri": "https://localhost:8080/"
        },
        "id": "Y9RsSVgjscNT",
        "outputId": "b979bec5-e775-45a6-c236-b6e1bd32d2ea"
      },
      "execution_count": 31,
      "outputs": [
        {
          "output_type": "stream",
          "name": "stdout",
          "text": [
            "Vera Rykalina\n"
          ]
        }
      ]
    },
    {
      "cell_type": "code",
      "source": [
        "# This \"first_name - last_name\" will produce an error"
      ],
      "metadata": {
        "id": "h3Rjh5VeswTm"
      },
      "execution_count": 32,
      "outputs": []
    },
    {
      "cell_type": "code",
      "source": [
        "print(first_name*3) # multiplication works with int but not with floats"
      ],
      "metadata": {
        "colab": {
          "base_uri": "https://localhost:8080/"
        },
        "id": "fheInWsQtI-1",
        "outputId": "c9f15488-a05d-4613-ccd8-f452454a6f1d"
      },
      "execution_count": 33,
      "outputs": [
        {
          "output_type": "stream",
          "name": "stdout",
          "text": [
            "VeraVeraVera\n"
          ]
        }
      ]
    },
    {
      "cell_type": "code",
      "source": [
        "print(\"7*3 = 2.1\") # no math"
      ],
      "metadata": {
        "colab": {
          "base_uri": "https://localhost:8080/"
        },
        "id": "yDtSd28XtO8j",
        "outputId": "2ed66fed-d35f-4468-b641-73249fa22862"
      },
      "execution_count": 34,
      "outputs": [
        {
          "output_type": "stream",
          "name": "stdout",
          "text": [
            "7*3 = 2.1\n"
          ]
        }
      ]
    },
    {
      "cell_type": "code",
      "source": [
        "print(x + y) "
      ],
      "metadata": {
        "colab": {
          "base_uri": "https://localhost:8080/"
        },
        "id": "I6lBYdSAtlA1",
        "outputId": "a8510a4d-eb67-4c00-d37b-5ff509fe3aae"
      },
      "execution_count": 35,
      "outputs": [
        {
          "output_type": "stream",
          "name": "stdout",
          "text": [
            "11.3\n"
          ]
        }
      ]
    },
    {
      "cell_type": "code",
      "source": [
        "# Printing mixed variable types\n",
        "print(str(x) + \" + \" + str(y) + \" =  \" + str(x + y))"
      ],
      "metadata": {
        "colab": {
          "base_uri": "https://localhost:8080/"
        },
        "id": "sAv3Tcmxt3xo",
        "outputId": "d762fa57-254a-482c-d139-fb4e14620c02"
      },
      "execution_count": 36,
      "outputs": [
        {
          "output_type": "stream",
          "name": "stdout",
          "text": [
            "7 + 4.3 =  11.3\n"
          ]
        }
      ]
    },
    {
      "cell_type": "code",
      "source": [
        "# A user input \n",
        "ans = input(\"Give me a number: \")"
      ],
      "metadata": {
        "colab": {
          "base_uri": "https://localhost:8080/"
        },
        "id": "NcMkvYiPuZhg",
        "outputId": "05e03592-b4a5-4106-c0d4-4d6664dd46eb"
      },
      "execution_count": 37,
      "outputs": [
        {
          "name": "stdout",
          "output_type": "stream",
          "text": [
            "Give me a number: 11\n"
          ]
        }
      ]
    },
    {
      "cell_type": "code",
      "source": [
        "type(ans) # str type"
      ],
      "metadata": {
        "colab": {
          "base_uri": "https://localhost:8080/"
        },
        "id": "h6l7zjrKvQhz",
        "outputId": "11313e7f-08ce-4b4a-f96e-9095e3b8f1af"
      },
      "execution_count": 38,
      "outputs": [
        {
          "output_type": "execute_result",
          "data": {
            "text/plain": [
              "str"
            ]
          },
          "metadata": {},
          "execution_count": 38
        }
      ]
    },
    {
      "cell_type": "code",
      "source": [
        "ans = float(ans)\n",
        "type(ans)"
      ],
      "metadata": {
        "colab": {
          "base_uri": "https://localhost:8080/"
        },
        "id": "wMORuzIyvW5V",
        "outputId": "0f72fc6e-c98c-4696-c75c-d2231f4a2061"
      },
      "execution_count": 39,
      "outputs": [
        {
          "output_type": "execute_result",
          "data": {
            "text/plain": [
              "float"
            ]
          },
          "metadata": {},
          "execution_count": 39
        }
      ]
    },
    {
      "cell_type": "code",
      "source": [
        "# Embedding \n",
        "ans = float(input(\"Give me a number: \"))"
      ],
      "metadata": {
        "colab": {
          "base_uri": "https://localhost:8080/"
        },
        "id": "OjsEYIEAvqjF",
        "outputId": "cf56501f-fbca-480f-c966-1d2302d5508a"
      },
      "execution_count": 40,
      "outputs": [
        {
          "name": "stdout",
          "output_type": "stream",
          "text": [
            "Give me a number: 4\n"
          ]
        }
      ]
    },
    {
      "cell_type": "code",
      "source": [
        "type(ans)"
      ],
      "metadata": {
        "colab": {
          "base_uri": "https://localhost:8080/"
        },
        "id": "04gUhAaVvylU",
        "outputId": "ad69bec0-80c3-4e0e-a8c6-91ed342239a0"
      },
      "execution_count": 41,
      "outputs": [
        {
          "output_type": "execute_result",
          "data": {
            "text/plain": [
              "float"
            ]
          },
          "metadata": {},
          "execution_count": 41
        }
      ]
    },
    {
      "cell_type": "markdown",
      "source": [
        "## Pythagorean theorem (1)\n",
        "\n",
        "$c^2 = a^2 + b^2$\n",
        "\n",
        "Get two inputs from the user:\n",
        "-  side a\n",
        "-  side b\n",
        "-  compare and print out the length of the side c"
      ],
      "metadata": {
        "id": "Is9QoX0Zw99-"
      }
    },
    {
      "cell_type": "code",
      "source": [
        "a = float(input(\"Type a side a: \"))\n",
        "print(f\"The side a is equal to {a}\")"
      ],
      "metadata": {
        "colab": {
          "base_uri": "https://localhost:8080/"
        },
        "id": "eofa1kFcw5Bq",
        "outputId": "b43603ae-6549-4822-fdfa-33ea8a751ca1"
      },
      "execution_count": 42,
      "outputs": [
        {
          "output_type": "stream",
          "name": "stdout",
          "text": [
            "Type a side a: 6\n",
            "The side a is equal to 6.0\n"
          ]
        }
      ]
    },
    {
      "cell_type": "code",
      "source": [
        "b = float(input(\"Type a side b: \"))\n",
        "print(f\"The side b is equal to {b}\")"
      ],
      "metadata": {
        "colab": {
          "base_uri": "https://localhost:8080/"
        },
        "id": "N87CIr8OxOKo",
        "outputId": "36dda43a-6b48-4cc5-9724-b121a7479176"
      },
      "execution_count": 43,
      "outputs": [
        {
          "output_type": "stream",
          "name": "stdout",
          "text": [
            "Type a side b: 5\n",
            "The side b is equal to 5.0\n"
          ]
        }
      ]
    },
    {
      "cell_type": "code",
      "source": [
        "c = round((a**2 + b**2)**(1/2), 2)\n",
        "print(f\"The calculated hypotenuse is {c}\")"
      ],
      "metadata": {
        "colab": {
          "base_uri": "https://localhost:8080/"
        },
        "id": "flBfQ_8GyXzs",
        "outputId": "6bf05a23-d552-469f-a0a1-d6993c3e701b"
      },
      "execution_count": 44,
      "outputs": [
        {
          "output_type": "stream",
          "name": "stdout",
          "text": [
            "The calculated hypotenuse is 7.81\n"
          ]
        }
      ]
    },
    {
      "cell_type": "markdown",
      "source": [
        "# Lists"
      ],
      "metadata": {
        "id": "9DiE6DRb0xAU"
      }
    },
    {
      "cell_type": "code",
      "source": [
        "# List of integers\n",
        "aList = [4, 6, 7, 2, 1, 9]\n",
        "print(aList)\n",
        "type(aList)"
      ],
      "metadata": {
        "id": "3Bsuz5UHykMo",
        "colab": {
          "base_uri": "https://localhost:8080/"
        },
        "outputId": "e7badfe7-d99b-4bce-8df4-0ca90d24e6d6"
      },
      "execution_count": 45,
      "outputs": [
        {
          "output_type": "stream",
          "name": "stdout",
          "text": [
            "[4, 6, 7, 2, 1, 9]\n"
          ]
        },
        {
          "output_type": "execute_result",
          "data": {
            "text/plain": [
              "list"
            ]
          },
          "metadata": {},
          "execution_count": 45
        }
      ]
    },
    {
      "cell_type": "code",
      "source": [
        "# List of strings\n",
        "strList = [ \"hi\", \"my\", \"name\", \"is\", \"Vera\"]\n",
        "print(strList)\n",
        "type(strList)"
      ],
      "metadata": {
        "colab": {
          "base_uri": "https://localhost:8080/"
        },
        "id": "RU4FcOEk4q_k",
        "outputId": "38dd1cbd-9422-436f-c943-d1f5f284b9cb"
      },
      "execution_count": 46,
      "outputs": [
        {
          "output_type": "stream",
          "name": "stdout",
          "text": [
            "['hi', 'my', 'name', 'is', 'Vera']\n"
          ]
        },
        {
          "output_type": "execute_result",
          "data": {
            "text/plain": [
              "list"
            ]
          },
          "metadata": {},
          "execution_count": 46
        }
      ]
    },
    {
      "cell_type": "code",
      "source": [
        "# Mixted list\n",
        "mixList = [ 3, 5.0, \"test\", 50.1]\n",
        "print(mixList)\n",
        "type(mixList)"
      ],
      "metadata": {
        "colab": {
          "base_uri": "https://localhost:8080/"
        },
        "id": "AL5-7Cae48rU",
        "outputId": "0a433a20-d474-460a-de77-35bd22645923"
      },
      "execution_count": 47,
      "outputs": [
        {
          "output_type": "stream",
          "name": "stdout",
          "text": [
            "[3, 5.0, 'test', 50.1]\n"
          ]
        },
        {
          "output_type": "execute_result",
          "data": {
            "text/plain": [
              "list"
            ]
          },
          "metadata": {},
          "execution_count": 47
        }
      ]
    },
    {
      "cell_type": "code",
      "source": [
        "# List of lists\n",
        "listlist = [ 1, 2, 3, \"hi\", \"bye\", [.5, 1/2, \"j\"], 3,2,1 ]"
      ],
      "metadata": {
        "id": "b08u4o7s5W0C"
      },
      "execution_count": 48,
      "outputs": []
    },
    {
      "cell_type": "code",
      "source": [
        "# Vertical organization (sometimes useful, e.g for adding comments)\n",
        "listlist = [ \n",
        "            1, # comment 1\n",
        "            2, # comment 2\n",
        "            3, # comment 3\n",
        "            \"hi\", \n",
        "            \"bye\", \n",
        "            [.5, 1/2, \"j\"], \n",
        "            3, \n",
        "            2, \n",
        "            1 \n",
        "            ]"
      ],
      "metadata": {
        "id": "l78CckoV52QX"
      },
      "execution_count": 49,
      "outputs": []
    },
    {
      "cell_type": "code",
      "source": [
        "# Working with lists (use python in/not in keywords)\n",
        "\n",
        "# Is number 4 in list?\n",
        "print(4 in aList) \n",
        "\n",
        "# Is number 40 in list?\n",
        "print(4 in aList)\n",
        "\n",
        "# Is number 40 not in list?\n",
        "print(40 not in aList)"
      ],
      "metadata": {
        "colab": {
          "base_uri": "https://localhost:8080/"
        },
        "id": "PtpesRxg6TRU",
        "outputId": "f3cff675-a58a-439f-bd11-3f923cafe3e2"
      },
      "execution_count": 50,
      "outputs": [
        {
          "output_type": "stream",
          "name": "stdout",
          "text": [
            "True\n",
            "True\n",
            "True\n"
          ]
        }
      ]
    },
    {
      "cell_type": "code",
      "source": [
        "# Concatenation of lists \n",
        "aList + strList"
      ],
      "metadata": {
        "colab": {
          "base_uri": "https://localhost:8080/"
        },
        "id": "sg6fmiHB64dJ",
        "outputId": "bb4d203e-eecf-43dd-c743-8b76e820bbe3"
      },
      "execution_count": 51,
      "outputs": [
        {
          "output_type": "execute_result",
          "data": {
            "text/plain": [
              "[4, 6, 7, 2, 1, 9, 'hi', 'my', 'name', 'is', 'Vera']"
            ]
          },
          "metadata": {},
          "execution_count": 51
        }
      ]
    },
    {
      "cell_type": "code",
      "source": [
        "# Repitition \n",
        "strList*3"
      ],
      "metadata": {
        "colab": {
          "base_uri": "https://localhost:8080/"
        },
        "id": "uxqqsMhG8A3E",
        "outputId": "d63101ea-6e02-4c78-be83-9faf790b1aac"
      },
      "execution_count": 52,
      "outputs": [
        {
          "output_type": "execute_result",
          "data": {
            "text/plain": [
              "['hi',\n",
              " 'my',\n",
              " 'name',\n",
              " 'is',\n",
              " 'Vera',\n",
              " 'hi',\n",
              " 'my',\n",
              " 'name',\n",
              " 'is',\n",
              " 'Vera',\n",
              " 'hi',\n",
              " 'my',\n",
              " 'name',\n",
              " 'is',\n",
              " 'Vera']"
            ]
          },
          "metadata": {},
          "execution_count": 52
        }
      ]
    },
    {
      "cell_type": "markdown",
      "source": [
        "## List methods"
      ],
      "metadata": {
        "id": "Yxxoch2YtaRe"
      }
    },
    {
      "cell_type": "code",
      "source": [
        "# Method .append()\n",
        "print(aList)\n",
        "aList.append(-200)\n",
        "print(aList)"
      ],
      "metadata": {
        "colab": {
          "base_uri": "https://localhost:8080/"
        },
        "id": "UeBBtN-87ZhO",
        "outputId": "39caabdc-cc82-4e6e-91c9-cbad2d08be1a"
      },
      "execution_count": 53,
      "outputs": [
        {
          "output_type": "stream",
          "name": "stdout",
          "text": [
            "[4, 6, 7, 2, 1, 9]\n",
            "[4, 6, 7, 2, 1, 9, -200]\n"
          ]
        }
      ]
    },
    {
      "cell_type": "code",
      "source": [
        "# Demo of in place output\n",
        "print(aList)\n",
        "aList.append(-200)\n",
        "print(aList)"
      ],
      "metadata": {
        "colab": {
          "base_uri": "https://localhost:8080/"
        },
        "id": "7Tny97WP8ja4",
        "outputId": "00a568ac-25c5-44af-d66a-41a92c6f3463"
      },
      "execution_count": 54,
      "outputs": [
        {
          "output_type": "stream",
          "name": "stdout",
          "text": [
            "[4, 6, 7, 2, 1, 9, -200]\n",
            "[4, 6, 7, 2, 1, 9, -200, -200]\n"
          ]
        }
      ]
    },
    {
      "cell_type": "code",
      "source": [
        "# Method .sort() (sorts by numerical number)\n",
        "print(aList)\n",
        "aList.sort() # not supported between instances of 'str' and 'int'\n",
        "print(aList)"
      ],
      "metadata": {
        "colab": {
          "base_uri": "https://localhost:8080/"
        },
        "id": "4sHylqtS9G9G",
        "outputId": "d8f344ae-b35f-41a8-a1e9-a7d1dce06885"
      },
      "execution_count": 55,
      "outputs": [
        {
          "output_type": "stream",
          "name": "stdout",
          "text": [
            "[4, 6, 7, 2, 1, 9, -200, -200]\n",
            "[-200, -200, 1, 2, 4, 6, 7, 9]\n"
          ]
        }
      ]
    },
    {
      "cell_type": "code",
      "source": [
        "# Method .sort() (descending order)\n",
        "aList\n",
        "aList.sort(reverse=True)\n",
        "aList"
      ],
      "metadata": {
        "colab": {
          "base_uri": "https://localhost:8080/"
        },
        "id": "edPFdULMpSQC",
        "outputId": "987f5616-6489-43cb-afff-eac01bd5584a"
      },
      "execution_count": 56,
      "outputs": [
        {
          "output_type": "execute_result",
          "data": {
            "text/plain": [
              "[9, 7, 6, 4, 2, 1, -200, -200]"
            ]
          },
          "metadata": {},
          "execution_count": 56
        }
      ]
    },
    {
      "cell_type": "code",
      "source": [
        "# Method .count() \n",
        "# Find the number of \"-200\"s in aList\n",
        "aList.count(-200)"
      ],
      "metadata": {
        "colab": {
          "base_uri": "https://localhost:8080/"
        },
        "id": "6qAwO3Km9lU6",
        "outputId": "be282d70-a938-4805-d55f-8662d968d772"
      },
      "execution_count": 57,
      "outputs": [
        {
          "output_type": "execute_result",
          "data": {
            "text/plain": [
              "2"
            ]
          },
          "metadata": {},
          "execution_count": 57
        }
      ]
    },
    {
      "cell_type": "code",
      "source": [
        "# Brush up on lists\n",
        "lst = [1, 2, 3, 4, 5]\n",
        "print(lst)\n",
        "lst.append(7)\n",
        "print(lst)"
      ],
      "metadata": {
        "id": "gNFH9iqu-LdP",
        "colab": {
          "base_uri": "https://localhost:8080/"
        },
        "outputId": "0698671c-7aa0-4cc2-d555-7fa40e542351"
      },
      "execution_count": 58,
      "outputs": [
        {
          "output_type": "stream",
          "name": "stdout",
          "text": [
            "[1, 2, 3, 4, 5]\n",
            "[1, 2, 3, 4, 5, 7]\n"
          ]
        }
      ]
    },
    {
      "cell_type": "code",
      "source": [
        "# Method .insert()\n",
        "lst.insert(2, 9) # 2 -> position; 9 -> number\n",
        "print(lst)\n",
        "\n",
        "lst.insert(5, \"gee\") # 5 -> postion; str \"gee\" -> number\n",
        "print(lst)"
      ],
      "metadata": {
        "colab": {
          "base_uri": "https://localhost:8080/"
        },
        "id": "HZzys9VTlSDG",
        "outputId": "d0f524a6-a26b-46df-f1a9-1383f477ef5c"
      },
      "execution_count": 59,
      "outputs": [
        {
          "output_type": "stream",
          "name": "stdout",
          "text": [
            "[1, 2, 9, 3, 4, 5, 7]\n",
            "[1, 2, 9, 3, 4, 'gee', 5, 7]\n"
          ]
        }
      ]
    },
    {
      "cell_type": "code",
      "source": [
        "# Method .remove()\n",
        "lst.remove(9)\n",
        "lst"
      ],
      "metadata": {
        "colab": {
          "base_uri": "https://localhost:8080/"
        },
        "id": "CnhzKpteliU8",
        "outputId": "0f0146e7-36d0-4a79-dad7-238be7119147"
      },
      "execution_count": 60,
      "outputs": [
        {
          "output_type": "execute_result",
          "data": {
            "text/plain": [
              "[1, 2, 3, 4, 'gee', 5, 7]"
            ]
          },
          "metadata": {},
          "execution_count": 60
        }
      ]
    },
    {
      "cell_type": "markdown",
      "source": [
        "## List practice\n",
        "- remove the string \"gee\"\n",
        "\n",
        "- sort the lst"
      ],
      "metadata": {
        "id": "8_Q_6SEBoK4t"
      }
    },
    {
      "cell_type": "code",
      "source": [
        "lst\n",
        "lst.remove(\"gee\")\n",
        "lst.sort()\n",
        "lst"
      ],
      "metadata": {
        "colab": {
          "base_uri": "https://localhost:8080/"
        },
        "id": "9CdSYrJEmgkw",
        "outputId": "3a7775f3-eaf1-42e7-a6b5-78cfb3736887"
      },
      "execution_count": 61,
      "outputs": [
        {
          "output_type": "execute_result",
          "data": {
            "text/plain": [
              "[1, 2, 3, 4, 5, 7]"
            ]
          },
          "metadata": {},
          "execution_count": 61
        }
      ]
    },
    {
      "cell_type": "markdown",
      "source": [
        "# Tuples"
      ],
      "metadata": {
        "id": "qVppMhXCpnbi"
      }
    },
    {
      "cell_type": "code",
      "source": [
        "atuple = (1, 3, \"hey\", 3.4, 7)\n",
        "print(atuple)\n",
        "print(type(atuple))"
      ],
      "metadata": {
        "colab": {
          "base_uri": "https://localhost:8080/"
        },
        "id": "-mlfS7oom6aa",
        "outputId": "0b97b96a-d63c-4df5-f192-836c2c957dad"
      },
      "execution_count": 62,
      "outputs": [
        {
          "output_type": "stream",
          "name": "stdout",
          "text": [
            "(1, 3, 'hey', 3.4, 7)\n",
            "<class 'tuple'>\n"
          ]
        }
      ]
    },
    {
      "cell_type": "code",
      "source": [
        "# Tuples can be assinged without paranthesis (better to use them although)\n",
        "atuple = 3, 5, \"wow\", \"3.3\"\n",
        "print(atuple)\n",
        "print(type(atuple))"
      ],
      "metadata": {
        "colab": {
          "base_uri": "https://localhost:8080/"
        },
        "id": "PRAvFQSBq7J9",
        "outputId": "ddaf7373-e383-4915-ebb2-e1b7150676eb"
      },
      "execution_count": 63,
      "outputs": [
        {
          "output_type": "stream",
          "name": "stdout",
          "text": [
            "(3, 5, 'wow', '3.3')\n",
            "<class 'tuple'>\n"
          ]
        }
      ]
    },
    {
      "cell_type": "code",
      "source": [
        "# Difference between lists and tuples (mutability)\n",
        "atuple = (3, 5, \"wow\", 3.3)\n",
        "alist = [3, 5, \"wow\", 3.3]"
      ],
      "metadata": {
        "id": "dbVaNeUjrDNH"
      },
      "execution_count": 64,
      "outputs": []
    },
    {
      "cell_type": "code",
      "source": [
        "alist[0] = 1000 # this is not possible for tuples\n",
        "print(alist)"
      ],
      "metadata": {
        "colab": {
          "base_uri": "https://localhost:8080/"
        },
        "id": "dVBOr5bJr8vO",
        "outputId": "97801fb4-6de7-46e2-b7ac-c92f89fe2568"
      },
      "execution_count": 65,
      "outputs": [
        {
          "output_type": "stream",
          "name": "stdout",
          "text": [
            "[1000, 5, 'wow', 3.3]\n"
          ]
        }
      ]
    },
    {
      "cell_type": "markdown",
      "source": [
        "# Booleans"
      ],
      "metadata": {
        "id": "OntWdrzItHF5"
      }
    },
    {
      "cell_type": "markdown",
      "source": [
        "## Magic keyword reset"
      ],
      "metadata": {
        "id": "Bxf4uzgjD4wm"
      }
    },
    {
      "cell_type": "code",
      "source": [
        "# Use %reset -f to clear all variables in IPython\n",
        "%reset -f"
      ],
      "metadata": {
        "id": "25rdo109MRF4"
      },
      "execution_count": 1,
      "outputs": []
    },
    {
      "cell_type": "code",
      "source": [
        "%whos"
      ],
      "metadata": {
        "colab": {
          "base_uri": "https://localhost:8080/"
        },
        "id": "8Iajxj1cuOBW",
        "outputId": "7d568fe0-16f0-4d11-e275-e70e3029b5ce"
      },
      "execution_count": 2,
      "outputs": [
        {
          "output_type": "stream",
          "name": "stdout",
          "text": [
            "Interactive namespace is empty.\n"
          ]
        }
      ]
    },
    {
      "cell_type": "code",
      "source": [
        "t = True\n",
        "f = False"
      ],
      "metadata": {
        "id": "D7tVZlahMEqv"
      },
      "execution_count": 68,
      "outputs": []
    },
    {
      "cell_type": "code",
      "source": [
        "# Check on data types\n",
        "%whos"
      ],
      "metadata": {
        "colab": {
          "base_uri": "https://localhost:8080/"
        },
        "id": "vC1dxjA3MZp9",
        "outputId": "f4674088-04ae-4d60-efa8-87b122dcf633"
      },
      "execution_count": 69,
      "outputs": [
        {
          "output_type": "stream",
          "name": "stdout",
          "text": [
            "Variable   Type    Data/Info\n",
            "----------------------------\n",
            "f          bool    False\n",
            "t          bool    True\n"
          ]
        }
      ]
    },
    {
      "cell_type": "code",
      "source": [
        "# Create booleans, using comparisons\n",
        "6 == 6"
      ],
      "metadata": {
        "colab": {
          "base_uri": "https://localhost:8080/"
        },
        "id": "hBtOV2umNMUe",
        "outputId": "b35ae82f-522d-4219-e35d-5599eba20997"
      },
      "execution_count": 71,
      "outputs": [
        {
          "output_type": "execute_result",
          "data": {
            "text/plain": [
              "True"
            ]
          },
          "metadata": {},
          "execution_count": 71
        }
      ]
    },
    {
      "cell_type": "code",
      "source": [
        "6 == 6.1"
      ],
      "metadata": {
        "colab": {
          "base_uri": "https://localhost:8080/"
        },
        "id": "yfSdBeVCNOjX",
        "outputId": "9c4dc275-e0dc-45dc-a897-4f1363c6e4aa"
      },
      "execution_count": 72,
      "outputs": [
        {
          "output_type": "execute_result",
          "data": {
            "text/plain": [
              "False"
            ]
          },
          "metadata": {},
          "execution_count": 72
        }
      ]
    },
    {
      "cell_type": "code",
      "source": [
        "# Python returns True\n",
        "6 == 6.0"
      ],
      "metadata": {
        "colab": {
          "base_uri": "https://localhost:8080/"
        },
        "id": "2b9ictj6NzRE",
        "outputId": "f4c7500e-9782-4af2-dc76-33daa96d6bbb"
      },
      "execution_count": 73,
      "outputs": [
        {
          "output_type": "execute_result",
          "data": {
            "text/plain": [
              "True"
            ]
          },
          "metadata": {},
          "execution_count": 73
        }
      ]
    },
    {
      "cell_type": "code",
      "source": [
        "# Assign\n",
        "test = 4 == 4\n",
        "print(test)"
      ],
      "metadata": {
        "colab": {
          "base_uri": "https://localhost:8080/"
        },
        "id": "oPJkB21vN2Oi",
        "outputId": "3706770f-f214-4c15-90e3-952477aacc82"
      },
      "execution_count": 75,
      "outputs": [
        {
          "output_type": "stream",
          "name": "stdout",
          "text": [
            "True\n"
          ]
        }
      ]
    },
    {
      "cell_type": "code",
      "source": [
        "# Is 4 grearer than 5?\n",
        "4 > 5 "
      ],
      "metadata": {
        "colab": {
          "base_uri": "https://localhost:8080/"
        },
        "id": "jf1ray3BOJGJ",
        "outputId": "19fb34f4-38b3-4f3e-b0dc-57db74954d84"
      },
      "execution_count": 76,
      "outputs": [
        {
          "output_type": "execute_result",
          "data": {
            "text/plain": [
              "False"
            ]
          },
          "metadata": {},
          "execution_count": 76
        }
      ]
    },
    {
      "cell_type": "code",
      "source": [
        "# Is 7 less or equal than 7\n",
        "7 <=7"
      ],
      "metadata": {
        "colab": {
          "base_uri": "https://localhost:8080/"
        },
        "id": "USIu4Wn9OVtZ",
        "outputId": "9bb6b2c9-d2dd-4e78-e94a-4d1535e2ed28"
      },
      "execution_count": 77,
      "outputs": [
        {
          "output_type": "execute_result",
          "data": {
            "text/plain": [
              "True"
            ]
          },
          "metadata": {},
          "execution_count": 77
        }
      ]
    },
    {
      "cell_type": "code",
      "source": [
        "# Negation\n",
        "7 != 7"
      ],
      "metadata": {
        "colab": {
          "base_uri": "https://localhost:8080/"
        },
        "id": "3tv1pPEsOf3f",
        "outputId": "0da48338-adee-4683-fe33-0162f513cd1b"
      },
      "execution_count": 78,
      "outputs": [
        {
          "output_type": "execute_result",
          "data": {
            "text/plain": [
              "False"
            ]
          },
          "metadata": {},
          "execution_count": 78
        }
      ]
    },
    {
      "cell_type": "markdown",
      "source": [
        "## Conjunctive comparisons"
      ],
      "metadata": {
        "id": "Trsc-0ICOwnf"
      }
    },
    {
      "cell_type": "code",
      "source": [
        "x = 11\n",
        "y = 14"
      ],
      "metadata": {
        "id": "mH8Hm25GOlWn"
      },
      "execution_count": 6,
      "outputs": []
    },
    {
      "cell_type": "code",
      "source": [
        "# Keyword \"and\" \n",
        "# Both parts are true -> True\n",
        "print(x < 5 and x < 15) \n",
        "\n",
        "# All parts are true -> True, else -> False\n",
        "print(x > 5 and y < 13 and (x + y) < 50)"
      ],
      "metadata": {
        "colab": {
          "base_uri": "https://localhost:8080/"
        },
        "id": "Mm4lPgW811P4",
        "outputId": "7c8df795-4356-4223-b207-e1cad84949cc"
      },
      "execution_count": 7,
      "outputs": [
        {
          "output_type": "stream",
          "name": "stdout",
          "text": [
            "False\n",
            "False\n"
          ]
        }
      ]
    },
    {
      "cell_type": "code",
      "source": [
        "# Keyword \"or\" (at least one is being true)\n",
        "print(x < 5 or x < 15) "
      ],
      "metadata": {
        "colab": {
          "base_uri": "https://localhost:8080/"
        },
        "id": "b3KqO73SPJjz",
        "outputId": "7bf8dd11-51a6-475a-9478-81d04920edb5"
      },
      "execution_count": 8,
      "outputs": [
        {
          "output_type": "stream",
          "name": "stdout",
          "text": [
            "True\n"
          ]
        }
      ]
    },
    {
      "cell_type": "markdown",
      "source": [
        "## Conversion into boolean"
      ],
      "metadata": {
        "id": "u1jEvfYc2AzL"
      }
    },
    {
      "cell_type": "code",
      "source": [
        "# Transform a number into a boolean (all numbers return \"True\")\n",
        "print(bool(0)) # returns False\n",
        "print(bool(\"\")) # returns False\n",
        "print(bool('')) # returns False\n",
        "print(bool(1)) # returns True\n",
        "print(bool(10)) # returns True\n",
        "print(bool(304020503)) # returns True\n",
        "print(bool(-34)) # returns True\n",
        "print(bool(\"adsdsd\")) # returns True"
      ],
      "metadata": {
        "colab": {
          "base_uri": "https://localhost:8080/"
        },
        "id": "Fj6YD-aG1knF",
        "outputId": "3d246f90-1db4-4905-8415-218f3759a878"
      },
      "execution_count": 52,
      "outputs": [
        {
          "output_type": "stream",
          "name": "stdout",
          "text": [
            "False\n",
            "False\n",
            "False\n",
            "True\n",
            "True\n",
            "True\n",
            "True\n",
            "True\n"
          ]
        }
      ]
    },
    {
      "cell_type": "markdown",
      "source": [
        "## Pythagorean theorem (2)\n",
        "\n",
        "$c^2 = a^2 + b^2$\n",
        "\n",
        "- get 3 inputs from the user: a, b, and c\n",
        "\n",
        "- check whether $c^2 = a^2 + b^2$\n",
        "\n",
        "- print out the result (True/False)"
      ],
      "metadata": {
        "id": "V-2McDDP3sCF"
      }
    },
    {
      "cell_type": "code",
      "source": [
        "# Ask for inputs\n",
        "print(f\"Type triangle sides as a, b, c.\\n\")\n",
        "a = float(input(\"Type side a: \"))\n",
        "b = float(input(\"Type side b: \"))\n",
        "c = float(input(\"Type side c: \"))\n",
        "\n",
        "# Confirm inputs\n",
        "print(f\"\\nYour sides: a = {a}, b = {b}, and c = {c}.\\n\")\n",
        "\n",
        "# Check on equation\n",
        "print(f\"Is c\\u00b2 = a\\u00b2 + b\\u00b2 ?\\nIt is {str(c**2 == a**2 + b**2).lower()}.\")"
      ],
      "metadata": {
        "colab": {
          "base_uri": "https://localhost:8080/"
        },
        "id": "jwYpDWVP2R3Z",
        "outputId": "83fa4586-bd72-4f82-882d-e73ab460ee8d"
      },
      "execution_count": 1,
      "outputs": [
        {
          "output_type": "stream",
          "name": "stdout",
          "text": [
            "Type triangle sides as a, b, c.\n",
            "\n",
            "Type side a: 3\n",
            "Type side b: 4\n",
            "Type side c: 5\n",
            "\n",
            "Your sides: a = 3.0, b = 4.0, and c = 5.0.\n",
            "\n",
            "Is c² = a² + b² ?\n",
            "It is true.\n"
          ]
        }
      ]
    },
    {
      "cell_type": "markdown",
      "source": [
        "# Dictionaries"
      ],
      "metadata": {
        "id": "j3gsMxIxSaNn"
      }
    },
    {
      "cell_type": "markdown",
      "source": [
        "Key / value pairs (not ordered, mutable)"
      ],
      "metadata": {
        "id": "LOWNup_cSPSi"
      }
    },
    {
      "cell_type": "code",
      "source": [
        "dic_1 =  dict()\n",
        "print(dic_1)\n",
        "print(type(dic_1))"
      ],
      "metadata": {
        "colab": {
          "base_uri": "https://localhost:8080/"
        },
        "id": "WtYxPBZw5DoM",
        "outputId": "d27e7a98-fce1-4786-932a-4aea5744cda1"
      },
      "execution_count": 9,
      "outputs": [
        {
          "output_type": "stream",
          "name": "stdout",
          "text": [
            "{}\n",
            "<class 'dict'>\n"
          ]
        }
      ]
    },
    {
      "cell_type": "code",
      "source": [
        "#      key     value\n",
        "dic_1[\"name\"] = \"Vera\"\n",
        "dic_1[\"age_range\"]  = [20, 45]\n",
        "print(dic_1)"
      ],
      "metadata": {
        "colab": {
          "base_uri": "https://localhost:8080/"
        },
        "id": "wysh_zj_UTBv",
        "outputId": "54443a9c-ec4a-479b-d140-278475bac003"
      },
      "execution_count": 10,
      "outputs": [
        {
          "output_type": "stream",
          "name": "stdout",
          "text": [
            "{'name': 'Vera', 'age_range': [20, 45]}\n"
          ]
        }
      ]
    },
    {
      "cell_type": "code",
      "source": [
        "dic_2 = {\"name\" : \"Jane\", \"surname\": \"Joe\", \"age_range\": [18, 50]}\n",
        "print(dic_2)"
      ],
      "metadata": {
        "colab": {
          "base_uri": "https://localhost:8080/"
        },
        "id": "3VID8bIKXQ61",
        "outputId": "27378e06-dc13-45ed-ed25-eae421c45c24"
      },
      "execution_count": 12,
      "outputs": [
        {
          "output_type": "stream",
          "name": "stdout",
          "text": [
            "{'name': 'Jane', 'surname': 'Joe', 'age_range': [18, 50]}\n"
          ]
        }
      ]
    },
    {
      "cell_type": "markdown",
      "source": [
        "## Dictionary methods"
      ],
      "metadata": {
        "id": "QLW9ckCvZCIU"
      }
    },
    {
      "cell_type": "code",
      "source": [
        "# Method .keys()\n",
        "dic_2.keys() # retunrs all keys\n",
        "print(\"name\" in dic_2) # checks for keys "
      ],
      "metadata": {
        "colab": {
          "base_uri": "https://localhost:8080/"
        },
        "id": "7boCtKdeYYGC",
        "outputId": "9eeabf3e-7f51-40e2-d609-52f149eeb164"
      },
      "execution_count": 36,
      "outputs": [
        {
          "output_type": "stream",
          "name": "stdout",
          "text": [
            "True\n"
          ]
        }
      ]
    },
    {
      "cell_type": "code",
      "source": [
        "# Method .values()\n",
        "dic_2.values() # returns all values\n",
        "print(\"Joe\" in dic_2.values()) # checks for values\n",
        "print([18, 50] in dic_2.values()) # checks for values"
      ],
      "metadata": {
        "colab": {
          "base_uri": "https://localhost:8080/"
        },
        "id": "lavgpOw4Yrij",
        "outputId": "ec8c2c11-b538-4e6d-97e5-c33fc18a39ce"
      },
      "execution_count": 37,
      "outputs": [
        {
          "output_type": "stream",
          "name": "stdout",
          "text": [
            "True\n",
            "True\n"
          ]
        }
      ]
    },
    {
      "cell_type": "code",
      "source": [
        "# Method .items()\n",
        "dic_2.items() # returns tuples of items"
      ],
      "metadata": {
        "colab": {
          "base_uri": "https://localhost:8080/"
        },
        "id": "3YRYm6LyZwWo",
        "outputId": "5dcc13f4-87be-42dc-bea6-2819ff171041"
      },
      "execution_count": 38,
      "outputs": [
        {
          "output_type": "execute_result",
          "data": {
            "text/plain": [
              "dict_items([('name', 'Jane'), ('surname', 'Joe'), ('age_range', [18, 50])])"
            ]
          },
          "metadata": {},
          "execution_count": 38
        }
      ]
    },
    {
      "cell_type": "markdown",
      "source": [
        "## Dictionaries practice\n",
        "\n",
        "- input two numbers from the user\n",
        "- create a dictionary with three keys: \n",
        "\"FirstNumber\", \"SecondNumber\", \"Product (FirstNumber x SecondNumber)\""
      ],
      "metadata": {
        "id": "pqnmm8S5by_j"
      }
    },
    {
      "cell_type": "code",
      "source": [
        "key_1 = float(input(\"Provide the first number: \"))\n",
        "key_2 = float(input(\"Provide the second number: \"))\n",
        "print(f\"Your keys are: {key_1}, {key_2}\")"
      ],
      "metadata": {
        "colab": {
          "base_uri": "https://localhost:8080/"
        },
        "id": "ZO6hp94jaaTU",
        "outputId": "4a39ee44-b6d5-4fa6-c52f-d156906b93ca"
      },
      "execution_count": 28,
      "outputs": [
        {
          "output_type": "stream",
          "name": "stdout",
          "text": [
            "Provide the first number: 57\n",
            "Provide the second number: 103\n",
            "Your keys are: 57.0, 103.0\n"
          ]
        }
      ]
    },
    {
      "cell_type": "code",
      "source": [
        "myDict = {\"FirstNumber\": key_1, \"SecondNumber\": key_2, \"Product\": key_1*key_2}\n",
        "print(myDict)\n",
        "print(myDict.items())"
      ],
      "metadata": {
        "colab": {
          "base_uri": "https://localhost:8080/"
        },
        "id": "1oEFsYsJdVg7",
        "outputId": "cb5c0b4e-0ee5-41fb-c2ab-4c61a6568f50"
      },
      "execution_count": 32,
      "outputs": [
        {
          "output_type": "stream",
          "name": "stdout",
          "text": [
            "{'FirstNumber': 57.0, 'SecondNumber': 103.0, 'Product': 5871.0}\n",
            "dict_items([('FirstNumber', 57.0), ('SecondNumber', 103.0), ('Product', 5871.0)])\n"
          ]
        }
      ]
    }
  ]
}