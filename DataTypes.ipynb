{
  "nbformat": 4,
  "nbformat_minor": 0,
  "metadata": {
    "colab": {
      "name": "DataTypes.ipynb",
      "provenance": [],
      "toc_visible": true,
      "authorship_tag": "ABX9TyP4q5dSjHMe3o717NquT9SG",
      "include_colab_link": true
    },
    "kernelspec": {
      "name": "python3",
      "display_name": "Python 3"
    },
    "language_info": {
      "name": "python"
    }
  },
  "cells": [
    {
      "cell_type": "markdown",
      "metadata": {
        "id": "view-in-github",
        "colab_type": "text"
      },
      "source": [
        "<a href=\"https://colab.research.google.com/github/vera-rykalina/PythonIntroDeepLearning/blob/main/DataTypes.ipynb\" target=\"_parent\"><img src=\"https://colab.research.google.com/assets/colab-badge.svg\" alt=\"Open In Colab\"/></a>"
      ]
    },
    {
      "cell_type": "markdown",
      "source": [
        "# Variable\n"
      ],
      "metadata": {
        "id": "IRUmtjnPK6Jv"
      }
    },
    {
      "cell_type": "markdown",
      "source": [
        ""
      ],
      "metadata": {
        "id": "BHIBZB7HK4Jx"
      }
    },
    {
      "cell_type": "code",
      "source": [
        "# Calculator\n",
        "7 + 3"
      ],
      "metadata": {
        "colab": {
          "base_uri": "https://localhost:8080/"
        },
        "id": "2BizDbp_JlLB",
        "outputId": "f8532abf-e5e0-4608-83de-9253fd596a6e"
      },
      "execution_count": 16,
      "outputs": [
        {
          "output_type": "execute_result",
          "data": {
            "text/plain": [
              "10"
            ]
          },
          "metadata": {},
          "execution_count": 16
        }
      ]
    },
    {
      "cell_type": "code",
      "source": [
        "# Variable assingment\n",
        "a = 10\n",
        "a"
      ],
      "metadata": {
        "colab": {
          "base_uri": "https://localhost:8080/"
        },
        "id": "pML-5kMYLAHL",
        "outputId": "9c484242-a97a-4248-916f-e00dc6e03fda"
      },
      "execution_count": 17,
      "outputs": [
        {
          "output_type": "execute_result",
          "data": {
            "text/plain": [
              "10"
            ]
          },
          "metadata": {},
          "execution_count": 17
        }
      ]
    },
    {
      "cell_type": "code",
      "source": [
        "a + 9\n",
        "b = 3\n",
        "b"
      ],
      "metadata": {
        "colab": {
          "base_uri": "https://localhost:8080/"
        },
        "id": "_Yzg1QLVKonX",
        "outputId": "011f185a-3abe-491d-a0f1-b3eadd77adf0"
      },
      "execution_count": 18,
      "outputs": [
        {
          "output_type": "execute_result",
          "data": {
            "text/plain": [
              "3"
            ]
          },
          "metadata": {},
          "execution_count": 18
        }
      ]
    },
    {
      "cell_type": "code",
      "source": [
        "# This code cell inspects the values of the variables (a pound sign)\n",
        "print(a) # print out a\n",
        "print(b)"
      ],
      "metadata": {
        "colab": {
          "base_uri": "https://localhost:8080/"
        },
        "id": "5m0ZAAQKLRWu",
        "outputId": "325a78d9-4a5e-4204-f18f-168a95b24994"
      },
      "execution_count": 19,
      "outputs": [
        {
          "output_type": "stream",
          "name": "stdout",
          "text": [
            "10\n",
            "3\n"
          ]
        }
      ]
    },
    {
      "cell_type": "code",
      "source": [
        "c = 7\n",
        "d = 7.0\n",
        "e = \"hello\"\n",
        "\n",
        "# Check type of variables\n",
        "print(type(c)) # integer (int)\n",
        "print(type(d)) # float (floating point)\n",
        "print(type(e)) # string (str)"
      ],
      "metadata": {
        "colab": {
          "base_uri": "https://localhost:8080/"
        },
        "id": "M84zsbkZLZed",
        "outputId": "30406f27-2e81-4ed3-e8c7-8dfa4c84ed40"
      },
      "execution_count": 20,
      "outputs": [
        {
          "output_type": "stream",
          "name": "stdout",
          "text": [
            "<class 'int'>\n",
            "<class 'float'>\n",
            "<class 'str'>\n"
          ]
        }
      ]
    },
    {
      "cell_type": "code",
      "source": [
        "# Quotes\n",
        "g = \"hi\"\n",
        "p = 'My name is Vera.'\n",
        "o = \"My name's is Vera\""
      ],
      "metadata": {
        "id": "oiTjZv-GL8Fb"
      },
      "execution_count": 21,
      "outputs": []
    },
    {
      "cell_type": "code",
      "source": [
        "g, p, o"
      ],
      "metadata": {
        "colab": {
          "base_uri": "https://localhost:8080/"
        },
        "id": "LWvlqS2YMLpB",
        "outputId": "c25ce6a1-a56e-4cba-94f9-e70bd2faa0b4"
      },
      "execution_count": 22,
      "outputs": [
        {
          "output_type": "execute_result",
          "data": {
            "text/plain": [
              "('hi', 'My name is Vera.', \"My name's is Vera\")"
            ]
          },
          "metadata": {},
          "execution_count": 22
        }
      ]
    },
    {
      "cell_type": "code",
      "source": [
        "# Variable name convention\n",
        "aVariableName = 10\n",
        "filterOrder   = 18\n",
        "user_name     = \"Vera\"\n",
        "param4modelA = 43.58678"
      ],
      "metadata": {
        "id": "kTycvQU1NLsM"
      },
      "execution_count": 23,
      "outputs": []
    },
    {
      "cell_type": "markdown",
      "source": [
        "## Magic keyword whos"
      ],
      "metadata": {
        "id": "RjApDevIs6Gy"
      }
    },
    {
      "cell_type": "code",
      "source": [
        "# Magic keyword to check on variables\n",
        "%whos"
      ],
      "metadata": {
        "colab": {
          "base_uri": "https://localhost:8080/"
        },
        "id": "VSqNvfDhN1q7",
        "outputId": "bc955558-77ed-4ac9-aacf-e44c99b9206a"
      },
      "execution_count": 24,
      "outputs": [
        {
          "output_type": "stream",
          "name": "stdout",
          "text": [
            "Variable        Type     Data/Info\n",
            "----------------------------------\n",
            "a               int      10\n",
            "aVariableName   int      10\n",
            "b               int      3\n",
            "c               int      7\n",
            "d               float    7.0\n",
            "e               str      hello\n",
            "filterOrder     int      18\n",
            "g               str      hi\n",
            "listlist        list     n=9\n",
            "lst             list     n=7\n",
            "mixList         list     n=4\n",
            "o               str      My name's is Vera\n",
            "p               str      My name is Vera.\n",
            "param4modelA    float    43.58678\n",
            "user_name       str      Vera\n"
          ]
        }
      ]
    },
    {
      "cell_type": "code",
      "source": [
        "# Multiple assignment\n",
        "varA, varB = 3, \"test\"\n",
        "print(varA)\n",
        "print(varB)"
      ],
      "metadata": {
        "colab": {
          "base_uri": "https://localhost:8080/"
        },
        "id": "MFb_TmzKOXm9",
        "outputId": "b8afc777-762c-43fc-b895-b5abcc1a815d"
      },
      "execution_count": 25,
      "outputs": [
        {
          "output_type": "stream",
          "name": "stdout",
          "text": [
            "3\n",
            "test\n"
          ]
        }
      ]
    },
    {
      "cell_type": "markdown",
      "source": [
        "## Overwriting variables\n",
        "\n",
        "Is it possible to overwrite existing variables?\n",
        "- using the same variable type (yes)\n",
        "- using different variable type (yes)"
      ],
      "metadata": {
        "id": "ld9KQihLSjZj"
      }
    },
    {
      "cell_type": "code",
      "source": [
        "varA = 8\n",
        "type(varA)"
      ],
      "metadata": {
        "colab": {
          "base_uri": "https://localhost:8080/"
        },
        "id": "KbOgVlX0Pavo",
        "outputId": "266cd048-c4e5-4fc0-c426-30bec330df41"
      },
      "execution_count": 26,
      "outputs": [
        {
          "output_type": "execute_result",
          "data": {
            "text/plain": [
              "int"
            ]
          },
          "metadata": {},
          "execution_count": 26
        }
      ]
    },
    {
      "cell_type": "code",
      "source": [
        "varA = \"string\"\n",
        "type(varA)"
      ],
      "metadata": {
        "colab": {
          "base_uri": "https://localhost:8080/"
        },
        "id": "1PErrnY4PfJP",
        "outputId": "68624e7a-e3c0-4015-805f-ae570464910f"
      },
      "execution_count": 27,
      "outputs": [
        {
          "output_type": "execute_result",
          "data": {
            "text/plain": [
              "str"
            ]
          },
          "metadata": {},
          "execution_count": 27
        }
      ]
    },
    {
      "cell_type": "markdown",
      "source": [
        "# Math and printing"
      ],
      "metadata": {
        "id": "0b77Ng4SQBQa"
      }
    },
    {
      "cell_type": "code",
      "source": [
        "x = 7\n",
        "y = 4.3\n",
        "z = 0"
      ],
      "metadata": {
        "id": "fHrCi_KPPiyG"
      },
      "execution_count": 28,
      "outputs": []
    },
    {
      "cell_type": "code",
      "source": [
        "# Floating-point algebra (not real algebra, instead of zeros one sees small numbers) \n",
        "y + x - 7"
      ],
      "metadata": {
        "colab": {
          "base_uri": "https://localhost:8080/"
        },
        "id": "mDS0nnD-QJyb",
        "outputId": "459bfbde-bbbe-4d2d-8a6a-672d775054d5"
      },
      "execution_count": 29,
      "outputs": [
        {
          "output_type": "execute_result",
          "data": {
            "text/plain": [
              "4.300000000000001"
            ]
          },
          "metadata": {},
          "execution_count": 29
        }
      ]
    },
    {
      "cell_type": "code",
      "source": [
        "c = y + 3.5*x - 7 # addition, multiplication, substraction \n",
        "c"
      ],
      "metadata": {
        "colab": {
          "base_uri": "https://localhost:8080/"
        },
        "id": "EvRuvd83QSKx",
        "outputId": "2191e3b8-3fdc-46c5-9700-f8a537e38762"
      },
      "execution_count": 30,
      "outputs": [
        {
          "output_type": "execute_result",
          "data": {
            "text/plain": [
              "21.8"
            ]
          },
          "metadata": {},
          "execution_count": 30
        }
      ]
    },
    {
      "cell_type": "code",
      "source": [
        "4/3 # devision"
      ],
      "metadata": {
        "colab": {
          "base_uri": "https://localhost:8080/"
        },
        "id": "p_e56_9JQ1u3",
        "outputId": "a7bd75ed-cee5-4df9-8086-4cabb71b5489"
      },
      "execution_count": 31,
      "outputs": [
        {
          "output_type": "execute_result",
          "data": {
            "text/plain": [
              "1.3333333333333333"
            ]
          },
          "metadata": {},
          "execution_count": 31
        }
      ]
    },
    {
      "cell_type": "code",
      "source": [
        "# Breaking up one line of code into multiple lines\n",
        "4 \\\n",
        "  + 3"
      ],
      "metadata": {
        "colab": {
          "base_uri": "https://localhost:8080/"
        },
        "id": "s2VLAeLnQ4v2",
        "outputId": "3175b7a6-1b1d-4c0b-c44f-9df9d9ec99f0"
      },
      "execution_count": 32,
      "outputs": [
        {
          "output_type": "execute_result",
          "data": {
            "text/plain": [
              "7"
            ]
          },
          "metadata": {},
          "execution_count": 32
        }
      ]
    },
    {
      "cell_type": "code",
      "source": [
        "3*2 # multiplication\n",
        "3**3 # powers\n",
        "9**(1/2) # square root, taking into account the order of operations "
      ],
      "metadata": {
        "colab": {
          "base_uri": "https://localhost:8080/"
        },
        "id": "IL06jwc7RXAg",
        "outputId": "25baa80c-18c8-4383-e251-165f82e3513a"
      },
      "execution_count": 33,
      "outputs": [
        {
          "output_type": "execute_result",
          "data": {
            "text/plain": [
              "3.0"
            ]
          },
          "metadata": {},
          "execution_count": 33
        }
      ]
    },
    {
      "cell_type": "code",
      "source": [
        "# String concatination\n",
        "first_name = \"Vera\"\n",
        "last_name  = \"Rykalina\"\n",
        "first_name + last_name"
      ],
      "metadata": {
        "colab": {
          "base_uri": "https://localhost:8080/",
          "height": 35
        },
        "id": "0woMlXItRqPy",
        "outputId": "9082ee5b-50ed-428a-ec84-deb17966d0db"
      },
      "execution_count": 34,
      "outputs": [
        {
          "output_type": "execute_result",
          "data": {
            "text/plain": [
              "'VeraRykalina'"
            ],
            "application/vnd.google.colaboratory.intrinsic+json": {
              "type": "string"
            }
          },
          "metadata": {},
          "execution_count": 34
        }
      ]
    },
    {
      "cell_type": "code",
      "source": [
        "full_name = first_name + \" \" + last_name\n",
        "print(full_name)"
      ],
      "metadata": {
        "colab": {
          "base_uri": "https://localhost:8080/"
        },
        "id": "Y9RsSVgjscNT",
        "outputId": "0e1b1bf1-0cea-4517-e5a8-3f8bb8a3c9e3"
      },
      "execution_count": 35,
      "outputs": [
        {
          "output_type": "stream",
          "name": "stdout",
          "text": [
            "Vera Rykalina\n"
          ]
        }
      ]
    },
    {
      "cell_type": "code",
      "source": [
        "# This \"first_name - last_name\" will produce an error"
      ],
      "metadata": {
        "id": "h3Rjh5VeswTm"
      },
      "execution_count": 36,
      "outputs": []
    },
    {
      "cell_type": "code",
      "source": [
        "print(first_name*3) # multiplication works with int but not with floats"
      ],
      "metadata": {
        "colab": {
          "base_uri": "https://localhost:8080/"
        },
        "id": "fheInWsQtI-1",
        "outputId": "b6d0297f-d295-4b4b-c41c-337ce1e9bff3"
      },
      "execution_count": 37,
      "outputs": [
        {
          "output_type": "stream",
          "name": "stdout",
          "text": [
            "VeraVeraVera\n"
          ]
        }
      ]
    },
    {
      "cell_type": "code",
      "source": [
        "print(\"7*3 = 2.1\") # no math"
      ],
      "metadata": {
        "colab": {
          "base_uri": "https://localhost:8080/"
        },
        "id": "yDtSd28XtO8j",
        "outputId": "73c9ce71-8b22-48bd-fc46-9704c9b264ab"
      },
      "execution_count": 38,
      "outputs": [
        {
          "output_type": "stream",
          "name": "stdout",
          "text": [
            "7*3 = 2.1\n"
          ]
        }
      ]
    },
    {
      "cell_type": "code",
      "source": [
        "print(x + y) "
      ],
      "metadata": {
        "colab": {
          "base_uri": "https://localhost:8080/"
        },
        "id": "I6lBYdSAtlA1",
        "outputId": "262e8db5-6e06-458f-ff3d-8a695388a475"
      },
      "execution_count": 39,
      "outputs": [
        {
          "output_type": "stream",
          "name": "stdout",
          "text": [
            "11.3\n"
          ]
        }
      ]
    },
    {
      "cell_type": "code",
      "source": [
        "# Printing mixed variable types\n",
        "print(str(x) + \" + \" + str(y) + \" =  \" + str(x + y))"
      ],
      "metadata": {
        "colab": {
          "base_uri": "https://localhost:8080/"
        },
        "id": "sAv3Tcmxt3xo",
        "outputId": "58b78940-e3df-4a8c-f1d9-c6b0ec0858f4"
      },
      "execution_count": 40,
      "outputs": [
        {
          "output_type": "stream",
          "name": "stdout",
          "text": [
            "7 + 4.3 =  11.3\n"
          ]
        }
      ]
    },
    {
      "cell_type": "code",
      "source": [
        "# A user input \n",
        "ans = input(\"Give me a number: \")"
      ],
      "metadata": {
        "colab": {
          "base_uri": "https://localhost:8080/"
        },
        "id": "NcMkvYiPuZhg",
        "outputId": "5975db9b-aac8-4238-ef95-331ad09f41a9"
      },
      "execution_count": 41,
      "outputs": [
        {
          "name": "stdout",
          "output_type": "stream",
          "text": [
            "Give me a number: 10\n"
          ]
        }
      ]
    },
    {
      "cell_type": "code",
      "source": [
        "type(ans) # str type"
      ],
      "metadata": {
        "colab": {
          "base_uri": "https://localhost:8080/"
        },
        "id": "h6l7zjrKvQhz",
        "outputId": "2c2cf707-42fd-4142-c16b-3a7dce1a9e73"
      },
      "execution_count": 42,
      "outputs": [
        {
          "output_type": "execute_result",
          "data": {
            "text/plain": [
              "str"
            ]
          },
          "metadata": {},
          "execution_count": 42
        }
      ]
    },
    {
      "cell_type": "code",
      "source": [
        "ans = float(ans)\n",
        "type(ans)"
      ],
      "metadata": {
        "colab": {
          "base_uri": "https://localhost:8080/"
        },
        "id": "wMORuzIyvW5V",
        "outputId": "f0691fe2-50b1-44d6-b267-dc717e6aae06"
      },
      "execution_count": 43,
      "outputs": [
        {
          "output_type": "execute_result",
          "data": {
            "text/plain": [
              "float"
            ]
          },
          "metadata": {},
          "execution_count": 43
        }
      ]
    },
    {
      "cell_type": "code",
      "source": [
        "# Embedding \n",
        "ans = float(input(\"Give me a number: \"))"
      ],
      "metadata": {
        "colab": {
          "base_uri": "https://localhost:8080/"
        },
        "id": "OjsEYIEAvqjF",
        "outputId": "f8140fa3-4744-4ae3-b287-556e4abc57c7"
      },
      "execution_count": 44,
      "outputs": [
        {
          "name": "stdout",
          "output_type": "stream",
          "text": [
            "Give me a number: 11\n"
          ]
        }
      ]
    },
    {
      "cell_type": "code",
      "source": [
        "type(ans)"
      ],
      "metadata": {
        "colab": {
          "base_uri": "https://localhost:8080/"
        },
        "id": "04gUhAaVvylU",
        "outputId": "60b1ea32-5aff-4aff-d28d-d58fc6c44829"
      },
      "execution_count": 45,
      "outputs": [
        {
          "output_type": "execute_result",
          "data": {
            "text/plain": [
              "float"
            ]
          },
          "metadata": {},
          "execution_count": 45
        }
      ]
    },
    {
      "cell_type": "markdown",
      "source": [
        "## Pythagorean theorem\n",
        "\n",
        "$c^2 = a^2 + b^2$\n",
        "\n",
        "Get two inputs from the user:\n",
        "-  side a\n",
        "-  side b\n",
        "-  compare and print out the length of the side c"
      ],
      "metadata": {
        "id": "Is9QoX0Zw99-"
      }
    },
    {
      "cell_type": "code",
      "source": [
        "a = float(input(\"Type a side a: \"))\n",
        "print(f\"The side a is equal to {a}\")"
      ],
      "metadata": {
        "colab": {
          "base_uri": "https://localhost:8080/"
        },
        "id": "eofa1kFcw5Bq",
        "outputId": "de1fbbbf-6181-4ddc-b04b-3f4a88b92c8a"
      },
      "execution_count": 46,
      "outputs": [
        {
          "output_type": "stream",
          "name": "stdout",
          "text": [
            "Type a side a: 4\n",
            "The side a is equal to 4.0\n"
          ]
        }
      ]
    },
    {
      "cell_type": "code",
      "source": [
        "b = float(input(\"Type a side b: \"))\n",
        "print(f\"The side b is equal to {b}\")"
      ],
      "metadata": {
        "colab": {
          "base_uri": "https://localhost:8080/"
        },
        "id": "N87CIr8OxOKo",
        "outputId": "d81a9892-3509-4ccb-8e59-cc7a661bcae1"
      },
      "execution_count": 47,
      "outputs": [
        {
          "output_type": "stream",
          "name": "stdout",
          "text": [
            "Type a side b: 4\n",
            "The side b is equal to 4.0\n"
          ]
        }
      ]
    },
    {
      "cell_type": "code",
      "source": [
        "c = round((a**2 + b**2)**(1/2), 2)\n",
        "print(f\"The calculated hypotenuse is {c}\")"
      ],
      "metadata": {
        "colab": {
          "base_uri": "https://localhost:8080/"
        },
        "id": "flBfQ_8GyXzs",
        "outputId": "c56d55b1-55fb-418d-822a-af5fae839c62"
      },
      "execution_count": 48,
      "outputs": [
        {
          "output_type": "stream",
          "name": "stdout",
          "text": [
            "The calculated hypotenuse is 5.66\n"
          ]
        }
      ]
    },
    {
      "cell_type": "markdown",
      "source": [
        "# List"
      ],
      "metadata": {
        "id": "9DiE6DRb0xAU"
      }
    },
    {
      "cell_type": "code",
      "source": [
        "# List of integers\n",
        "aList = [4, 6, 7, 2, 1, 9]\n",
        "print(aList)\n",
        "type(aList)"
      ],
      "metadata": {
        "id": "3Bsuz5UHykMo",
        "colab": {
          "base_uri": "https://localhost:8080/"
        },
        "outputId": "a2b3a25b-c8a4-4449-bdab-0f006f40c8e5"
      },
      "execution_count": 49,
      "outputs": [
        {
          "output_type": "stream",
          "name": "stdout",
          "text": [
            "[4, 6, 7, 2, 1, 9]\n"
          ]
        },
        {
          "output_type": "execute_result",
          "data": {
            "text/plain": [
              "list"
            ]
          },
          "metadata": {},
          "execution_count": 49
        }
      ]
    },
    {
      "cell_type": "code",
      "source": [
        "# List of strings\n",
        "strList = [ \"hi\", \"my\", \"name\", \"is\", \"Vera\"]\n",
        "print(strList)\n",
        "type(strList)"
      ],
      "metadata": {
        "colab": {
          "base_uri": "https://localhost:8080/"
        },
        "id": "RU4FcOEk4q_k",
        "outputId": "70b214e5-6521-4888-f77d-b6604a299bbd"
      },
      "execution_count": 50,
      "outputs": [
        {
          "output_type": "stream",
          "name": "stdout",
          "text": [
            "['hi', 'my', 'name', 'is', 'Vera']\n"
          ]
        },
        {
          "output_type": "execute_result",
          "data": {
            "text/plain": [
              "list"
            ]
          },
          "metadata": {},
          "execution_count": 50
        }
      ]
    },
    {
      "cell_type": "code",
      "source": [
        "# Mixted list\n",
        "mixList = [ 3, 5.0, \"test\", 50.1]\n",
        "print(mixList)\n",
        "type(mixList)"
      ],
      "metadata": {
        "colab": {
          "base_uri": "https://localhost:8080/"
        },
        "id": "AL5-7Cae48rU",
        "outputId": "8ff3b83a-a82f-4e39-8740-6959cf3005bf"
      },
      "execution_count": 51,
      "outputs": [
        {
          "output_type": "stream",
          "name": "stdout",
          "text": [
            "[3, 5.0, 'test', 50.1]\n"
          ]
        },
        {
          "output_type": "execute_result",
          "data": {
            "text/plain": [
              "list"
            ]
          },
          "metadata": {},
          "execution_count": 51
        }
      ]
    },
    {
      "cell_type": "code",
      "source": [
        "# List of lists\n",
        "listlist = [ 1, 2, 3, \"hi\", \"bye\", [.5, 1/2, \"j\"], 3,2,1 ]"
      ],
      "metadata": {
        "id": "b08u4o7s5W0C"
      },
      "execution_count": 52,
      "outputs": []
    },
    {
      "cell_type": "code",
      "source": [
        "# Vertical organization (sometimes useful, e.g for adding comments)\n",
        "listlist = [ \n",
        "            1, # comment 1\n",
        "            2, # comment 2\n",
        "            3, # comment 3\n",
        "            \"hi\", \n",
        "            \"bye\", \n",
        "            [.5, 1/2, \"j\"], \n",
        "            3, 2, \n",
        "            1 \n",
        "            ]"
      ],
      "metadata": {
        "id": "l78CckoV52QX"
      },
      "execution_count": 53,
      "outputs": []
    },
    {
      "cell_type": "code",
      "source": [
        "# Working with lists (use python in/not in keywords)\n",
        "\n",
        "# Is number 4 in list?\n",
        "print(4 in aList) \n",
        "\n",
        "# Is number 40 in list?\n",
        "print(4 in aList)\n",
        "\n",
        "# Is number 40 not in list?\n",
        "print(40 not in aList)"
      ],
      "metadata": {
        "colab": {
          "base_uri": "https://localhost:8080/"
        },
        "id": "PtpesRxg6TRU",
        "outputId": "867a98be-dba7-480c-eee2-755d41b7b3a1"
      },
      "execution_count": 54,
      "outputs": [
        {
          "output_type": "stream",
          "name": "stdout",
          "text": [
            "True\n",
            "True\n",
            "True\n"
          ]
        }
      ]
    },
    {
      "cell_type": "code",
      "source": [
        "# Concatenation of lists \n",
        "aList + strList"
      ],
      "metadata": {
        "colab": {
          "base_uri": "https://localhost:8080/"
        },
        "id": "sg6fmiHB64dJ",
        "outputId": "33a61fb0-9af7-4d8a-938b-6dabf5b9cab7"
      },
      "execution_count": 55,
      "outputs": [
        {
          "output_type": "execute_result",
          "data": {
            "text/plain": [
              "[4, 6, 7, 2, 1, 9, 'hi', 'my', 'name', 'is', 'Vera']"
            ]
          },
          "metadata": {},
          "execution_count": 55
        }
      ]
    },
    {
      "cell_type": "code",
      "source": [
        "# Repitition \n",
        "strList*3"
      ],
      "metadata": {
        "colab": {
          "base_uri": "https://localhost:8080/"
        },
        "id": "uxqqsMhG8A3E",
        "outputId": "4270f8ed-207f-4c97-cb1a-eb5b8b242118"
      },
      "execution_count": 56,
      "outputs": [
        {
          "output_type": "execute_result",
          "data": {
            "text/plain": [
              "['hi',\n",
              " 'my',\n",
              " 'name',\n",
              " 'is',\n",
              " 'Vera',\n",
              " 'hi',\n",
              " 'my',\n",
              " 'name',\n",
              " 'is',\n",
              " 'Vera',\n",
              " 'hi',\n",
              " 'my',\n",
              " 'name',\n",
              " 'is',\n",
              " 'Vera']"
            ]
          },
          "metadata": {},
          "execution_count": 56
        }
      ]
    },
    {
      "cell_type": "markdown",
      "source": [
        "## List methods"
      ],
      "metadata": {
        "id": "Yxxoch2YtaRe"
      }
    },
    {
      "cell_type": "code",
      "source": [
        "# Method .append()\n",
        "print(aList)\n",
        "aList.append(-200)\n",
        "print(aList)"
      ],
      "metadata": {
        "colab": {
          "base_uri": "https://localhost:8080/"
        },
        "id": "UeBBtN-87ZhO",
        "outputId": "968297e7-4233-4eed-a438-add8a5b75ed2"
      },
      "execution_count": 57,
      "outputs": [
        {
          "output_type": "stream",
          "name": "stdout",
          "text": [
            "[4, 6, 7, 2, 1, 9]\n",
            "[4, 6, 7, 2, 1, 9, -200]\n"
          ]
        }
      ]
    },
    {
      "cell_type": "code",
      "source": [
        "# Demo of in place output\n",
        "print(aList)\n",
        "aList.append(-200)\n",
        "print(aList)"
      ],
      "metadata": {
        "colab": {
          "base_uri": "https://localhost:8080/"
        },
        "id": "7Tny97WP8ja4",
        "outputId": "92f3489e-f70f-4be9-f6e4-9a52daa93526"
      },
      "execution_count": 58,
      "outputs": [
        {
          "output_type": "stream",
          "name": "stdout",
          "text": [
            "[4, 6, 7, 2, 1, 9, -200]\n",
            "[4, 6, 7, 2, 1, 9, -200, -200]\n"
          ]
        }
      ]
    },
    {
      "cell_type": "code",
      "source": [
        "# Method .sort() (sorts by numerical number)\n",
        "print(aList)\n",
        "aList.sort() # not supported between instances of 'str' and 'int'\n",
        "print(aList)"
      ],
      "metadata": {
        "colab": {
          "base_uri": "https://localhost:8080/"
        },
        "id": "4sHylqtS9G9G",
        "outputId": "c7b9189a-dc89-45b3-861b-40897195442f"
      },
      "execution_count": 59,
      "outputs": [
        {
          "output_type": "stream",
          "name": "stdout",
          "text": [
            "[4, 6, 7, 2, 1, 9, -200, -200]\n",
            "[-200, -200, 1, 2, 4, 6, 7, 9]\n"
          ]
        }
      ]
    },
    {
      "cell_type": "code",
      "source": [
        "# Method .sort() (descending order)\n",
        "aList\n",
        "aList.sort(reverse=True)\n",
        "aList"
      ],
      "metadata": {
        "colab": {
          "base_uri": "https://localhost:8080/"
        },
        "id": "edPFdULMpSQC",
        "outputId": "c3427ff0-6f26-4679-9043-1ace6963832e"
      },
      "execution_count": 76,
      "outputs": [
        {
          "output_type": "execute_result",
          "data": {
            "text/plain": [
              "[9, 7, 6, 4, 2, 1, -200, -200]"
            ]
          },
          "metadata": {},
          "execution_count": 76
        }
      ]
    },
    {
      "cell_type": "code",
      "source": [
        "# Method .count() \n",
        "# Find the number of \"-200\"s in aList\n",
        "aList.count(-200)"
      ],
      "metadata": {
        "colab": {
          "base_uri": "https://localhost:8080/"
        },
        "id": "6qAwO3Km9lU6",
        "outputId": "97748468-d588-43a1-c317-382de2675372"
      },
      "execution_count": 60,
      "outputs": [
        {
          "output_type": "execute_result",
          "data": {
            "text/plain": [
              "2"
            ]
          },
          "metadata": {},
          "execution_count": 60
        }
      ]
    },
    {
      "cell_type": "code",
      "source": [
        "# Brush up on lists\n",
        "lst = [1, 2, 3, 4, 5]\n",
        "print(lst)\n",
        "lst.append(7)\n",
        "print(lst)"
      ],
      "metadata": {
        "id": "gNFH9iqu-LdP",
        "colab": {
          "base_uri": "https://localhost:8080/"
        },
        "outputId": "ef87c757-4a55-4f5d-d506-9b34d1c2b8f6"
      },
      "execution_count": 70,
      "outputs": [
        {
          "output_type": "stream",
          "name": "stdout",
          "text": [
            "[1, 2, 3, 4, 5]\n",
            "[1, 2, 3, 4, 5, 7]\n"
          ]
        }
      ]
    },
    {
      "cell_type": "code",
      "source": [
        "# Method .insert()\n",
        "lst.insert(2, 9) # 2 -> position; 9 -> number\n",
        "print(lst)\n",
        "\n",
        "lst.insert(5, \"gee\") # 5 -> postion; str \"gee\" -> number\n",
        "print(lst)"
      ],
      "metadata": {
        "colab": {
          "base_uri": "https://localhost:8080/"
        },
        "id": "HZzys9VTlSDG",
        "outputId": "ae8ee94d-fcbe-4578-9668-665e277bc218"
      },
      "execution_count": 71,
      "outputs": [
        {
          "output_type": "stream",
          "name": "stdout",
          "text": [
            "[1, 2, 9, 3, 4, 5, 7]\n",
            "[1, 2, 9, 3, 4, 'gee', 5, 7]\n"
          ]
        }
      ]
    },
    {
      "cell_type": "code",
      "source": [
        "# Method .remove()\n",
        "lst.remove(9)\n",
        "lst"
      ],
      "metadata": {
        "colab": {
          "base_uri": "https://localhost:8080/"
        },
        "id": "CnhzKpteliU8",
        "outputId": "bb19429f-731d-430c-c428-6f6bc75bee77"
      },
      "execution_count": 72,
      "outputs": [
        {
          "output_type": "execute_result",
          "data": {
            "text/plain": [
              "[1, 2, 3, 4, 'gee', 5, 7]"
            ]
          },
          "metadata": {},
          "execution_count": 72
        }
      ]
    },
    {
      "cell_type": "markdown",
      "source": [
        "## List practice\n",
        "- remove the string \"gee\"\n",
        "\n",
        "- sort the lst"
      ],
      "metadata": {
        "id": "8_Q_6SEBoK4t"
      }
    },
    {
      "cell_type": "code",
      "source": [
        "lst\n",
        "lst.remove(\"gee\")\n",
        "lst.sort()\n",
        "lst"
      ],
      "metadata": {
        "colab": {
          "base_uri": "https://localhost:8080/"
        },
        "id": "9CdSYrJEmgkw",
        "outputId": "50b2b8f5-e1ab-4ea9-d764-7738281e71ff"
      },
      "execution_count": 73,
      "outputs": [
        {
          "output_type": "execute_result",
          "data": {
            "text/plain": [
              "[1, 2, 3, 4, 5, 7]"
            ]
          },
          "metadata": {},
          "execution_count": 73
        }
      ]
    },
    {
      "cell_type": "markdown",
      "source": [
        "# Tuple"
      ],
      "metadata": {
        "id": "qVppMhXCpnbi"
      }
    },
    {
      "cell_type": "code",
      "source": [
        "atuple = (1, 3, \"hey\", 3.4, 7)\n",
        "print(atuple)\n",
        "print(type(atuple))"
      ],
      "metadata": {
        "colab": {
          "base_uri": "https://localhost:8080/"
        },
        "id": "-mlfS7oom6aa",
        "outputId": "e7fa6d59-6204-4936-ba71-71d97aa70aaf"
      },
      "execution_count": 83,
      "outputs": [
        {
          "output_type": "stream",
          "name": "stdout",
          "text": [
            "(1, 3, 'hey', 3.4, 7)\n",
            "<class 'tuple'>\n"
          ]
        }
      ]
    },
    {
      "cell_type": "code",
      "source": [
        "# Tuples can be assinged without paranthesis (better to use them although)\n",
        "atuple = 3, 5, \"wow\", \"3.3\"\n",
        "print(atuple)\n",
        "print(type(atuple))"
      ],
      "metadata": {
        "colab": {
          "base_uri": "https://localhost:8080/"
        },
        "id": "PRAvFQSBq7J9",
        "outputId": "5111e525-32d6-468c-b8bc-8d1c973d1296"
      },
      "execution_count": 84,
      "outputs": [
        {
          "output_type": "stream",
          "name": "stdout",
          "text": [
            "(3, 5, 'wow', '3.3')\n",
            "<class 'tuple'>\n"
          ]
        }
      ]
    },
    {
      "cell_type": "code",
      "source": [
        "# Difference between lists and tuples (mutability)\n",
        "atuple = (3, 5, \"wow\", 3.3)\n",
        "alist = [3, 5, \"wow\", 3.3]"
      ],
      "metadata": {
        "id": "dbVaNeUjrDNH"
      },
      "execution_count": 86,
      "outputs": []
    },
    {
      "cell_type": "code",
      "source": [
        "alist[0] = 1000 # this is not possible for tuples\n",
        "print(alist)"
      ],
      "metadata": {
        "colab": {
          "base_uri": "https://localhost:8080/"
        },
        "id": "dVBOr5bJr8vO",
        "outputId": "e1f70657-f223-4248-e18c-fe9fe95d9bed"
      },
      "execution_count": 87,
      "outputs": [
        {
          "output_type": "stream",
          "name": "stdout",
          "text": [
            "[1000, 5, 'wow', 3.3]\n"
          ]
        }
      ]
    },
    {
      "cell_type": "markdown",
      "source": [
        "# Boolean"
      ],
      "metadata": {
        "id": "OntWdrzItHF5"
      }
    },
    {
      "cell_type": "code",
      "source": [
        ""
      ],
      "metadata": {
        "id": "UpGzUn9GsV8t"
      },
      "execution_count": null,
      "outputs": []
    }
  ]
}