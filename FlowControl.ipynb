{
  "nbformat": 4,
  "nbformat_minor": 0,
  "metadata": {
    "colab": {
      "name": "FlowControl.ipynb",
      "provenance": [],
      "collapsed_sections": [],
      "toc_visible": true,
      "authorship_tag": "ABX9TyOebPesK1/AZfLidiCHMq8K",
      "include_colab_link": true
    },
    "kernelspec": {
      "name": "python3",
      "display_name": "Python 3"
    },
    "language_info": {
      "name": "python"
    }
  },
  "cells": [
    {
      "cell_type": "markdown",
      "metadata": {
        "id": "view-in-github",
        "colab_type": "text"
      },
      "source": [
        "<a href=\"https://colab.research.google.com/github/vera-rykalina/DeepLearning-MXC/blob/main/FlowControl.ipynb\" target=\"_parent\"><img src=\"https://colab.research.google.com/assets/colab-badge.svg\" alt=\"Open In Colab\"/></a>"
      ]
    },
    {
      "cell_type": "markdown",
      "source": [
        "# Introduction to Python for Deep Learning - Flow Control"
      ],
      "metadata": {
        "id": "O5MzqKqShJVh"
      }
    },
    {
      "cell_type": "markdown",
      "source": [
        "# IF Statement"
      ],
      "metadata": {
        "id": "Bqh6kGbahciq"
      }
    },
    {
      "cell_type": "code",
      "source": [
        "# Import libraries\n",
        "import numpy as np"
      ],
      "metadata": {
        "id": "pCoXxieujf-O"
      },
      "execution_count": 7,
      "outputs": []
    },
    {
      "cell_type": "code",
      "source": [
        "# Conditional\n",
        "if True:\n",
        "  print(\"This is true!\")"
      ],
      "metadata": {
        "id": "7O9seaGEFaH7",
        "colab": {
          "base_uri": "https://localhost:8080/"
        },
        "outputId": "21e44230-e445-48b1-d0c8-865130fe82d9"
      },
      "execution_count": 2,
      "outputs": [
        {
          "output_type": "stream",
          "name": "stdout",
          "text": [
            "This is true!\n"
          ]
        }
      ]
    },
    {
      "cell_type": "code",
      "source": [
        "# Conditional\n",
        "if False:\n",
        "  print(\"This is false!\") # not printed\n",
        "print(\"This is outside of if-statement and being printed\")"
      ],
      "metadata": {
        "colab": {
          "base_uri": "https://localhost:8080/"
        },
        "id": "a6JHyTFBiIy4",
        "outputId": "81c0a590-70d4-4153-adb8-d605725828c7"
      },
      "execution_count": 5,
      "outputs": [
        {
          "output_type": "stream",
          "name": "stdout",
          "text": [
            "This is outside of if-statement and being printed\n"
          ]
        }
      ]
    },
    {
      "cell_type": "code",
      "source": [
        "x = 6\n",
        "if x == 6:\n",
        "  print(\"You are done for today!\")"
      ],
      "metadata": {
        "colab": {
          "base_uri": "https://localhost:8080/"
        },
        "id": "IYWe-4XPiRVQ",
        "outputId": "bbc160be-f64c-4e32-8a3d-7eadcb70d002"
      },
      "execution_count": 6,
      "outputs": [
        {
          "output_type": "stream",
          "name": "stdout",
          "text": [
            "You are done for today!\n"
          ]
        }
      ]
    },
    {
      "cell_type": "markdown",
      "source": [
        "## IF with ELSE"
      ],
      "metadata": {
        "id": "QXF-x_8Ak9f0"
      }
    },
    {
      "cell_type": "code",
      "source": [
        "s = np.random.randn()\n",
        "if s > 0:\n",
        "  print(f\"This number s = {s} is greater than zero.\")\n",
        "else:\n",
        "  print(f\"This number s = {s} is less than zero.\")"
      ],
      "metadata": {
        "colab": {
          "base_uri": "https://localhost:8080/"
        },
        "id": "AhledNiWjJTY",
        "outputId": "723969b2-a42a-4292-9ea0-c08f627093a1"
      },
      "execution_count": 12,
      "outputs": [
        {
          "output_type": "stream",
          "name": "stdout",
          "text": [
            "This number s = -0.03515704981929236 is less than zero.\n"
          ]
        }
      ]
    },
    {
      "cell_type": "markdown",
      "source": [
        "## More elegant code"
      ],
      "metadata": {
        "id": "PDK-4PM_lErz"
      }
    },
    {
      "cell_type": "code",
      "source": [
        "s = np.random.randn()\n",
        "if s > 0:\n",
        "  result = \"positive\"\n",
        "else:\n",
        "  result = \"negative\"\n",
        "\n",
        "print(f\"The number is {result}.\")"
      ],
      "metadata": {
        "colab": {
          "base_uri": "https://localhost:8080/"
        },
        "id": "cHEXXAWrj0CA",
        "outputId": "f1ba1dae-19ab-4934-d6ed-5f8a1fbf4ad3"
      },
      "execution_count": 14,
      "outputs": [
        {
          "output_type": "stream",
          "name": "stdout",
          "text": [
            "The number is positive.\n"
          ]
        }
      ]
    },
    {
      "cell_type": "markdown",
      "source": [
        "## ELIF"
      ],
      "metadata": {
        "id": "xpNcnIqNl-bH"
      }
    },
    {
      "cell_type": "code",
      "source": [
        "pie = \"lemon\"\n",
        "\n",
        "if pie == \"lemon\":\n",
        "  print(\"Yummi!\")\n",
        "elif pie == \"choko\":\n",
        "  print(\"Tastes great as well!\")\n",
        "elif pie == \"fruit\":\n",
        "  print(\"It is very healty!\")\n",
        "else:\n",
        "  print(\"Let me try it, please!\")"
      ],
      "metadata": {
        "colab": {
          "base_uri": "https://localhost:8080/"
        },
        "id": "m0TMG0Gqls8D",
        "outputId": "e729e3e2-c9bf-44f4-96f9-27b4dc215c0d"
      },
      "execution_count": 20,
      "outputs": [
        {
          "output_type": "stream",
          "name": "stdout",
          "text": [
            "Yummi!\n"
          ]
        }
      ]
    },
    {
      "cell_type": "code",
      "source": [
        ""
      ],
      "metadata": {
        "id": "o3hytOz7mHrM"
      },
      "execution_count": null,
      "outputs": []
    }
  ]
}