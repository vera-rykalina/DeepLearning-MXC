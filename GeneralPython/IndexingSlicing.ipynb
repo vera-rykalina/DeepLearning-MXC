{
  "nbformat": 4,
  "nbformat_minor": 0,
  "metadata": {
    "colab": {
      "name": "IndexingSlicing.ipynb",
      "provenance": [],
      "toc_visible": true,
      "authorship_tag": "ABX9TyOVrKSx01sA7HL0d8ygh/yd",
      "include_colab_link": true
    },
    "kernelspec": {
      "name": "python3",
      "display_name": "Python 3"
    },
    "language_info": {
      "name": "python"
    }
  },
  "cells": [
    {
      "cell_type": "markdown",
      "metadata": {
        "id": "view-in-github",
        "colab_type": "text"
      },
      "source": [
        "<a href=\"https://colab.research.google.com/github/vera-rykalina/PythonIntroDeepLearning/blob/main/IndexingSlicing.ipynb\" target=\"_parent\"><img src=\"https://colab.research.google.com/assets/colab-badge.svg\" alt=\"Open In Colab\"/></a>"
      ]
    },
    {
      "cell_type": "markdown",
      "source": [
        "# Introduction to Python for Deep Learning - Indexing and Slicing "
      ],
      "metadata": {
        "id": "5T5OBdl_ikJF"
      }
    },
    {
      "cell_type": "markdown",
      "source": [
        "# Indexing"
      ],
      "metadata": {
        "id": "GTwV7rP1jmY0"
      }
    },
    {
      "cell_type": "markdown",
      "source": [
        "## Indexing for a single element"
      ],
      "metadata": {
        "id": "UjiO4CZmmh6J"
      }
    },
    {
      "cell_type": "code",
      "execution_count": 3,
      "metadata": {
        "colab": {
          "base_uri": "https://localhost:8080/"
        },
        "id": "xM72c7Duf7_U",
        "outputId": "036a1b49-a7f9-430c-f943-56f9a06ccc78"
      },
      "outputs": [
        {
          "output_type": "stream",
          "name": "stdout",
          "text": [
            "[100, -34, 23, 'bee', 2.3]\n"
          ]
        }
      ],
      "source": [
        "list_1 = [100, -34, 23 ,\"bee\", 2.3]\n",
        "print(list_1)"
      ]
    },
    {
      "cell_type": "code",
      "source": [
        "# Indexing\n",
        "list_1[0] # returns the first element of the list"
      ],
      "metadata": {
        "colab": {
          "base_uri": "https://localhost:8080/"
        },
        "id": "lcsxF5gSj2Zj",
        "outputId": "1d343555-c021-4ebe-91c9-e7745ab24100"
      },
      "execution_count": 4,
      "outputs": [
        {
          "output_type": "execute_result",
          "data": {
            "text/plain": [
              "100"
            ]
          },
          "metadata": {},
          "execution_count": 4
        }
      ]
    },
    {
      "cell_type": "code",
      "source": [
        "idx = 3.0\n",
        "list_1[int(idx)]"
      ],
      "metadata": {
        "colab": {
          "base_uri": "https://localhost:8080/",
          "height": 35
        },
        "id": "Dlgda6RikEml",
        "outputId": "62e31e1f-5914-4c68-e33c-49eeaf77cd2b"
      },
      "execution_count": 5,
      "outputs": [
        {
          "output_type": "execute_result",
          "data": {
            "text/plain": [
              "'bee'"
            ],
            "application/vnd.google.colaboratory.intrinsic+json": {
              "type": "string"
            }
          },
          "metadata": {},
          "execution_count": 5
        }
      ]
    },
    {
      "cell_type": "code",
      "source": [
        "# Getting the last element of the list\n",
        "print(list_1[-1])\n",
        "# OR\n",
        "print(list_1[len(list_1)-1])"
      ],
      "metadata": {
        "colab": {
          "base_uri": "https://localhost:8080/"
        },
        "id": "f6CJW-s-kt3y",
        "outputId": "f8ba8698-b350-40b4-88b1-da2fd35d102d"
      },
      "execution_count": 8,
      "outputs": [
        {
          "output_type": "stream",
          "name": "stdout",
          "text": [
            "2.3\n",
            "2.3\n"
          ]
        }
      ]
    },
    {
      "cell_type": "markdown",
      "source": [
        "## Indexing of embedded lists"
      ],
      "metadata": {
        "id": "56A4ffBml_F9"
      }
    },
    {
      "cell_type": "code",
      "source": [
        "list_2 = [100, [1, 2, 3, 4], -34, 23 ,\"bee\", 2.3]\n",
        "print(list_2)"
      ],
      "metadata": {
        "colab": {
          "base_uri": "https://localhost:8080/"
        },
        "id": "bz92TQBVk56I",
        "outputId": "d753702f-4cb6-48bb-e69b-419bbd2e5a66"
      },
      "execution_count": 9,
      "outputs": [
        {
          "output_type": "stream",
          "name": "stdout",
          "text": [
            "[100, [1, 2, 3, 4], -34, 23, 'bee', 2.3]\n"
          ]
        }
      ]
    },
    {
      "cell_type": "code",
      "source": [
        "# Getting number 4\n",
        "list_2[1][3]"
      ],
      "metadata": {
        "colab": {
          "base_uri": "https://localhost:8080/"
        },
        "id": "I-n0QzDZnIfw",
        "outputId": "c19e2faa-d668-4027-bec2-7318c04fd4ad"
      },
      "execution_count": 10,
      "outputs": [
        {
          "output_type": "execute_result",
          "data": {
            "text/plain": [
              "4"
            ]
          },
          "metadata": {},
          "execution_count": 10
        }
      ]
    },
    {
      "cell_type": "markdown",
      "source": [
        "## Practice"
      ],
      "metadata": {
        "id": "fZ2B6nlpnzhN"
      }
    },
    {
      "cell_type": "markdown",
      "source": [
        "Nested list\n",
        "- get the attribute of Penguin from this list"
      ],
      "metadata": {
        "id": "LFQ1CkJXofv_"
      }
    },
    {
      "cell_type": "code",
      "source": [
        "nested_list = [4, \"hi\", [5, 4, 3], \"yo\", {\"Squirrel\": \"cute\", \"Penguin\": \"yummy\"}]\n",
        "print(nested_list)"
      ],
      "metadata": {
        "colab": {
          "base_uri": "https://localhost:8080/"
        },
        "id": "VmRQNARbnWbN",
        "outputId": "6ce4a581-c752-4108-fe51-41fb10bda5fd"
      },
      "execution_count": 13,
      "outputs": [
        {
          "output_type": "stream",
          "name": "stdout",
          "text": [
            "[4, 'hi', [5, 4, 3], 'yo', {'Squirrel': 'cute', 'Penguin': 'yummy'}]\n"
          ]
        }
      ]
    },
    {
      "cell_type": "code",
      "source": [
        "nested_list[-1][\"Penguin\"]"
      ],
      "metadata": {
        "colab": {
          "base_uri": "https://localhost:8080/",
          "height": 35
        },
        "id": "UTTBF8TloQAV",
        "outputId": "bbf191a9-5a93-48f1-bd43-eec42df89772"
      },
      "execution_count": 17,
      "outputs": [
        {
          "output_type": "execute_result",
          "data": {
            "text/plain": [
              "'yummy'"
            ],
            "application/vnd.google.colaboratory.intrinsic+json": {
              "type": "string"
            }
          },
          "metadata": {},
          "execution_count": 17
        }
      ]
    },
    {
      "cell_type": "markdown",
      "source": [
        "# Slicing"
      ],
      "metadata": {
        "id": "uCt3If2Mskuj"
      }
    },
    {
      "cell_type": "code",
      "source": [
        "# Range generator\n",
        "x = range(7,17)\n",
        "print(x)\n",
        "print(type(x))"
      ],
      "metadata": {
        "colab": {
          "base_uri": "https://localhost:8080/"
        },
        "id": "yslDq3WOoSlf",
        "outputId": "d7b7578f-0a28-40a4-b4f2-425dd82221ac"
      },
      "execution_count": 21,
      "outputs": [
        {
          "output_type": "stream",
          "name": "stdout",
          "text": [
            "range(7, 17)\n",
            "<class 'range'>\n"
          ]
        },
        {
          "output_type": "execute_result",
          "data": {
            "text/plain": [
              "range(7, 17)"
            ]
          },
          "metadata": {},
          "execution_count": 21
        }
      ]
    },
    {
      "cell_type": "code",
      "source": [
        "# Starts at 7 up to but not including 17\n",
        "y = list(x) # converts to a list\n",
        "print(y)"
      ],
      "metadata": {
        "colab": {
          "base_uri": "https://localhost:8080/"
        },
        "id": "yWnojSTrtSCh",
        "outputId": "894bdeb6-e6d2-4273-9710-c0665b875139"
      },
      "execution_count": 24,
      "outputs": [
        {
          "output_type": "stream",
          "name": "stdout",
          "text": [
            "[7, 8, 9, 10, 11, 12, 13, 14, 15, 16]\n"
          ]
        }
      ]
    },
    {
      "cell_type": "markdown",
      "source": [
        "## Without step"
      ],
      "metadata": {
        "id": "_XKa2sfz2e8p"
      }
    },
    {
      "cell_type": "code",
      "source": [
        "y[0:3] # excludes element at index 3"
      ],
      "metadata": {
        "colab": {
          "base_uri": "https://localhost:8080/"
        },
        "id": "wWkclGaEt6cB",
        "outputId": "65a0ef31-fc58-4666-ca83-384cb5cf77a9"
      },
      "execution_count": 25,
      "outputs": [
        {
          "output_type": "execute_result",
          "data": {
            "text/plain": [
              "[7, 8, 9]"
            ]
          },
          "metadata": {},
          "execution_count": 25
        }
      ]
    },
    {
      "cell_type": "code",
      "source": [
        "y[3:]  # starts at index 3 and returns all elements up to the end of the list"
      ],
      "metadata": {
        "colab": {
          "base_uri": "https://localhost:8080/"
        },
        "id": "H4pcwUIMuKiH",
        "outputId": "d981a99c-a216-4895-8e9d-a15fdf01c2f4"
      },
      "execution_count": 27,
      "outputs": [
        {
          "output_type": "execute_result",
          "data": {
            "text/plain": [
              "[10, 11, 12, 13, 14, 15, 16]"
            ]
          },
          "metadata": {},
          "execution_count": 27
        }
      ]
    },
    {
      "cell_type": "markdown",
      "source": [
        "## With step"
      ],
      "metadata": {
        "id": "zBmDAC9k2mdX"
      }
    },
    {
      "cell_type": "code",
      "source": [
        "# Getting all odd numbers\n",
        "y[: : 2] # step is equal to 2"
      ],
      "metadata": {
        "colab": {
          "base_uri": "https://localhost:8080/"
        },
        "id": "5_RpIZBtuhEI",
        "outputId": "f741f959-c97a-4fff-9db1-17515113b944"
      },
      "execution_count": 29,
      "outputs": [
        {
          "output_type": "execute_result",
          "data": {
            "text/plain": [
              "[7, 9, 11, 13, 15]"
            ]
          },
          "metadata": {},
          "execution_count": 29
        }
      ]
    },
    {
      "cell_type": "code",
      "source": [
        "# Getting all even numbers\n",
        "y[1: : 2] # step is equal to 2"
      ],
      "metadata": {
        "colab": {
          "base_uri": "https://localhost:8080/"
        },
        "id": "paAzAzUjvEZL",
        "outputId": "400c0408-8ba3-4cb0-d8c7-a5e7831d96cb"
      },
      "execution_count": 30,
      "outputs": [
        {
          "output_type": "execute_result",
          "data": {
            "text/plain": [
              "[8, 10, 12, 14, 16]"
            ]
          },
          "metadata": {},
          "execution_count": 30
        }
      ]
    },
    {
      "cell_type": "code",
      "source": [
        "# sequence [start:stop[:step]]start = 1\n",
        "start = 1\n",
        "stop = 7\n",
        "step = 2\n",
        "y[start : stop : step]"
      ],
      "metadata": {
        "colab": {
          "base_uri": "https://localhost:8080/"
        },
        "id": "PECxbXI-zUCo",
        "outputId": "a8c48be7-e1e1-48e4-fdc5-b0528f27fbed"
      },
      "execution_count": 39,
      "outputs": [
        {
          "output_type": "execute_result",
          "data": {
            "text/plain": [
              "[8, 10, 12]"
            ]
          },
          "metadata": {},
          "execution_count": 39
        }
      ]
    },
    {
      "cell_type": "markdown",
      "source": [
        "## Reversing lists"
      ],
      "metadata": {
        "id": "foprkA0d2N_K"
      }
    },
    {
      "cell_type": "code",
      "source": [
        "y[: : -1]"
      ],
      "metadata": {
        "colab": {
          "base_uri": "https://localhost:8080/"
        },
        "id": "OdTMPCWDznXR",
        "outputId": "c031ee44-21b8-411d-f828-dc1c87ea94e8"
      },
      "execution_count": 40,
      "outputs": [
        {
          "output_type": "execute_result",
          "data": {
            "text/plain": [
              "[16, 15, 14, 13, 12, 11, 10, 9, 8, 7]"
            ]
          },
          "metadata": {},
          "execution_count": 40
        }
      ]
    },
    {
      "cell_type": "markdown",
      "source": [
        "## Practice"
      ],
      "metadata": {
        "id": "8KNl2BsY2rHU"
      }
    },
    {
      "cell_type": "markdown",
      "source": [
        "Get a hidden message\n",
        "\n",
        "- use slicing to write \"Vera is a nice girl\" from the list textl"
      ],
      "metadata": {
        "id": "s9lxDWOe2z6C"
      }
    },
    {
      "cell_type": "code",
      "source": [
        "mystring = \"Vera is a nice girl\"\n",
        "print(mystring)"
      ],
      "metadata": {
        "colab": {
          "base_uri": "https://localhost:8080/"
        },
        "id": "z2V06CedfSRJ",
        "outputId": "883dc3e3-cb61-435a-f706-abeac910a7a0"
      },
      "execution_count": 6,
      "outputs": [
        {
          "output_type": "stream",
          "name": "stdout",
          "text": [
            "Vera is a nice girl\n"
          ]
        }
      ]
    },
    {
      "cell_type": "code",
      "source": [
        "rev_string = \"\"\n",
        "for i in mystring:\n",
        "  rev_string = i + rev_string\n",
        "print(rev_string)"
      ],
      "metadata": {
        "colab": {
          "base_uri": "https://localhost:8080/"
        },
        "id": "mrcuRScMfGUY",
        "outputId": "42a978dd-d5d4-40eb-9098-70444cc6ba56"
      },
      "execution_count": 8,
      "outputs": [
        {
          "output_type": "stream",
          "name": "stdout",
          "text": [
            "lrig ecin a si areV\n"
          ]
        }
      ]
    },
    {
      "cell_type": "code",
      "source": [
        "text = \"erer23232lrig ecin a si areV df24 ddddf2\"\n",
        "print(text)"
      ],
      "metadata": {
        "colab": {
          "base_uri": "https://localhost:8080/"
        },
        "id": "m6KDjvBPz2Xf",
        "outputId": "be40a141-a577-4d02-d08a-21c9399b49fe"
      },
      "execution_count": 10,
      "outputs": [
        {
          "output_type": "stream",
          "name": "stdout",
          "text": [
            "erer23232lrig ecin a si areV df24 ddddf2\n"
          ]
        }
      ]
    },
    {
      "cell_type": "code",
      "source": [
        "myslice = text[9:28]\n",
        "myslice[::-1]"
      ],
      "metadata": {
        "colab": {
          "base_uri": "https://localhost:8080/",
          "height": 35
        },
        "id": "zg_UFfnn3WLQ",
        "outputId": "7af791a3-6392-4965-f9e5-23fa32535e00"
      },
      "execution_count": 21,
      "outputs": [
        {
          "output_type": "execute_result",
          "data": {
            "text/plain": [
              "'Vera is a nice girl'"
            ],
            "application/vnd.google.colaboratory.intrinsic+json": {
              "type": "string"
            }
          },
          "metadata": {},
          "execution_count": 21
        }
      ]
    },
    {
      "cell_type": "code",
      "source": [
        "# Alternatively\n",
        "text[-13:8:-1]"
      ],
      "metadata": {
        "colab": {
          "base_uri": "https://localhost:8080/",
          "height": 35
        },
        "id": "PLoiJJ2YhV8J",
        "outputId": "f4964489-f713-4369-8597-f8c3a9a952a9"
      },
      "execution_count": 24,
      "outputs": [
        {
          "output_type": "execute_result",
          "data": {
            "text/plain": [
              "'Vera is a nice girl'"
            ],
            "application/vnd.google.colaboratory.intrinsic+json": {
              "type": "string"
            }
          },
          "metadata": {},
          "execution_count": 24
        }
      ]
    }
  ]
}
