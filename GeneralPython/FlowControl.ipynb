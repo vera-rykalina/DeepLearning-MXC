{
  "nbformat": 4,
  "nbformat_minor": 0,
  "metadata": {
    "colab": {
      "name": "FlowControl.ipynb",
      "provenance": [],
      "authorship_tag": "ABX9TyNOvrin+CMUZZ2qMJ5f1HZx",
      "include_colab_link": true
    },
    "kernelspec": {
      "name": "python3",
      "display_name": "Python 3"
    },
    "language_info": {
      "name": "python"
    }
  },
  "cells": [
    {
      "cell_type": "markdown",
      "metadata": {
        "id": "view-in-github",
        "colab_type": "text"
      },
      "source": [
        "<a href=\"https://colab.research.google.com/github/vera-rykalina/DeepLearning-MXC/blob/main/GeneralPython/FlowControl.ipynb\" target=\"_parent\"><img src=\"https://colab.research.google.com/assets/colab-badge.svg\" alt=\"Open In Colab\"/></a>"
      ]
    },
    {
      "cell_type": "markdown",
      "source": [
        "# Introduction to Python for Deep Learning - Flow Control"
      ],
      "metadata": {
        "id": "O5MzqKqShJVh"
      }
    },
    {
      "cell_type": "code",
      "execution_count": null,
      "metadata": {
        "id": "9kBx-kx6g-vK"
      },
      "outputs": [],
      "source": [
        ""
      ]
    }
  ]
}